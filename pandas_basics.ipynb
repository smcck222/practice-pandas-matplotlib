{
 "cells": [
  {
   "cell_type": "markdown",
   "metadata": {},
   "source": [
    "Reference: [The Ultimate Pandas Bootcamp Advanced Python Data Analysis](https://eylearning.udemy.com/course/the-ultimate-pandas-bootcamp-advanced-python-data-analysis/learn/lecture/19905576)\n",
    "\n",
    "Notes: \n",
    "\n",
    "- Numpy - numerical python\n",
    "- N-dimensional array - basic data structure in numpy"
   ]
  },
  {
   "cell_type": "markdown",
   "metadata": {},
   "source": [
    "## Libraries"
   ]
  },
  {
   "cell_type": "code",
   "execution_count": 3,
   "metadata": {},
   "outputs": [
    {
     "data": {
      "text/plain": [
       "'1.5.0'"
      ]
     },
     "execution_count": 3,
     "metadata": {},
     "output_type": "execute_result"
    }
   ],
   "source": [
    "import pandas as pd\n",
    "import numpy as np\n",
    "\n",
    "pd.__version__"
   ]
  },
  {
   "cell_type": "markdown",
   "metadata": {},
   "source": [
    "## Numpy"
   ]
  },
  {
   "cell_type": "code",
   "execution_count": 10,
   "metadata": {},
   "outputs": [
    {
     "data": {
      "text/plain": [
       "dtype('int32')"
      ]
     },
     "execution_count": 10,
     "metadata": {},
     "output_type": "execute_result"
    }
   ],
   "source": [
    "alist = [1,2,3,4]\n",
    "n_array_alist = np.array(alist)\n",
    "\n",
    "# Very fast operations wtih numpy arrays - if you want to multiply by 10 for example\n",
    "# Similarly there are many other such universal functions or ufuncs\n",
    "\n",
    "n_array_alist * 10\n",
    "\n",
    "# Python lists store the locations of the data and numpy arrays store the data in contiguous blocks in memory.\n",
    "# Trade off: You can only store one data type in numpy arrays.\n",
    "# Numpy does implicit upcasting if it for example recognises that the datatype is float for any of the data\n",
    "# Lists on the other hand can store different datatypes in the same list. The lists themselves only store the pointers to the data in memory and not the actual data.\n",
    "\n",
    "n_array_alist.dtype\n"
   ]
  },
  {
   "cell_type": "markdown",
   "metadata": {},
   "source": [
    "## Series"
   ]
  },
  {
   "cell_type": "markdown",
   "metadata": {},
   "source": [
    "### Basics"
   ]
  },
  {
   "cell_type": "code",
   "execution_count": 32,
   "metadata": {},
   "outputs": [
    {
     "data": {
      "text/plain": [
       "Index\n",
       "0    A\n",
       "1    B\n",
       "2    C\n",
       "Name: Student Names, dtype: object"
      ]
     },
     "execution_count": 32,
     "metadata": {},
     "output_type": "execute_result"
    }
   ],
   "source": [
    "# A Series is a sequence of values with associated labels\n",
    "\n",
    "students = ['A', 'B', 'C']\n",
    "ages = [10,20,30]\n",
    "heights = [140.5, 160.6, 170.5]\n",
    "\n",
    "students_ls = pd.Series(students)  # Pandas automatically infers the datatype of the Series\n",
    "\n",
    "mixed = ['A', 10, 15.5] \n",
    "pd.Series(mixed)    # Pandas Series can hold multiple datatypes, unlike numpy arrays\n",
    "\n",
    "students_dict = {0:'A', 1:'B', 2:'C'}\n",
    "students_ds = pd.Series(students_dict)\n",
    "\n",
    "students_ls.equals(students_ds) # These two are equal. Python lists are ordered datatypes and that is preseved in the Series\n",
    "\n",
    "# You can also create single item series \n",
    "pd.Series(31) # Pandas automatically creates the 0 based index here\n",
    "\n",
    "# You can also specify the datatype, although pandas does automatically infer it\n",
    "pd.Series(ages, dtype = 'float')\n",
    "# Pandas automatically infers the dtype of strings as 'object' or dtype 'o'\n",
    "# Strings are variable length, unlike for example int which is a fixed length\n",
    "# So numpy stores a pointer to the location of the strings i.e. obj references \n",
    "\n",
    "# You can create your own index for a pandas Series, with the index parameter, or even if you don't specify index, pandas will recognise it as a positional argument\n",
    "pd.Series(students, index = [2,3,4])\n",
    "\n",
    "# There is also a string dtype in pandas 1.0.1 and above\n",
    "\n",
    "students_ls.index # RangeIndex(start=0, stop=3. step=1)\n",
    "# You can also create your own RangeIndex \n",
    "\n",
    "list(pd.RangeIndex(start=4, stop=11, step=1)) # RangeIndex is immuatable\n",
    "\n",
    "# An attribute is a variable bound to the object, a method is a function bound to the object. \n",
    "# .equals() is a method \n",
    "# .dtype is an attribute \n",
    "\n",
    "students_ls.name # This is NULL unless you set it\n",
    "\n",
    "students_ls.name = 'Student Names'\n",
    "students_ls\n",
    "# This name attribute later becomes the column names in a dataframe\n",
    "\n",
    "# You can also name the index \n",
    "students_ls.index.name = 'Index'\n",
    "students_ls"
   ]
  },
  {
   "cell_type": "markdown",
   "metadata": {},
   "source": [
    "### Indexing"
   ]
  },
  {
   "cell_type": "markdown",
   "metadata": {},
   "source": [
    "#### head() tail()"
   ]
  },
  {
   "cell_type": "code",
   "execution_count": 44,
   "metadata": {},
   "outputs": [
    {
     "data": {
      "text/plain": [
       "0      0\n",
       "1      1\n",
       "2      2\n",
       "3      3\n",
       "4      4\n",
       "5      5\n",
       "6      6\n",
       "7      7\n",
       "8      8\n",
       "9      9\n",
       "10    10\n",
       "11    11\n",
       "12    12\n",
       "13    13\n",
       "14    14\n",
       "15    15\n",
       "16    16\n",
       "17    17\n",
       "18    18\n",
       "19    19\n",
       "20    20\n",
       "21    21\n",
       "22    22\n",
       "23    23\n",
       "24    24\n",
       "25    25\n",
       "26    26\n",
       "27    27\n",
       "28    28\n",
       "29    29\n",
       "30    30\n",
       "31    31\n",
       "32    32\n",
       "33    33\n",
       "34    34\n",
       "35    35\n",
       "36    36\n",
       "37    37\n",
       "38    38\n",
       "39    39\n",
       "40    40\n",
       "41    41\n",
       "42    42\n",
       "43    43\n",
       "44    44\n",
       "45    45\n",
       "46    46\n",
       "47    47\n",
       "48    48\n",
       "49    49\n",
       "50    50\n",
       "51    51\n",
       "52    52\n",
       "53    53\n",
       "54    54\n",
       "55    55\n",
       "56    56\n",
       "57    57\n",
       "58    58\n",
       "59    59\n",
       "dtype: int64"
      ]
     },
     "execution_count": 44,
     "metadata": {},
     "output_type": "execute_result"
    }
   ],
   "source": [
    "int_series = pd.Series(range(0,60))\n",
    "int_series"
   ]
  },
  {
   "cell_type": "code",
   "execution_count": 56,
   "metadata": {},
   "outputs": [
    {
     "data": {
      "text/plain": [
       "50    50\n",
       "51    51\n",
       "52    52\n",
       "53    53\n",
       "54    54\n",
       "55    55\n",
       "56    56\n",
       "57    57\n",
       "58    58\n",
       "59    59\n",
       "dtype: int64"
      ]
     },
     "execution_count": 56,
     "metadata": {},
     "output_type": "execute_result"
    }
   ],
   "source": [
    "int_series.size # size attribute to return the length of the Series \n",
    "int_series.head(n=10)\n",
    "int_series.head()  # Default n=5\n",
    "int_series.head(10)\n",
    "int_series.tail(n=10)"
   ]
  },
  {
   "cell_type": "markdown",
   "metadata": {},
   "source": [
    "#### Extracting by Index Position & Labels"
   ]
  },
  {
   "cell_type": "code",
   "execution_count": 68,
   "metadata": {},
   "outputs": [
    {
     "data": {
      "text/plain": [
       "0     a\n",
       "1     b\n",
       "2     c\n",
       "3     d\n",
       "4     e\n",
       "5     f\n",
       "6     g\n",
       "7     h\n",
       "8     i\n",
       "9     j\n",
       "10    k\n",
       "11    l\n",
       "12    m\n",
       "13    n\n",
       "14    o\n",
       "15    p\n",
       "16    q\n",
       "17    r\n",
       "18    s\n",
       "19    t\n",
       "20    u\n",
       "21    v\n",
       "22    w\n",
       "23    x\n",
       "24    y\n",
       "25    z\n",
       "dtype: object"
      ]
     },
     "execution_count": 68,
     "metadata": {},
     "output_type": "execute_result"
    }
   ],
   "source": [
    "from string import ascii_lowercase, ascii_uppercase\n",
    "\n",
    "alphabet = pd.Series(list(ascii_lowercase))\n",
    "alphabet"
   ]
  },
  {
   "cell_type": "code",
   "execution_count": 67,
   "metadata": {},
   "outputs": [
    {
     "data": {
      "text/plain": [
       "0     a\n",
       "1     b\n",
       "2     c\n",
       "3     d\n",
       "4     e\n",
       "5     f\n",
       "6     g\n",
       "7     h\n",
       "8     i\n",
       "9     j\n",
       "10    k\n",
       "11    l\n",
       "12    m\n",
       "13    n\n",
       "14    o\n",
       "15    p\n",
       "16    q\n",
       "17    r\n",
       "18    s\n",
       "19    t\n",
       "dtype: object"
      ]
     },
     "execution_count": 67,
     "metadata": {},
     "output_type": "execute_result"
    }
   ],
   "source": [
    "# How do you access the elements in the Series?\n",
    "\n",
    "alphabet[0]     # First letter \n",
    "alphabet[10]    # 11th letter \n",
    "alphabet[:3]    # First 3 letters\n",
    "alphabet[5:10]  # Sixth through the 10th letter\n",
    "alphabet[-6:]   # Last 6 letters\n",
    "alphabet[:-6]   # Letters until the last 6\n"
   ]
  },
  {
   "cell_type": "code",
   "execution_count": 79,
   "metadata": {},
   "outputs": [
    {
     "data": {
      "text/plain": [
       "label_A    a\n",
       "label_B    b\n",
       "label_C    c\n",
       "dtype: object"
      ]
     },
     "execution_count": 79,
     "metadata": {},
     "output_type": "execute_result"
    }
   ],
   "source": [
    "# Uppercase letters as the index, lowercase as the elements in the Series \n",
    "\n",
    "labelled_alphabet = pd.Series(data=list(ascii_lowercase), index=map(lambda x: 'label_' + x, list(ascii_uppercase)))\n",
    "labelled_alphabet\n",
    "\n",
    "labelled_alphabet = pd.Series(data=list(ascii_lowercase), index = ['label_' + x for x in list(ascii_uppercase)])\n",
    "labelled_alphabet\n",
    "\n",
    "labelled_alphabet['label_A'] # You can also extract using the index label\n",
    "labelled_alphabet[:'label_C'] # In label based indexing, the last label is also included, unlike positional indexing"
   ]
  },
  {
   "cell_type": "code",
   "execution_count": 90,
   "metadata": {},
   "outputs": [
    {
     "data": {
      "text/plain": [
       "label_0     a\n",
       "label_1     b\n",
       "label_2     c\n",
       "label_3     d\n",
       "label_4     e\n",
       "label_5     f\n",
       "label_6     g\n",
       "label_7     h\n",
       "label_8     i\n",
       "label_9     j\n",
       "label_10    k\n",
       "label_11    l\n",
       "label_12    m\n",
       "label_13    n\n",
       "label_14    o\n",
       "label_15    p\n",
       "label_16    q\n",
       "label_17    r\n",
       "label_18    s\n",
       "label_19    t\n",
       "label_20    u\n",
       "label_21    v\n",
       "label_22    w\n",
       "label_23    x\n",
       "label_24    y\n",
       "label_25    z\n",
       "dtype: object"
      ]
     },
     "execution_count": 90,
     "metadata": {},
     "output_type": "execute_result"
    }
   ],
   "source": [
    "alphabet.add_prefix('label_') # Adds a prefix to the label index \n",
    "alphabet.add_suffix('_label') # Similarly adds a suffix to the label index \n",
    "# These methods return a new series, the original Series is not modified by calling the method \n",
    "# You need to reassign to modify the original Series \n",
    "\n",
    "alphabet = alphabet.add_prefix('label_') # This modifies the original Series"
   ]
  },
  {
   "cell_type": "code",
   "execution_count": 91,
   "metadata": {},
   "outputs": [
    {
     "data": {
      "text/plain": [
       "'b'"
      ]
     },
     "execution_count": 91,
     "metadata": {},
     "output_type": "execute_result"
    }
   ],
   "source": [
    "# We're using the dot notation to call methods on Series \n",
    "# You can also use the dot notation to access elements in a Series with the label index\n",
    "\n",
    "alphabet.label_1"
   ]
  },
  {
   "cell_type": "markdown",
   "metadata": {},
   "source": [
    "#### loc and iloc\n",
    "\n",
    "* loc - label based indexing \n",
    "* iloc - position based indexing"
   ]
  },
  {
   "cell_type": "code",
   "execution_count": 98,
   "metadata": {},
   "outputs": [
    {
     "data": {
      "text/plain": [
       "Index\n",
       "0    A\n",
       "1    B\n",
       "2    C\n",
       "Name: Student Names, dtype: object"
      ]
     },
     "execution_count": 98,
     "metadata": {},
     "output_type": "execute_result"
    }
   ],
   "source": [
    "labelled_alphabet['label_F': 'label_J']\n",
    "labelled_alphabet.loc['label_F': 'label_J']\n",
    "# These two return the same thing, so what is the difference? .loc is faster and the more typical way to do it\n",
    "# Both of these support boolean masks \n",
    "\n",
    "students_ls # Bringing back the student series\n",
    "students_ls[[True, False, True]] # This is a boolean mask applied on the Series i.e. a list of boolean values that we pass to the Series\n",
    "students_ls.loc[[True, True, True]]\n",
    "# Boolean masks need to be the same size as the Series, else this will throw an error"
   ]
  },
  {
   "cell_type": "code",
   "execution_count": 100,
   "metadata": {},
   "outputs": [
    {
     "data": {
      "text/plain": [
       "label_A    a\n",
       "label_B    b\n",
       "label_C    c\n",
       "label_D    d\n",
       "label_E    e\n",
       "label_F    f\n",
       "label_G    g\n",
       "label_H    h\n",
       "label_I    i\n",
       "label_J    j\n",
       "label_K    k\n",
       "label_L    l\n",
       "label_M    m\n",
       "label_N    n\n",
       "label_O    o\n",
       "label_P    p\n",
       "label_Q    q\n",
       "label_R    r\n",
       "label_S    s\n",
       "label_T    t\n",
       "label_U    u\n",
       "label_V    v\n",
       "label_W    w\n",
       "label_X    x\n",
       "label_Y    y\n",
       "label_Z    z\n",
       "dtype: object"
      ]
     },
     "execution_count": 100,
     "metadata": {},
     "output_type": "execute_result"
    }
   ],
   "source": [
    "# Use list comprehension to apply a Boolean mask to the alphabet series \n",
    "labelled_alphabet.loc[[True for i in range(26)]]"
   ]
  },
  {
   "cell_type": "code",
   "execution_count": 103,
   "metadata": {},
   "outputs": [
    {
     "data": {
      "text/plain": [
       "label_B    b\n",
       "label_D    d\n",
       "label_F    f\n",
       "dtype: object"
      ]
     },
     "execution_count": 103,
     "metadata": {},
     "output_type": "execute_result"
    }
   ],
   "source": [
    "labelled_alphabet.iloc[0]\n",
    "labelled_alphabet.iloc[1:3]\n",
    "labelled_alphabet.iloc[[1,3,5]] # You can also pass in a list of indices to iloc\n",
    "# iloc is especially powerful to slice through 2D data\n",
    "# Using iloc is akin to using just [] in a Series with numeric indices "
   ]
  },
  {
   "cell_type": "markdown",
   "metadata": {},
   "source": [
    "#### Indexing with Callables"
   ]
  },
  {
   "cell_type": "code",
   "execution_count": 107,
   "metadata": {},
   "outputs": [
    {
     "data": {
      "text/plain": [
       "label_E    e\n",
       "label_J    j\n",
       "label_O    o\n",
       "label_T    t\n",
       "label_Y    y\n",
       "dtype: object"
      ]
     },
     "execution_count": 107,
     "metadata": {},
     "output_type": "execute_result"
    }
   ],
   "source": [
    "# Used for highly customizable indexing - works with [], .loc and .iloc \n",
    "\n",
    "labelled_alphabet.loc[lambda x: [True for i in range(x.size)]] # Whenever we use callables, the x in the lambda function is the series itself\n",
    "# So we're using a function to index the series \n",
    "\n",
    "def every_fifth(x): \n",
    "    return [True if (i+1)%5==0 else False for i in range(x.size)]\n",
    "\n",
    "labelled_alphabet.iloc[every_fifth] # You can use any type of function here\n"
   ]
  },
  {
   "cell_type": "markdown",
   "metadata": {},
   "source": [
    "#### Indexing with get()"
   ]
  },
  {
   "cell_type": "code",
   "execution_count": 111,
   "metadata": {},
   "outputs": [
    {
     "data": {
      "text/plain": [
       "'a'"
      ]
     },
     "execution_count": 111,
     "metadata": {},
     "output_type": "execute_result"
    }
   ],
   "source": [
    "labelled_alphabet.get('label_I') # Similar to loc and [] indexing\n",
    "# Why should we use get()? \n",
    "\n",
    "# get() returns None if you try to pass a label that is not found \n",
    "labelled_alphabet.get('label_nonexistent')\n",
    "labelled_alphabet.get('label_nonexistent', default = None) # This is because there is a default of None \n",
    "labelled_alphabet.get('label_nonexistent', default = 'Could not find this label') # You can also create your own default value\n",
    "\n",
    "# If you try to pass a label that does not exist to loc iloc or [], you will get an error \n",
    "\n",
    "labelled_alphabet.get(0) # get() also lets you index by integers just like []"
   ]
  },
  {
   "cell_type": "markdown",
   "metadata": {},
   "source": [
    "### Methods"
   ]
  },
  {
   "cell_type": "markdown",
   "metadata": {},
   "source": [
    "#### Size, Type, Unique"
   ]
  },
  {
   "cell_type": "code",
   "execution_count": 29,
   "metadata": {},
   "outputs": [],
   "source": [
    "alcohol = pd.read_csv('drinks.csv', usecols = ['country', 'wine_servings'], index_col = 'country')  # This is read in as a dataframe"
   ]
  },
  {
   "cell_type": "code",
   "execution_count": 5,
   "metadata": {},
   "outputs": [
    {
     "data": {
      "text/html": [
       "<div>\n",
       "<style scoped>\n",
       "    .dataframe tbody tr th:only-of-type {\n",
       "        vertical-align: middle;\n",
       "    }\n",
       "\n",
       "    .dataframe tbody tr th {\n",
       "        vertical-align: top;\n",
       "    }\n",
       "\n",
       "    .dataframe thead th {\n",
       "        text-align: right;\n",
       "    }\n",
       "</style>\n",
       "<table border=\"1\" class=\"dataframe\">\n",
       "  <thead>\n",
       "    <tr style=\"text-align: right;\">\n",
       "      <th></th>\n",
       "      <th>wine_servings</th>\n",
       "    </tr>\n",
       "    <tr>\n",
       "      <th>country</th>\n",
       "      <th></th>\n",
       "    </tr>\n",
       "  </thead>\n",
       "  <tbody>\n",
       "    <tr>\n",
       "      <th>Afghanistan</th>\n",
       "      <td>NaN</td>\n",
       "    </tr>\n",
       "    <tr>\n",
       "      <th>Albania</th>\n",
       "      <td>54.0</td>\n",
       "    </tr>\n",
       "    <tr>\n",
       "      <th>Algeria</th>\n",
       "      <td>14.0</td>\n",
       "    </tr>\n",
       "    <tr>\n",
       "      <th>Andorra</th>\n",
       "      <td>312.0</td>\n",
       "    </tr>\n",
       "    <tr>\n",
       "      <th>Angola</th>\n",
       "      <td>45.0</td>\n",
       "    </tr>\n",
       "  </tbody>\n",
       "</table>\n",
       "</div>"
      ],
      "text/plain": [
       "             wine_servings\n",
       "country                   \n",
       "Afghanistan            NaN\n",
       "Albania               54.0\n",
       "Algeria               14.0\n",
       "Andorra              312.0\n",
       "Angola                45.0"
      ]
     },
     "execution_count": 5,
     "metadata": {},
     "output_type": "execute_result"
    }
   ],
   "source": [
    "alcohol.head()"
   ]
  },
  {
   "cell_type": "code",
   "execution_count": 6,
   "metadata": {},
   "outputs": [
    {
     "data": {
      "text/plain": [
       "pandas.core.frame.DataFrame"
      ]
     },
     "execution_count": 6,
     "metadata": {},
     "output_type": "execute_result"
    }
   ],
   "source": [
    "type(alcohol)"
   ]
  },
  {
   "cell_type": "code",
   "execution_count": 4,
   "metadata": {},
   "outputs": [
    {
     "name": "stderr",
     "output_type": "stream",
     "text": [
      "C:\\Users\\TA972PB\\AppData\\Local\\Temp\\ipykernel_66468\\1117481432.py:3: FutureWarning: The squeeze argument has been deprecated and will be removed in a future version. Append .squeeze(\"columns\") to the call to squeeze.\n",
      "\n",
      "\n",
      "  alcohol = pd.read_csv('drinks.csv', usecols = ['country', 'wine_servings'], index_col = 'country', squeeze = True)\n"
     ]
    },
    {
     "data": {
      "text/plain": [
       "country\n",
       "Afghanistan      NaN\n",
       "Albania         54.0\n",
       "Algeria         14.0\n",
       "Andorra        312.0\n",
       "Angola          45.0\n",
       "               ...  \n",
       "Venezuela        3.0\n",
       "Vietnam          1.0\n",
       "Yemen            NaN\n",
       "Zambia           4.0\n",
       "Zimbabwe         4.0\n",
       "Name: wine_servings, Length: 193, dtype: float64"
      ]
     },
     "execution_count": 4,
     "metadata": {},
     "output_type": "execute_result"
    }
   ],
   "source": [
    "# If you wa bnt to read in the csv into a Series instead of a Dataframe, you can use the squeeze parameter in pd.read_csv \n",
    "\n",
    "alcohol = pd.read_csv('drinks.csv', usecols = ['country', 'wine_servings'], index_col = 'country', squeeze = True)\n",
    "alcohol\n",
    "# The below is a Series. The column wine_servings is the name of the series and the country is the index. Notice also that the dtype is automatically float64 as recognised by pandas"
   ]
  },
  {
   "cell_type": "code",
   "execution_count": 8,
   "metadata": {},
   "outputs": [
    {
     "data": {
      "text/plain": [
       "country\n",
       "Afghanistan      NaN\n",
       "Albania         54.0\n",
       "Algeria         14.0\n",
       "Andorra        312.0\n",
       "Angola          45.0\n",
       "               ...  \n",
       "Venezuela        3.0\n",
       "Vietnam          1.0\n",
       "Yemen            NaN\n",
       "Zambia           4.0\n",
       "Zimbabwe         4.0\n",
       "Name: wine_servings, Length: 193, dtype: float64"
      ]
     },
     "execution_count": 8,
     "metadata": {},
     "output_type": "execute_result"
    }
   ],
   "source": [
    "# The above is derpeciated, so use the squeeze() method instead\n",
    "alcohol = pd.read_csv('drinks.csv', usecols = ['country', 'wine_servings'], index_col = 'country').squeeze() \n",
    "alcohol"
   ]
  },
  {
   "cell_type": "code",
   "execution_count": 9,
   "metadata": {},
   "outputs": [
    {
     "data": {
      "text/plain": [
       "193"
      ]
     },
     "execution_count": 9,
     "metadata": {},
     "output_type": "execute_result"
    }
   ],
   "source": [
    "alcohol.size"
   ]
  },
  {
   "cell_type": "code",
   "execution_count": 10,
   "metadata": {},
   "outputs": [
    {
     "data": {
      "text/plain": [
       "array([ nan,  54.,  14., 312.,  45.,  45., 221.,  11., 212., 191.,   5.,\n",
       "        51.,   7.,  nan,  36.,  42., 212.,   8.,  13.,  nan,   8.,   8.,\n",
       "        35.,  16.,   1.,  94.,   7.,  nan,   7.,  16.,   1.,   4.,   1.,\n",
       "         1.,   1., 172.,   8.,   3.,   1.,   9.,  74.,  11., 254.,   5.,\n",
       "       113., 134.,  nan,   1., 278.,   3.,  26.,   9.,   3.,   1.,   2.,\n",
       "       233.,  nan,  59.,  nan,   1.,  97.,  37.,  59.,   1., 149., 175.,\n",
       "         1., 218.,  28.,   2.,   2.,  21.,   1.,   1.,   2., 185.,  78.,\n",
       "        nan,  nan,  nan,  nan, 165.,   9., 237.,   9.,  16.,   1.,  12.,\n",
       "         2.,   1.,  nan,   6., 123.,  62.,  31.,  nan,   2.,  nan,  56.,\n",
       "       271.,   4.,   1.,  nan,  nan,   1.,  12.,  nan,  nan,  18.,   5.,\n",
       "        18.,  nan,   8., 128.,   1.,   5.,  nan,   1.,   8.,  nan,  19.,\n",
       "       175.,   1.,   1.,   2.,   7., 129.,   1.,  nan,  23.,  18.,   1.,\n",
       "        74.,  21.,   1.,  56., 339.,   7.,   9.,  18., 167.,  73.,  nan,\n",
       "        32.,  71.,  11.,  24.,  nan,  14.,  nan,   7., 127.,  51.,   2.,\n",
       "        11., 116., 276.,   1.,  nan,  81., 112.,  nan,  nan,   7.,   2.,\n",
       "       186.,  28.,  16.,  nan,   1.,  86.,   4.,  19.,   5.,   7.,   2.,\n",
       "         7.,  32.,   9.,  nan,  45.,   5., 195.,   1.,  84.,  22.,   8.,\n",
       "        11.,   3.,   1.,  nan,   4.,   4.])"
      ]
     },
     "execution_count": 10,
     "metadata": {},
     "output_type": "execute_result"
    }
   ],
   "source": [
    "alcohol.values"
   ]
  },
  {
   "cell_type": "code",
   "execution_count": 11,
   "metadata": {},
   "outputs": [
    {
     "data": {
      "text/plain": [
       "Index(['Afghanistan', 'Albania', 'Algeria', 'Andorra', 'Angola',\n",
       "       'Antigua & Barbuda', 'Argentina', 'Armenia', 'Australia', 'Austria',\n",
       "       ...\n",
       "       'Tanzania', 'USA', 'Uruguay', 'Uzbekistan', 'Vanuatu', 'Venezuela',\n",
       "       'Vietnam', 'Yemen', 'Zambia', 'Zimbabwe'],\n",
       "      dtype='object', name='country', length=193)"
      ]
     },
     "execution_count": 11,
     "metadata": {},
     "output_type": "execute_result"
    }
   ],
   "source": [
    "alcohol.index"
   ]
  },
  {
   "cell_type": "code",
   "execution_count": 12,
   "metadata": {},
   "outputs": [
    {
     "data": {
      "text/plain": [
       "193"
      ]
     },
     "execution_count": 12,
     "metadata": {},
     "output_type": "execute_result"
    }
   ],
   "source": [
    "alcohol.values.size"
   ]
  },
  {
   "cell_type": "code",
   "execution_count": 13,
   "metadata": {},
   "outputs": [
    {
     "data": {
      "text/plain": [
       "193"
      ]
     },
     "execution_count": 13,
     "metadata": {},
     "output_type": "execute_result"
    }
   ],
   "source": [
    "alcohol.index.size"
   ]
  },
  {
   "cell_type": "code",
   "execution_count": 14,
   "metadata": {},
   "outputs": [
    {
     "data": {
      "text/plain": [
       "(193,)"
      ]
     },
     "execution_count": 14,
     "metadata": {},
     "output_type": "execute_result"
    }
   ],
   "source": [
    "alcohol.shape # Alcohol is a Series that is single dimensional so this makes sense"
   ]
  },
  {
   "cell_type": "code",
   "execution_count": 15,
   "metadata": {},
   "outputs": [
    {
     "data": {
      "text/plain": [
       "193"
      ]
     },
     "execution_count": 15,
     "metadata": {},
     "output_type": "execute_result"
    }
   ],
   "source": [
    "len(alcohol)"
   ]
  },
  {
   "cell_type": "code",
   "execution_count": 16,
   "metadata": {},
   "outputs": [
    {
     "data": {
      "text/plain": [
       "False"
      ]
     },
     "execution_count": 16,
     "metadata": {},
     "output_type": "execute_result"
    }
   ],
   "source": [
    "alcohol.is_unique #  Checks if the sequence of values in the series is unique or not"
   ]
  },
  {
   "cell_type": "code",
   "execution_count": 17,
   "metadata": {},
   "outputs": [
    {
     "data": {
      "text/plain": [
       "71"
      ]
     },
     "execution_count": 17,
     "metadata": {},
     "output_type": "execute_result"
    }
   ],
   "source": [
    "alcohol.nunique() #  Checks for how many unique values are there in the series "
   ]
  },
  {
   "cell_type": "code",
   "execution_count": 18,
   "metadata": {},
   "outputs": [
    {
     "data": {
      "text/plain": [
       "72"
      ]
     },
     "execution_count": 18,
     "metadata": {},
     "output_type": "execute_result"
    }
   ],
   "source": [
    "alcohol.nunique(dropna=False) #  The above example was excluding NULL/ NaN values. If we include those as well, the number of unique values goes up by 1"
   ]
  },
  {
   "cell_type": "code",
   "execution_count": 19,
   "metadata": {},
   "outputs": [
    {
     "data": {
      "text/plain": [
       "True"
      ]
     },
     "execution_count": 19,
     "metadata": {},
     "output_type": "execute_result"
    }
   ],
   "source": [
    "pd.Series([1,2,3,4]).is_monotonic_increasing"
   ]
  },
  {
   "cell_type": "code",
   "execution_count": 20,
   "metadata": {},
   "outputs": [
    {
     "data": {
      "text/plain": [
       "True"
      ]
     },
     "execution_count": 20,
     "metadata": {},
     "output_type": "execute_result"
    }
   ],
   "source": [
    "pd.Series(reversed([1,2,3,4])).is_monotonic_decreasing"
   ]
  },
  {
   "cell_type": "markdown",
   "metadata": {},
   "source": [
    "#### Checking for NULLs"
   ]
  },
  {
   "cell_type": "code",
   "execution_count": 43,
   "metadata": {},
   "outputs": [
    {
     "name": "stdout",
     "output_type": "stream",
     "text": [
      "193\n",
      "162\n",
      "True\n"
     ]
    },
    {
     "data": {
      "text/plain": [
       "31"
      ]
     },
     "execution_count": 43,
     "metadata": {},
     "output_type": "execute_result"
    }
   ],
   "source": [
    "print(alcohol.size)\n",
    "print(alcohol.count()) # Counts the number of non-NULL/NaN values\n",
    "print(alcohol.hasnans) # Checks if there are any NULL/NaN values in the Series\n",
    "alcohol.isnull() # Returns a series of Boolean values the same size as the alcohol series \n",
    "\n",
    "# This can be used as a Boolean mask on the Series to get only the countries witout NaN wine servings\n",
    "alcohol[alcohol.isnull()].size # 31 countries have NaN values \n",
    "list(alcohol[alcohol.isnull()].index) # List of countries with NaN wine servings \n",
    "len(list(alcohol[alcohol.isnull()])) # This is ugly af. \n",
    "\n",
    "alcohol.isnull().sum() # Chaining isnull() with sum(). This works because the result of isnull() is a series and sum() counts all the True values in the Series\n",
    "alcohol.isna().sum() # isna() is a alias of isnull()"
   ]
  },
  {
   "cell_type": "code",
   "execution_count": 47,
   "metadata": {},
   "outputs": [
    {
     "name": "stdout",
     "output_type": "stream",
     "text": [
      "Total:  193\n",
      "Count of non-NULL values:  162\n",
      "Count of NULL values:  31\n"
     ]
    }
   ],
   "source": [
    "# In conclusion\n",
    "print(\"Total: \", alcohol.size)\n",
    "print(\"Count of non-NULL values: \", alcohol.count())\n",
    "print(\"Count of NULL values: \", alcohol.isnull().sum()) "
   ]
  },
  {
   "cell_type": "code",
   "execution_count": 53,
   "metadata": {},
   "outputs": [
    {
     "data": {
      "text/plain": [
       "1    False\n",
       "2    False\n",
       "3    False\n",
       "4     True\n",
       "dtype: bool"
      ]
     },
     "execution_count": 53,
     "metadata": {},
     "output_type": "execute_result"
    }
   ],
   "source": [
    "# Vectorization: running operations on entire arrrays vs running them sequentially \n",
    "# When we're using Pandas, we rely on numpy and vectorization under the hood, leading to performance gains\n",
    "# ufunc - universal function \n",
    "\n",
    "type(np.isnan) # This is a ufunc\n",
    "\n",
    "ser = pd.Series([1,2,3, None], index = [1,2,3,4])\n",
    "np.isnan(ser)"
   ]
  },
  {
   "cell_type": "code",
   "execution_count": 54,
   "metadata": {},
   "outputs": [
    {
     "data": {
      "text/plain": [
       "country\n",
       "Afghanistan        NaN\n",
       "Bangladesh         NaN\n",
       "Bhutan             NaN\n",
       "Burundi            NaN\n",
       "North Korea        NaN\n",
       "Eritrea            NaN\n",
       "Ethiopia           NaN\n",
       "India              NaN\n",
       "Indonesia          NaN\n",
       "Iran               NaN\n",
       "Iraq               NaN\n",
       "Kuwait             NaN\n",
       "Lesotho            NaN\n",
       "Libya              NaN\n",
       "Malaysia           NaN\n",
       "Maldives           NaN\n",
       "Marshall Islands   NaN\n",
       "Mauritania         NaN\n",
       "Monaco             NaN\n",
       "Myanmar            NaN\n",
       "Nepal              NaN\n",
       "Pakistan           NaN\n",
       "Rwanda             NaN\n",
       "San Marino         NaN\n",
       "Saudi Arabia       NaN\n",
       "Somalia            NaN\n",
       "Sri Lanka          NaN\n",
       "Sudan              NaN\n",
       "Tajikistan         NaN\n",
       "Uganda             NaN\n",
       "Yemen              NaN\n",
       "Name: wine_servings, dtype: float64"
      ]
     },
     "execution_count": 54,
     "metadata": {},
     "output_type": "execute_result"
    }
   ],
   "source": [
    "ser[np.isnan] # Here we are passing a ufunc to index the series similar to how we indexed with callables\n",
    "\n",
    "alcohol[np.isnan].size # This is another way to count nulls in a series\n",
    "# Similar to: \n",
    "alcohol[alcohol.isna()]\n",
    "alcohol[alcohol.isnull()]"
   ]
  },
  {
   "cell_type": "code",
   "execution_count": 55,
   "metadata": {},
   "outputs": [
    {
     "data": {
      "text/plain": [
       "country\n",
       "Afghanistan    False\n",
       "Albania         True\n",
       "Algeria         True\n",
       "Andorra         True\n",
       "Angola          True\n",
       "               ...  \n",
       "Venezuela       True\n",
       "Vietnam         True\n",
       "Yemen          False\n",
       "Zambia          True\n",
       "Zimbabwe        True\n",
       "Name: wine_servings, Length: 193, dtype: bool"
      ]
     },
     "execution_count": 55,
     "metadata": {},
     "output_type": "execute_result"
    }
   ],
   "source": [
    "alcohol.notnull() # Series of not NaN values \n",
    "alcohol[alcohol.notnul()] # Can also index with the same\n",
    "alcohol.loc[alcohol.notnull()]"
   ]
  },
  {
   "cell_type": "code",
   "execution_count": 58,
   "metadata": {},
   "outputs": [
    {
     "data": {
      "text/plain": [
       "True"
      ]
     },
     "execution_count": 58,
     "metadata": {},
     "output_type": "execute_result"
    }
   ],
   "source": [
    "alcohol.notnull().sum()\n",
    "alcohol.notna().sum() # notna() is an alias for notnull()\n",
    "alcohol.notnull().sum() + alcohol.isnull().sum() == alcohol.size"
   ]
  },
  {
   "cell_type": "markdown",
   "metadata": {},
   "source": [
    "**NOTE:**\n",
    "* The Bool type inherits from (is a subclass of) int, and further int inherits from Object\n",
    "* True is considered as 1 and False as 0"
   ]
  },
  {
   "cell_type": "code",
   "execution_count": 59,
   "metadata": {},
   "outputs": [
    {
     "data": {
      "text/plain": [
       "8"
      ]
     },
     "execution_count": 59,
     "metadata": {},
     "output_type": "execute_result"
    }
   ],
   "source": [
    "True + False + True + True + 5"
   ]
  },
  {
   "cell_type": "code",
   "execution_count": 60,
   "metadata": {},
   "outputs": [
    {
     "name": "stdout",
     "output_type": "stream",
     "text": [
      "<class 'bool'>\n",
      "<class 'bool'>\n"
     ]
    },
    {
     "data": {
      "text/plain": [
       "(bool, int, object)"
      ]
     },
     "execution_count": 60,
     "metadata": {},
     "output_type": "execute_result"
    }
   ],
   "source": [
    "print(type(True)) \n",
    "print(type(False)) \n",
    "bool.__mro__   \n",
    "# Method Resolution Order - rule that python uses to locate the method definition for any method that we call on instances of the bool class"
   ]
  },
  {
   "cell_type": "markdown",
   "metadata": {},
   "source": [
    "It makes more sense now why alcohol.isnull().sum() returned an integer or the number of null values in the series. \n",
    "This is because sum() is literally summing the True/False values in the alcohol.isnull() series, for the same reason as mentioned above."
   ]
  },
  {
   "cell_type": "markdown",
   "metadata": {},
   "source": [
    "#### Dropping and Filling NULLs"
   ]
  },
  {
   "cell_type": "code",
   "execution_count": 72,
   "metadata": {},
   "outputs": [
    {
     "data": {
      "text/plain": [
       "country\n",
       "Albania               54.0\n",
       "Algeria               14.0\n",
       "Andorra              312.0\n",
       "Angola                45.0\n",
       "Antigua & Barbuda     45.0\n",
       "                     ...  \n",
       "Vanuatu               11.0\n",
       "Venezuela              3.0\n",
       "Vietnam                1.0\n",
       "Zambia                 4.0\n",
       "Zimbabwe               4.0\n",
       "Name: wine_servings, Length: 162, dtype: float64"
      ]
     },
     "execution_count": 72,
     "metadata": {},
     "output_type": "execute_result"
    }
   ],
   "source": [
    "alcohol.dropna() # Returns a new series with the null values dropped, this doesn't reflect in the original series, unless it is assigned to it \n",
    "#alcohol = alcohol.dropna()\n",
    "\n",
    "alcohol.dropna(inplace = True) # This will modify the original series"
   ]
  },
  {
   "cell_type": "code",
   "execution_count": null,
   "metadata": {},
   "outputs": [],
   "source": [
    "alcohol.fillna(100, inplace = True) # Fill the NaN values with a specified value, modifies the original because of inplace = True"
   ]
  },
  {
   "cell_type": "markdown",
   "metadata": {},
   "source": [
    "#### Descriptive Statistics"
   ]
  },
  {
   "cell_type": "code",
   "execution_count": 80,
   "metadata": {},
   "outputs": [
    {
     "name": "stdout",
     "output_type": "stream",
     "text": [
      "8221.0\n",
      "162\n",
      "50.74691358024691\n",
      "50.74691358024691\n",
      "11.5\n",
      "11.5\n"
     ]
    }
   ],
   "source": [
    "print(alcohol.sum()) # Remember that the NaN/ Null values are excluded in this sum\n",
    "print(alcohol.count()) # Nan/NULL values are excluded here as well\n",
    "\n",
    "print(alcohol.sum()/alcohol.count())\n",
    "print(alcohol.mean())\n",
    "print(alcohol.median())\n",
    "\n",
    "print(alcohol.quantile(0.5)) # This is also median, or middle most observation"
   ]
  },
  {
   "cell_type": "markdown",
   "metadata": {},
   "source": [
    "Notice that the mean is much larger than the median, indicating that the distribution of wine servings is right skewed i.e. there are countries with large wine servings that influence the mean"
   ]
  },
  {
   "cell_type": "code",
   "execution_count": 81,
   "metadata": {},
   "outputs": [
    {
     "data": {
      "text/plain": [
       "<AxesSubplot: >"
      ]
     },
     "execution_count": 81,
     "metadata": {},
     "output_type": "execute_result"
    },
    {
     "data": {
      "image/png": "[encoded data removed]",
      "text/plain": [
       "<Figure size 640x480 with 1 Axes>"
      ]
     },
     "metadata": {},
     "output_type": "display_data"
    }
   ],
   "source": [
    "alcohol.hist()"
   ]
  },
  {
   "cell_type": "code",
   "execution_count": 84,
   "metadata": {},
   "outputs": [
    {
     "data": {
      "text/plain": [
       "58.25"
      ]
     },
     "execution_count": 84,
     "metadata": {},
     "output_type": "execute_result"
    }
   ],
   "source": [
    "iqr = alcohol.quantile(.75) - alcohol.quantile(.25)\n",
    "iqr"
   ]
  },
  {
   "cell_type": "code",
   "execution_count": 86,
   "metadata": {},
   "outputs": [
    {
     "name": "stdout",
     "output_type": "stream",
     "text": [
      "1.0\n",
      "339.0\n"
     ]
    }
   ],
   "source": [
    "print(alcohol.min())\n",
    "print(alcohol.max())"
   ]
  },
  {
   "cell_type": "code",
   "execution_count": 89,
   "metadata": {},
   "outputs": [
    {
     "name": "stdout",
     "output_type": "stream",
     "text": [
      "76.13491716376171\n",
      "5796.5256115328575\n",
      "76.13491716376171\n"
     ]
    }
   ],
   "source": [
    "print(alcohol.std())\n",
    "print(alcohol.var())\n",
    "\n",
    "print(alcohol.var()**0.5) # std deviation is square root of the variance"
   ]
  },
  {
   "cell_type": "code",
   "execution_count": 91,
   "metadata": {},
   "outputs": [
    {
     "data": {
      "text/plain": [
       "count    162.000000\n",
       "mean      50.746914\n",
       "std       76.134917\n",
       "min        1.000000\n",
       "25%        3.000000\n",
       "50%       11.500000\n",
       "75%       61.250000\n",
       "max      339.000000\n",
       "Name: wine_servings, dtype: float64"
      ]
     },
     "execution_count": 91,
     "metadata": {},
     "output_type": "execute_result"
    }
   ],
   "source": [
    "alcohol.describe()"
   ]
  },
  {
   "cell_type": "code",
   "execution_count": 92,
   "metadata": {},
   "outputs": [
    {
     "data": {
      "text/plain": [
       "count    162.000000\n",
       "mean      50.746914\n",
       "std       76.134917\n",
       "min        1.000000\n",
       "19%        2.000000\n",
       "50%       11.500000\n",
       "79%       81.570000\n",
       "max      339.000000\n",
       "Name: wine_servings, dtype: float64"
      ]
     },
     "execution_count": 92,
     "metadata": {},
     "output_type": "execute_result"
    }
   ],
   "source": [
    "alcohol.describe(percentiles=[.79, .19]) # You can include percentiles you want to see"
   ]
  },
  {
   "cell_type": "code",
   "execution_count": 95,
   "metadata": {},
   "outputs": [
    {
     "data": {
      "text/plain": [
       "count    162.000000\n",
       "mean      50.746914\n",
       "std       76.134917\n",
       "min        1.000000\n",
       "19%        2.000000\n",
       "50%       11.500000\n",
       "79%       81.570000\n",
       "max      339.000000\n",
       "Name: wine_servings, dtype: float64"
      ]
     },
     "execution_count": 95,
     "metadata": {},
     "output_type": "execute_result"
    }
   ],
   "source": [
    "alcohol.describe(percentiles=[.79, .19], include=float, exclude=object) # Can include and exclude datatypes, in the alcohol series this doesn't make a difference as the values are already only float"
   ]
  },
  {
   "cell_type": "code",
   "execution_count": 96,
   "metadata": {},
   "outputs": [
    {
     "data": {
      "text/plain": [
       "0    1.0\n",
       "Name: wine_servings, dtype: float64"
      ]
     },
     "execution_count": 96,
     "metadata": {},
     "output_type": "execute_result"
    }
   ],
   "source": [
    "alcohol.mode()"
   ]
  },
  {
   "cell_type": "code",
   "execution_count": 97,
   "metadata": {},
   "outputs": [
    {
     "data": {
      "text/plain": [
       "country\n",
       "Afghanistan    False\n",
       "Albania        False\n",
       "Algeria        False\n",
       "Andorra        False\n",
       "Angola         False\n",
       "               ...  \n",
       "Venezuela      False\n",
       "Vietnam         True\n",
       "Yemen          False\n",
       "Zambia         False\n",
       "Zimbabwe       False\n",
       "Name: wine_servings, Length: 193, dtype: bool"
      ]
     },
     "execution_count": 97,
     "metadata": {},
     "output_type": "execute_result"
    }
   ],
   "source": [
    "alcohol == 1 # How frequently does wine servings 1 occur?"
   ]
  },
  {
   "cell_type": "code",
   "execution_count": 98,
   "metadata": {},
   "outputs": [
    {
     "data": {
      "text/plain": [
       "28.0"
      ]
     },
     "execution_count": 98,
     "metadata": {},
     "output_type": "execute_result"
    }
   ],
   "source": [
    "alcohol[alcohol == 1].sum()"
   ]
  },
  {
   "cell_type": "code",
   "execution_count": 104,
   "metadata": {},
   "outputs": [
    {
     "data": {
      "text/plain": [
       "1.0      28\n",
       "2.0      10\n",
       "7.0       9\n",
       "8.0       7\n",
       "5.0       6\n",
       "         ..\n",
       "218.0     1\n",
       "185.0     1\n",
       "78.0      1\n",
       "165.0     1\n",
       "22.0      1\n",
       "Name: wine_servings, Length: 71, dtype: int64"
      ]
     },
     "execution_count": 104,
     "metadata": {},
     "output_type": "execute_result"
    }
   ],
   "source": [
    "alcohol.value_counts() # Counts the frequency of each unique value in the series"
   ]
  },
  {
   "cell_type": "code",
   "execution_count": 105,
   "metadata": {},
   "outputs": [
    {
     "data": {
      "text/plain": [
       "28"
      ]
     },
     "execution_count": 105,
     "metadata": {},
     "output_type": "execute_result"
    }
   ],
   "source": [
    "# Recreating the above cell \n",
    "alcohol.value_counts().iloc[0]"
   ]
  },
  {
   "cell_type": "markdown",
   "metadata": {},
   "source": [
    "Function Definition: \n",
    "Returns a sorted series containing unique values and their counts\n",
    "\n",
    "ser.value_counts(\n",
    "    sort=True, \n",
    "    ascending=False, \n",
    "    dropna=True, \n",
    "    normalize=False) \n",
    "    \n",
    "These are the parameters and their default values\n",
    "\n",
    "* Note that value_counts() only takes the non-null values\n",
    "* The resulting series is returned in desc order by default i.e. desc order of counts\n",
    "* It is possible to get the normalised value counts, see example below"
   ]
  },
  {
   "cell_type": "code",
   "execution_count": 106,
   "metadata": {},
   "outputs": [
    {
     "data": {
      "text/plain": [
       "1.0      0.172840\n",
       "2.0      0.061728\n",
       "7.0      0.055556\n",
       "8.0      0.043210\n",
       "5.0      0.037037\n",
       "           ...   \n",
       "218.0    0.006173\n",
       "185.0    0.006173\n",
       "78.0     0.006173\n",
       "165.0    0.006173\n",
       "22.0     0.006173\n",
       "Name: wine_servings, Length: 71, dtype: float64"
      ]
     },
     "execution_count": 106,
     "metadata": {},
     "output_type": "execute_result"
    }
   ],
   "source": [
    "alcohol.value_counts(normalize=True)\n",
    "# These are not absolute counts, rather relative frequencies or percentages"
   ]
  },
  {
   "cell_type": "markdown",
   "metadata": {},
   "source": [
    "#### idxmax() and idxmin()"
   ]
  },
  {
   "cell_type": "code",
   "execution_count": 9,
   "metadata": {},
   "outputs": [
    {
     "data": {
      "text/plain": [
       "Index(['Portugal'], dtype='object', name='country')"
      ]
     },
     "execution_count": 9,
     "metadata": {},
     "output_type": "execute_result"
    }
   ],
   "source": [
    "# How do we find the country with the highest wine servings \n",
    "\n",
    "alcohol.loc[alcohol == alcohol.max()].index"
   ]
  },
  {
   "cell_type": "code",
   "execution_count": 10,
   "metadata": {},
   "outputs": [
    {
     "data": {
      "text/plain": [
       "'Portugal'"
      ]
     },
     "execution_count": 10,
     "metadata": {},
     "output_type": "execute_result"
    }
   ],
   "source": [
    "alcohol.loc[alcohol == alcohol.max()].index[0] # This is quite messy"
   ]
  },
  {
   "cell_type": "code",
   "execution_count": 12,
   "metadata": {},
   "outputs": [
    {
     "data": {
      "text/plain": [
       "'Portugal'"
      ]
     },
     "execution_count": 12,
     "metadata": {},
     "output_type": "execute_result"
    }
   ],
   "source": [
    "alcohol.idxmax() # Returns the index of the element with the max value, if there are multiple only the first is returned"
   ]
  },
  {
   "cell_type": "code",
   "execution_count": 13,
   "metadata": {},
   "outputs": [
    {
     "data": {
      "text/plain": [
       "'Brunei'"
      ]
     },
     "execution_count": 13,
     "metadata": {},
     "output_type": "execute_result"
    }
   ],
   "source": [
    "alcohol.idxmin() # Returns the index of the element with the min value, if there are multiple only the first is returned"
   ]
  },
  {
   "cell_type": "code",
   "execution_count": 14,
   "metadata": {},
   "outputs": [
    {
     "data": {
      "text/plain": [
       "1.0      28\n",
       "2.0      10\n",
       "7.0       9\n",
       "8.0       7\n",
       "5.0       6\n",
       "         ..\n",
       "218.0     1\n",
       "185.0     1\n",
       "78.0      1\n",
       "165.0     1\n",
       "22.0      1\n",
       "Name: wine_servings, Length: 71, dtype: int64"
      ]
     },
     "execution_count": 14,
     "metadata": {},
     "output_type": "execute_result"
    }
   ],
   "source": [
    "alcohol.value_counts() \n",
    "# But you can see that there are multiple countries with min wine servings i.e. 22 of them. Brunei as returned by idxmin() is the alphabetically first one"
   ]
  },
  {
   "cell_type": "code",
   "execution_count": 16,
   "metadata": {},
   "outputs": [
    {
     "data": {
      "text/plain": [
       "339.0"
      ]
     },
     "execution_count": 16,
     "metadata": {},
     "output_type": "execute_result"
    }
   ],
   "source": [
    "alcohol.loc[alcohol.idxmax()] # We can use this function to index the alcohol series"
   ]
  },
  {
   "cell_type": "markdown",
   "metadata": {},
   "source": [
    "#### Sorting"
   ]
  },
  {
   "cell_type": "code",
   "execution_count": 18,
   "metadata": {},
   "outputs": [],
   "source": [
    "alcohol.sort_values() # Sorts the values in the series, this creates a new sorted series. Sorts in ASC order by default \n",
    "alcohol.sort_values(ascending = False) # DESC order \n",
    "alcohol.sort_values(na_position='first') # You can move the NaNs to the front if you want. They're in the end by default\n",
    "alcohol.sort_values(kind = 'quicksort')  # This is by deafult, you also can use mergesort and heapsort\n",
    "alcohol.sort_values(inplace = True) # This is to assign it back to the original series"
   ]
  },
  {
   "cell_type": "code",
   "execution_count": 21,
   "metadata": {},
   "outputs": [
    {
     "data": {
      "text/plain": [
       "country\n",
       "Portugal             339.0\n",
       "Andorra              312.0\n",
       "Denmark              278.0\n",
       "Slovenia             276.0\n",
       "Luxembourg           271.0\n",
       "Croatia              254.0\n",
       "Italy                237.0\n",
       "Equatorial Guinea    233.0\n",
       "Argentina            221.0\n",
       "Greece               218.0\n",
       "Name: wine_servings, dtype: float64"
      ]
     },
     "execution_count": 21,
     "metadata": {},
     "output_type": "execute_result"
    }
   ],
   "source": [
    "# Lets say I wanted the 10 largest wine serving values\n",
    "alcohol.sort_values(ascending=False)[:10]"
   ]
  },
  {
   "cell_type": "code",
   "execution_count": 22,
   "metadata": {},
   "outputs": [
    {
     "data": {
      "text/plain": [
       "country\n",
       "Portugal             339.0\n",
       "Andorra              312.0\n",
       "Denmark              278.0\n",
       "Slovenia             276.0\n",
       "Luxembourg           271.0\n",
       "Croatia              254.0\n",
       "Italy                237.0\n",
       "Equatorial Guinea    233.0\n",
       "Argentina            221.0\n",
       "Greece               218.0\n",
       "Name: wine_servings, dtype: float64"
      ]
     },
     "execution_count": 22,
     "metadata": {},
     "output_type": "execute_result"
    }
   ],
   "source": [
    "alcohol.nlargest(n=10)"
   ]
  },
  {
   "cell_type": "code",
   "execution_count": 23,
   "metadata": {},
   "outputs": [
    {
     "data": {
      "text/plain": [
       "country\n",
       "Thailand                    1.0\n",
       "Solomon Islands             1.0\n",
       "Brunei                      1.0\n",
       "Haiti                       1.0\n",
       "Cambodia                    1.0\n",
       "Guyana                      1.0\n",
       "Canada                      1.0\n",
       "Jordan                      1.0\n",
       "Central African Republic    1.0\n",
       "Comoros                     1.0\n",
       "Name: wine_servings, dtype: float64"
      ]
     },
     "execution_count": 23,
     "metadata": {},
     "output_type": "execute_result"
    }
   ],
   "source": [
    "alcohol.nsmallest(n=10)"
   ]
  },
  {
   "cell_type": "code",
   "execution_count": 24,
   "metadata": {},
   "outputs": [
    {
     "data": {
      "text/plain": [
       "country\n",
       "Afghanistan      NaN\n",
       "Albania         54.0\n",
       "Algeria         14.0\n",
       "Andorra        312.0\n",
       "Angola          45.0\n",
       "               ...  \n",
       "Venezuela        3.0\n",
       "Vietnam          1.0\n",
       "Yemen            NaN\n",
       "Zambia           4.0\n",
       "Zimbabwe         4.0\n",
       "Name: wine_servings, Length: 193, dtype: float64"
      ]
     },
     "execution_count": 24,
     "metadata": {},
     "output_type": "execute_result"
    }
   ],
   "source": [
    "# You can sort also by index values\n",
    "\n",
    "alcohol.sort_index() # The same parameters that we spoke about earlier apply to this as well"
   ]
  },
  {
   "cell_type": "markdown",
   "metadata": {},
   "source": [
    "#### Arithmetic Functions"
   ]
  },
  {
   "cell_type": "code",
   "execution_count": 33,
   "metadata": {},
   "outputs": [
    {
     "data": {
      "text/plain": [
       "Andorra         NaN\n",
       "Denmark         NaN\n",
       "Luxembourg      NaN\n",
       "Portugal      739.0\n",
       "Slovenia        NaN\n",
       "dtype: float64"
      ]
     },
     "execution_count": 33,
     "metadata": {},
     "output_type": "execute_result"
    }
   ],
   "source": [
    "alcohol.nlargest(n=5)\n",
    "\n",
    "more_drinks = pd.Series({'Portugal':400})\n",
    "\n",
    "alcohol.nlargest(n=5) + more_drinks # So Portugal got added to, but the others are all NaN now in this arithmetic sum "
   ]
  },
  {
   "cell_type": "code",
   "execution_count": 35,
   "metadata": {},
   "outputs": [
    {
     "data": {
      "text/plain": [
       "Afghanistan      NaN\n",
       "Albania         54.0\n",
       "Algeria         14.0\n",
       "Andorra        312.0\n",
       "Angola          45.0\n",
       "               ...  \n",
       "Venezuela        3.0\n",
       "Vietnam          1.0\n",
       "Yemen            NaN\n",
       "Zambia           4.0\n",
       "Zimbabwe         4.0\n",
       "Length: 193, dtype: float64"
      ]
     },
     "execution_count": 35,
     "metadata": {},
     "output_type": "execute_result"
    }
   ],
   "source": [
    "# If we want to keep the rest of the info as well \n",
    "\n",
    "alcohol.add(more_drinks, fill_value=0) # Ensures the values in alcohol show as well"
   ]
  },
  {
   "cell_type": "code",
   "execution_count": null,
   "metadata": {},
   "outputs": [],
   "source": [
    "alcohol.subtract(more_drinks, fill_value=0) # You can also subtract values\n",
    "alcohol.multiply(more_drinks, fill_value=1) # Multiply values\n",
    "alcohol.divide(more_drinks, fill_value=1) # Divide values"
   ]
  },
  {
   "cell_type": "markdown",
   "metadata": {},
   "source": [
    "While using these airthmetic functions, we don't need to worry about the order that the original series or the new series are in. \n",
    "Pandas automatically takes care of that"
   ]
  },
  {
   "cell_type": "markdown",
   "metadata": {},
   "source": [
    "Lets try and calculate the variance with these arithmetic functions in a super roundabout way: \n",
    "\n",
    "s^2 = sum(x-xbar)^2/ n-1\n",
    "\n",
    "* s^2 - variance or square of std dev\n",
    "* xbar - mean\n",
    "* n-1 - degrees of freedom\n"
   ]
  },
  {
   "cell_type": "code",
   "execution_count": 40,
   "metadata": {},
   "outputs": [
    {
     "data": {
      "text/plain": [
       "5796.5256115328575"
      ]
     },
     "execution_count": 40,
     "metadata": {},
     "output_type": "execute_result"
    }
   ],
   "source": [
    "(alcohol.subtract(alcohol.mean())**2).sum()/(alcohol.count()-1)\n",
    "\n",
    "# Note that we used count() here because we only want the non-null values for our calculation"
   ]
  },
  {
   "cell_type": "markdown",
   "metadata": {},
   "source": [
    "#### Cumulative Operations\n",
    "\n",
    "Operations to get cumulative outputs in the series"
   ]
  },
  {
   "cell_type": "code",
   "execution_count": 41,
   "metadata": {},
   "outputs": [
    {
     "data": {
      "text/plain": [
       "8221.0"
      ]
     },
     "execution_count": 41,
     "metadata": {},
     "output_type": "execute_result"
    }
   ],
   "source": [
    "alcohol.sum()"
   ]
  },
  {
   "cell_type": "code",
   "execution_count": 46,
   "metadata": {},
   "outputs": [],
   "source": [
    "alcohol = alcohol.sort_index() # Sorting this by index i.e. countries\n",
    "#sort_values().cumsum() # Each value is the cumulative sum of the previous values"
   ]
  },
  {
   "cell_type": "code",
   "execution_count": 57,
   "metadata": {},
   "outputs": [
    {
     "data": {
      "text/plain": [
       "country\n",
       "Afghanistan       NaN\n",
       "Albania          54.0\n",
       "Algeria          68.0\n",
       "Andorra         380.0\n",
       "Angola          425.0\n",
       "                ...  \n",
       "Venezuela      8212.0\n",
       "Vietnam        8213.0\n",
       "Yemen             NaN\n",
       "Zambia         8217.0\n",
       "Zimbabwe       8221.0\n",
       "Name: wine_servings, Length: 193, dtype: float64"
      ]
     },
     "execution_count": 57,
     "metadata": {},
     "output_type": "execute_result"
    }
   ],
   "source": [
    "alcohol.cumsum() # By default this disregards the null values, which is useful because that would lead to the cumsum being NaN (see below)\n",
    "# The skipna parameter is default = True"
   ]
  },
  {
   "cell_type": "code",
   "execution_count": 51,
   "metadata": {},
   "outputs": [
    {
     "data": {
      "text/plain": [
       "nan"
      ]
     },
     "execution_count": 51,
     "metadata": {},
     "output_type": "execute_result"
    }
   ],
   "source": [
    "np.NaN + 2"
   ]
  },
  {
   "cell_type": "code",
   "execution_count": 53,
   "metadata": {},
   "outputs": [
    {
     "data": {
      "text/plain": [
       "3.4276115052182805e+183"
      ]
     },
     "execution_count": 53,
     "metadata": {},
     "output_type": "execute_result"
    }
   ],
   "source": [
    "alcohol.prod()"
   ]
  },
  {
   "cell_type": "code",
   "execution_count": 52,
   "metadata": {},
   "outputs": [
    {
     "data": {
      "text/plain": [
       "country\n",
       "Afghanistan              NaN\n",
       "Albania         5.400000e+01\n",
       "Algeria         7.560000e+02\n",
       "Andorra         2.358720e+05\n",
       "Angola          1.061424e+07\n",
       "                   ...      \n",
       "Venezuela      2.142257e+182\n",
       "Vietnam        2.142257e+182\n",
       "Yemen                    NaN\n",
       "Zambia         8.569029e+182\n",
       "Zimbabwe       3.427612e+183\n",
       "Name: wine_servings, Length: 193, dtype: float64"
      ]
     },
     "execution_count": 52,
     "metadata": {},
     "output_type": "execute_result"
    }
   ],
   "source": [
    "alcohol.cumprod()"
   ]
  },
  {
   "cell_type": "code",
   "execution_count": 54,
   "metadata": {},
   "outputs": [
    {
     "data": {
      "text/plain": [
       "country\n",
       "Afghanistan     NaN\n",
       "Albania        54.0\n",
       "Algeria        14.0\n",
       "Andorra        14.0\n",
       "Angola         14.0\n",
       "               ... \n",
       "Venezuela       1.0\n",
       "Vietnam         1.0\n",
       "Yemen           NaN\n",
       "Zambia          1.0\n",
       "Zimbabwe        1.0\n",
       "Name: wine_servings, Length: 193, dtype: float64"
      ]
     },
     "execution_count": 54,
     "metadata": {},
     "output_type": "execute_result"
    }
   ],
   "source": [
    "alcohol.cummin()"
   ]
  },
  {
   "cell_type": "code",
   "execution_count": 55,
   "metadata": {},
   "outputs": [
    {
     "data": {
      "text/plain": [
       "country\n",
       "Afghanistan      NaN\n",
       "Albania         54.0\n",
       "Algeria         54.0\n",
       "Andorra        312.0\n",
       "Angola         312.0\n",
       "               ...  \n",
       "Venezuela      339.0\n",
       "Vietnam        339.0\n",
       "Yemen            NaN\n",
       "Zambia         339.0\n",
       "Zimbabwe       339.0\n",
       "Name: wine_servings, Length: 193, dtype: float64"
      ]
     },
     "execution_count": 55,
     "metadata": {},
     "output_type": "execute_result"
    }
   ],
   "source": [
    "alcohol.cummax()"
   ]
  },
  {
   "cell_type": "code",
   "execution_count": 58,
   "metadata": {},
   "outputs": [
    {
     "data": {
      "text/plain": [
       "country\n",
       "Afghanistan      NaN\n",
       "Albania         54.0\n",
       "Algeria         14.0\n",
       "Andorra        312.0\n",
       "Angola          45.0\n",
       "Name: wine_servings, dtype: float64"
      ]
     },
     "execution_count": 58,
     "metadata": {},
     "output_type": "execute_result"
    }
   ],
   "source": [
    "alcohol.head()"
   ]
  },
  {
   "cell_type": "code",
   "execution_count": 59,
   "metadata": {},
   "outputs": [
    {
     "data": {
      "text/plain": [
       "country\n",
       "Afghanistan      NaN\n",
       "Albania          NaN\n",
       "Algeria        -40.0\n",
       "Andorra        298.0\n",
       "Angola        -267.0\n",
       "Name: wine_servings, dtype: float64"
      ]
     },
     "execution_count": 59,
     "metadata": {},
     "output_type": "execute_result"
    }
   ],
   "source": [
    "alcohol.diff().head() # Pairwise diff with the previous element"
   ]
  },
  {
   "cell_type": "code",
   "execution_count": null,
   "metadata": {},
   "outputs": [],
   "source": [
    "alcohol.diff(periods=-1) # Flipping the above "
   ]
  },
  {
   "cell_type": "code",
   "execution_count": 60,
   "metadata": {},
   "outputs": [
    {
     "data": {
      "text/plain": [
       "country\n",
       "Afghanistan      NaN\n",
       "Albania          NaN\n",
       "Algeria          NaN\n",
       "Andorra        258.0\n",
       "Angola          31.0\n",
       "Name: wine_servings, dtype: float64"
      ]
     },
     "execution_count": 60,
     "metadata": {},
     "output_type": "execute_result"
    }
   ],
   "source": [
    "alcohol.diff(periods=2).head() # Pairwise diff with 2 elements back"
   ]
  },
  {
   "cell_type": "markdown",
   "metadata": {},
   "source": [
    "#### Iteration"
   ]
  },
  {
   "cell_type": "code",
   "execution_count": 61,
   "metadata": {},
   "outputs": [
    {
     "name": "stdout",
     "output_type": "stream",
     "text": [
      "nan\n",
      "54.0\n",
      "14.0\n",
      "312.0\n",
      "45.0\n",
      "45.0\n",
      "221.0\n",
      "11.0\n",
      "212.0\n",
      "191.0\n"
     ]
    }
   ],
   "source": [
    "alcohol_mini = alcohol[:10]\n",
    "\n",
    "for i in alcohol_mini:\n",
    "    print(i)"
   ]
  },
  {
   "cell_type": "code",
   "execution_count": 62,
   "metadata": {},
   "outputs": [
    {
     "name": "stdout",
     "output_type": "stream",
     "text": [
      "Afghanistan\n",
      "Albania\n",
      "Algeria\n",
      "Andorra\n",
      "Angola\n",
      "Antigua & Barbuda\n",
      "Argentina\n",
      "Armenia\n",
      "Australia\n",
      "Austria\n"
     ]
    }
   ],
   "source": [
    "for i in alcohol_mini.index:\n",
    "    print(i)"
   ]
  },
  {
   "cell_type": "code",
   "execution_count": 63,
   "metadata": {},
   "outputs": [
    {
     "name": "stdout",
     "output_type": "stream",
     "text": [
      "('Afghanistan', nan)\n",
      "('Albania', 54.0)\n",
      "('Algeria', 14.0)\n",
      "('Andorra', 312.0)\n",
      "('Angola', 45.0)\n",
      "('Antigua & Barbuda', 45.0)\n",
      "('Argentina', 221.0)\n",
      "('Armenia', 11.0)\n",
      "('Australia', 212.0)\n",
      "('Austria', 191.0)\n"
     ]
    }
   ],
   "source": [
    "for i in alcohol_mini.items():   # Returns a tuple of index:value - this is highly performant because it is lazy evaluated\n",
    "    print(i)"
   ]
  },
  {
   "cell_type": "code",
   "execution_count": 66,
   "metadata": {},
   "outputs": [
    {
     "name": "stdout",
     "output_type": "stream",
     "text": [
      "('Afghanistan', nan)\n",
      "('Albania', 54.0)\n",
      "('Algeria', 14.0)\n",
      "('Andorra', 312.0)\n",
      "('Angola', 45.0)\n",
      "('Antigua & Barbuda', 45.0)\n",
      "('Argentina', 221.0)\n",
      "('Armenia', 11.0)\n",
      "('Australia', 212.0)\n",
      "('Austria', 191.0)\n"
     ]
    },
    {
     "name": "stderr",
     "output_type": "stream",
     "text": [
      "C:\\Users\\TA972PB\\AppData\\Local\\Temp\\ipykernel_66468\\173888281.py:1: FutureWarning: iteritems is deprecated and will be removed in a future version. Use .items instead.\n",
      "  for i in alcohol_mini.iteritems(): # This is an alias that is going to be deprciated\n"
     ]
    }
   ],
   "source": [
    "for i in alcohol_mini.iteritems(): # This is an alias that is going to be deprciated\n",
    "    print(i)"
   ]
  },
  {
   "cell_type": "markdown",
   "metadata": {},
   "source": [
    "#### Filtering"
   ]
  },
  {
   "cell_type": "code",
   "execution_count": 68,
   "metadata": {},
   "outputs": [
    {
     "data": {
      "text/plain": [
       "country\n",
       "Vanuatu      11.0\n",
       "Venezuela     3.0\n",
       "Vietnam       1.0\n",
       "Name: wine_servings, dtype: float64"
      ]
     },
     "execution_count": 68,
     "metadata": {},
     "output_type": "execute_result"
    }
   ],
   "source": [
    "alcohol.filter(regex = '^V')  # Filter applies to the index by default"
   ]
  },
  {
   "cell_type": "code",
   "execution_count": 69,
   "metadata": {},
   "outputs": [
    {
     "data": {
      "text/plain": [
       "country\n",
       "Afghanistan      NaN\n",
       "Kazakhstan      12.0\n",
       "Kyrgyzstan       6.0\n",
       "Pakistan         NaN\n",
       "Tajikistan       NaN\n",
       "Turkmenistan    32.0\n",
       "Uzbekistan       8.0\n",
       "Name: wine_servings, dtype: float64"
      ]
     },
     "execution_count": 69,
     "metadata": {},
     "output_type": "execute_result"
    }
   ],
   "source": [
    "alcohol.filter(like = 'stan') # Also applies to index by default"
   ]
  },
  {
   "cell_type": "code",
   "execution_count": 71,
   "metadata": {},
   "outputs": [
    {
     "data": {
      "text/plain": [
       "country\n",
       "Andorra              312.0\n",
       "Argentina            221.0\n",
       "Australia            212.0\n",
       "Belgium              212.0\n",
       "Croatia              254.0\n",
       "Denmark              278.0\n",
       "Equatorial Guinea    233.0\n",
       "Greece               218.0\n",
       "Italy                237.0\n",
       "Luxembourg           271.0\n",
       "Portugal             339.0\n",
       "Slovenia             276.0\n",
       "Name: wine_servings, dtype: float64"
      ]
     },
     "execution_count": 71,
     "metadata": {},
     "output_type": "execute_result"
    }
   ],
   "source": [
    "# What if we wanted to filter by the values\n",
    "# We already know this\n",
    "\n",
    "alcohol.loc[alcohol > 200]\n"
   ]
  },
  {
   "cell_type": "code",
   "execution_count": 73,
   "metadata": {},
   "outputs": [],
   "source": [
    "# Or with a callable\n",
    "\n",
    "def gt200(x): \n",
    "    return x > 200"
   ]
  },
  {
   "cell_type": "code",
   "execution_count": 74,
   "metadata": {},
   "outputs": [
    {
     "data": {
      "text/plain": [
       "country\n",
       "Andorra              312.0\n",
       "Argentina            221.0\n",
       "Australia            212.0\n",
       "Belgium              212.0\n",
       "Croatia              254.0\n",
       "Denmark              278.0\n",
       "Equatorial Guinea    233.0\n",
       "Greece               218.0\n",
       "Italy                237.0\n",
       "Luxembourg           271.0\n",
       "Portugal             339.0\n",
       "Slovenia             276.0\n",
       "Name: wine_servings, dtype: float64"
      ]
     },
     "execution_count": 74,
     "metadata": {},
     "output_type": "execute_result"
    }
   ],
   "source": [
    "alcohol[gt200]"
   ]
  },
  {
   "cell_type": "code",
   "execution_count": 76,
   "metadata": {},
   "outputs": [
    {
     "data": {
      "text/plain": [
       "country\n",
       "Afghanistan    too small\n",
       "Albania        too small\n",
       "Algeria        too small\n",
       "Andorra            312.0\n",
       "Angola         too small\n",
       "                 ...    \n",
       "Venezuela      too small\n",
       "Vietnam        too small\n",
       "Yemen          too small\n",
       "Zambia         too small\n",
       "Zimbabwe       too small\n",
       "Name: wine_servings, Length: 193, dtype: object"
      ]
     },
     "execution_count": 76,
     "metadata": {},
     "output_type": "execute_result"
    }
   ],
   "source": [
    "alcohol.where(lambda x: x > 200, other ='too small') # Replaces all the values in the condition with the 'other' value"
   ]
  },
  {
   "cell_type": "code",
   "execution_count": 77,
   "metadata": {},
   "outputs": [
    {
     "data": {
      "text/plain": [
       "country\n",
       "Afghanistan      NaN\n",
       "Albania          NaN\n",
       "Algeria          NaN\n",
       "Andorra        312.0\n",
       "Angola           NaN\n",
       "               ...  \n",
       "Venezuela        NaN\n",
       "Vietnam          NaN\n",
       "Yemen            NaN\n",
       "Zambia           NaN\n",
       "Zimbabwe         NaN\n",
       "Name: wine_servings, Length: 193, dtype: float64"
      ]
     },
     "execution_count": 77,
     "metadata": {},
     "output_type": "execute_result"
    }
   ],
   "source": [
    "# The 'other' parameter in where() defaults to NaN\n",
    "alcohol.where(lambda x: x>200)"
   ]
  },
  {
   "cell_type": "code",
   "execution_count": 78,
   "metadata": {},
   "outputs": [
    {
     "data": {
      "text/plain": [
       "country\n",
       "Andorra              312.0\n",
       "Argentina            221.0\n",
       "Australia            212.0\n",
       "Belgium              212.0\n",
       "Croatia              254.0\n",
       "Denmark              278.0\n",
       "Equatorial Guinea    233.0\n",
       "Greece               218.0\n",
       "Italy                237.0\n",
       "Luxembourg           271.0\n",
       "Portugal             339.0\n",
       "Slovenia             276.0\n",
       "Name: wine_servings, dtype: float64"
      ]
     },
     "execution_count": 78,
     "metadata": {},
     "output_type": "execute_result"
    }
   ],
   "source": [
    "alcohol.where(lambda x: x>200).dropna() # So chained with dropna() gives just the countries with value greater than 200\n",
    "# Pand-adorable!"
   ]
  },
  {
   "cell_type": "code",
   "execution_count": 80,
   "metadata": {},
   "outputs": [
    {
     "data": {
      "text/plain": [
       "country\n",
       "Afghanistan     NaN\n",
       "Albania        54.0\n",
       "Algeria        14.0\n",
       "Andorra         NaN\n",
       "Angola         45.0\n",
       "               ... \n",
       "Venezuela       3.0\n",
       "Vietnam         1.0\n",
       "Yemen           NaN\n",
       "Zambia          4.0\n",
       "Zimbabwe        4.0\n",
       "Name: wine_servings, Length: 193, dtype: float64"
      ]
     },
     "execution_count": 80,
     "metadata": {},
     "output_type": "execute_result"
    }
   ],
   "source": [
    "# Lets say we want the opposite of the above i.e. x<=200 (but there are going to be situations where its not as simple as flipping the logical operator)\n",
    "alcohol.mask(lambda x: x>200)"
   ]
  },
  {
   "cell_type": "code",
   "execution_count": 82,
   "metadata": {},
   "outputs": [
    {
     "data": {
      "text/plain": [
       "country\n",
       "Albania              54.0\n",
       "Algeria              14.0\n",
       "Angola               45.0\n",
       "Antigua & Barbuda    45.0\n",
       "Armenia              11.0\n",
       "                     ... \n",
       "Vanuatu              11.0\n",
       "Venezuela             3.0\n",
       "Vietnam               1.0\n",
       "Zambia                4.0\n",
       "Zimbabwe              4.0\n",
       "Name: wine_servings, Length: 150, dtype: float64"
      ]
     },
     "execution_count": 82,
     "metadata": {},
     "output_type": "execute_result"
    }
   ],
   "source": [
    "alcohol.mask(lambda x:x>200).dropna() # Once again we can chain it with dropna()"
   ]
  },
  {
   "cell_type": "markdown",
   "metadata": {},
   "source": [
    "#### Transformations\n",
    "\n",
    "There are 2 categories: \n",
    "\n",
    "* Targeting a couple of specific records - spot \n",
    "* Targeting the entire series - global"
   ]
  },
  {
   "cell_type": "code",
   "execution_count": 83,
   "metadata": {},
   "outputs": [],
   "source": [
    "# You can update values in a series \n",
    "alcohol.loc['Albania'] = 200"
   ]
  },
  {
   "cell_type": "code",
   "execution_count": 85,
   "metadata": {},
   "outputs": [],
   "source": [
    "# But what if you want to update a series of values, use the update() method\n",
    "alcohol.update(pd.Series([200,20], index = ['Albania', 'Algeria'])) # This is automatically inplace = True"
   ]
  },
  {
   "cell_type": "code",
   "execution_count": 86,
   "metadata": {},
   "outputs": [
    {
     "data": {
      "text/plain": [
       "country\n",
       "Afghanistan        NaN\n",
       "Albania        40000.0\n",
       "Algeria          400.0\n",
       "Andorra        97344.0\n",
       "Angola          2025.0\n",
       "                ...   \n",
       "Venezuela          9.0\n",
       "Vietnam            1.0\n",
       "Yemen              NaN\n",
       "Zambia            16.0\n",
       "Zimbabwe          16.0\n",
       "Name: wine_servings, Length: 193, dtype: float64"
      ]
     },
     "execution_count": 86,
     "metadata": {},
     "output_type": "execute_result"
    }
   ],
   "source": [
    "alcohol.apply(lambda x: x**2) # This applies to the whole series"
   ]
  },
  {
   "cell_type": "code",
   "execution_count": 87,
   "metadata": {},
   "outputs": [
    {
     "data": {
      "text/plain": [
       "country\n",
       "Afghanistan        NaN\n",
       "Albania        40000.0\n",
       "Algeria          400.0\n",
       "Andorra        97344.0\n",
       "Angola          2025.0\n",
       "                ...   \n",
       "Venezuela          9.0\n",
       "Vietnam            1.0\n",
       "Yemen              NaN\n",
       "Zambia            16.0\n",
       "Zimbabwe          16.0\n",
       "Name: wine_servings, Length: 193, dtype: float64"
      ]
     },
     "execution_count": 87,
     "metadata": {},
     "output_type": "execute_result"
    }
   ],
   "source": [
    "# Couple of other ways you could do this\n",
    "\n",
    "alcohol.apply(np.square) # Using the square ufunc"
   ]
  },
  {
   "cell_type": "code",
   "execution_count": 93,
   "metadata": {},
   "outputs": [
    {
     "data": {
      "text/plain": [
       "country\n",
       "Afghanistan        NaN\n",
       "Albania        40000.0\n",
       "Algeria          400.0\n",
       "Andorra        97344.0\n",
       "Angola          2025.0\n",
       "                ...   \n",
       "Venezuela          9.0\n",
       "Vietnam            1.0\n",
       "Yemen              NaN\n",
       "Zambia            16.0\n",
       "Zimbabwe          16.0\n",
       "Name: wine_servings, Length: 193, dtype: float64"
      ]
     },
     "execution_count": 93,
     "metadata": {},
     "output_type": "execute_result"
    }
   ],
   "source": [
    "def multiply_by_self(x): # Writing your own func\n",
    "    return x*x\n",
    "\n",
    "alcohol.apply(multiply_by_self)"
   ]
  },
  {
   "cell_type": "code",
   "execution_count": 95,
   "metadata": {},
   "outputs": [
    {
     "data": {
      "text/plain": [
       "country\n",
       "Afghanistan       NaN\n",
       "Albania         200.0\n",
       "Algeria         400.0\n",
       "Andorra         312.0\n",
       "Angola         2025.0\n",
       "                ...  \n",
       "Venezuela         9.0\n",
       "Vietnam           1.0\n",
       "Yemen             NaN\n",
       "Zambia           16.0\n",
       "Zimbabwe         16.0\n",
       "Name: wine_servings, Length: 193, dtype: float64"
      ]
     },
     "execution_count": 95,
     "metadata": {},
     "output_type": "execute_result"
    }
   ],
   "source": [
    "def multiply_by_self_with_min(x, min_servings): # You can make your function more complex as well\n",
    "    if x < min_servings: \n",
    "        return x ** 2 \n",
    "    else: \n",
    "        return x\n",
    "    \n",
    "alcohol.apply(multiply_by_self_with_min, args = (200,)) # Specifying the minimum here\n",
    "alcohol.apply(multiply_by_self_with_min, min_servings = 200) # You can also do it like this"
   ]
  },
  {
   "cell_type": "markdown",
   "metadata": {},
   "source": [
    "map() and apply() are similar in some simple transformations, but with callables they are not. \n",
    "If your substitution is highly custom, use apply()\n",
    "\n",
    "* ser.map({'old_value' : 'new_value'})\n",
    " \n",
    "map() subs a series values with others from a function, series, or dict \n",
    "This takes more input types than apply()\n",
    "\n",
    "But apply() is more flexible for custom defined transformations etc"
   ]
  },
  {
   "cell_type": "markdown",
   "metadata": {},
   "source": [
    "## DataFrames"
   ]
  },
  {
   "cell_type": "markdown",
   "metadata": {},
   "source": [
    "### Basics"
   ]
  },
  {
   "cell_type": "code",
   "execution_count": 4,
   "metadata": {},
   "outputs": [],
   "source": [
    "players = pd.read_csv('soccer.csv')"
   ]
  },
  {
   "cell_type": "code",
   "execution_count": 5,
   "metadata": {},
   "outputs": [
    {
     "data": {
      "text/html": [
       "<div>\n",
       "<style scoped>\n",
       "    .dataframe tbody tr th:only-of-type {\n",
       "        vertical-align: middle;\n",
       "    }\n",
       "\n",
       "    .dataframe tbody tr th {\n",
       "        vertical-align: top;\n",
       "    }\n",
       "\n",
       "    .dataframe thead th {\n",
       "        text-align: right;\n",
       "    }\n",
       "</style>\n",
       "<table border=\"1\" class=\"dataframe\">\n",
       "  <thead>\n",
       "    <tr style=\"text-align: right;\">\n",
       "      <th></th>\n",
       "      <th>name</th>\n",
       "      <th>club</th>\n",
       "      <th>age</th>\n",
       "      <th>position</th>\n",
       "      <th>position_cat</th>\n",
       "      <th>market_value</th>\n",
       "      <th>page_views</th>\n",
       "      <th>fpl_value</th>\n",
       "      <th>fpl_sel</th>\n",
       "      <th>fpl_points</th>\n",
       "      <th>region</th>\n",
       "      <th>nationality</th>\n",
       "      <th>new_foreign</th>\n",
       "      <th>age_cat</th>\n",
       "      <th>club_id</th>\n",
       "      <th>big_club</th>\n",
       "      <th>new_signing</th>\n",
       "    </tr>\n",
       "  </thead>\n",
       "  <tbody>\n",
       "    <tr>\n",
       "      <th>0</th>\n",
       "      <td>Alexis Sanchez</td>\n",
       "      <td>Arsenal</td>\n",
       "      <td>28</td>\n",
       "      <td>LW</td>\n",
       "      <td>1</td>\n",
       "      <td>65.0</td>\n",
       "      <td>4329</td>\n",
       "      <td>12.0</td>\n",
       "      <td>17.10%</td>\n",
       "      <td>264</td>\n",
       "      <td>3</td>\n",
       "      <td>Chile</td>\n",
       "      <td>0</td>\n",
       "      <td>4</td>\n",
       "      <td>1</td>\n",
       "      <td>1</td>\n",
       "      <td>0</td>\n",
       "    </tr>\n",
       "    <tr>\n",
       "      <th>1</th>\n",
       "      <td>Mesut Ozil</td>\n",
       "      <td>Arsenal</td>\n",
       "      <td>28</td>\n",
       "      <td>AM</td>\n",
       "      <td>1</td>\n",
       "      <td>50.0</td>\n",
       "      <td>4395</td>\n",
       "      <td>9.5</td>\n",
       "      <td>5.60%</td>\n",
       "      <td>167</td>\n",
       "      <td>2</td>\n",
       "      <td>Germany</td>\n",
       "      <td>0</td>\n",
       "      <td>4</td>\n",
       "      <td>1</td>\n",
       "      <td>1</td>\n",
       "      <td>0</td>\n",
       "    </tr>\n",
       "    <tr>\n",
       "      <th>2</th>\n",
       "      <td>Petr Cech</td>\n",
       "      <td>Arsenal</td>\n",
       "      <td>35</td>\n",
       "      <td>GK</td>\n",
       "      <td>4</td>\n",
       "      <td>7.0</td>\n",
       "      <td>1529</td>\n",
       "      <td>5.5</td>\n",
       "      <td>5.90%</td>\n",
       "      <td>134</td>\n",
       "      <td>2</td>\n",
       "      <td>Czech Republic</td>\n",
       "      <td>0</td>\n",
       "      <td>6</td>\n",
       "      <td>1</td>\n",
       "      <td>1</td>\n",
       "      <td>0</td>\n",
       "    </tr>\n",
       "    <tr>\n",
       "      <th>3</th>\n",
       "      <td>Theo Walcott</td>\n",
       "      <td>Arsenal</td>\n",
       "      <td>28</td>\n",
       "      <td>RW</td>\n",
       "      <td>1</td>\n",
       "      <td>20.0</td>\n",
       "      <td>2393</td>\n",
       "      <td>7.5</td>\n",
       "      <td>1.50%</td>\n",
       "      <td>122</td>\n",
       "      <td>1</td>\n",
       "      <td>England</td>\n",
       "      <td>0</td>\n",
       "      <td>4</td>\n",
       "      <td>1</td>\n",
       "      <td>1</td>\n",
       "      <td>0</td>\n",
       "    </tr>\n",
       "    <tr>\n",
       "      <th>4</th>\n",
       "      <td>Laurent Koscielny</td>\n",
       "      <td>Arsenal</td>\n",
       "      <td>31</td>\n",
       "      <td>CB</td>\n",
       "      <td>3</td>\n",
       "      <td>22.0</td>\n",
       "      <td>912</td>\n",
       "      <td>6.0</td>\n",
       "      <td>0.70%</td>\n",
       "      <td>121</td>\n",
       "      <td>2</td>\n",
       "      <td>France</td>\n",
       "      <td>0</td>\n",
       "      <td>4</td>\n",
       "      <td>1</td>\n",
       "      <td>1</td>\n",
       "      <td>0</td>\n",
       "    </tr>\n",
       "  </tbody>\n",
       "</table>\n",
       "</div>"
      ],
      "text/plain": [
       "                name     club  age position  position_cat  market_value  \\\n",
       "0     Alexis Sanchez  Arsenal   28       LW             1          65.0   \n",
       "1         Mesut Ozil  Arsenal   28       AM             1          50.0   \n",
       "2          Petr Cech  Arsenal   35       GK             4           7.0   \n",
       "3       Theo Walcott  Arsenal   28       RW             1          20.0   \n",
       "4  Laurent Koscielny  Arsenal   31       CB             3          22.0   \n",
       "\n",
       "   page_views  fpl_value fpl_sel  fpl_points  region     nationality  \\\n",
       "0        4329       12.0  17.10%         264       3           Chile   \n",
       "1        4395        9.5   5.60%         167       2         Germany   \n",
       "2        1529        5.5   5.90%         134       2  Czech Republic   \n",
       "3        2393        7.5   1.50%         122       1         England   \n",
       "4         912        6.0   0.70%         121       2          France   \n",
       "\n",
       "   new_foreign  age_cat  club_id  big_club  new_signing  \n",
       "0            0        4        1         1            0  \n",
       "1            0        4        1         1            0  \n",
       "2            0        6        1         1            0  \n",
       "3            0        4        1         1            0  \n",
       "4            0        4        1         1            0  "
      ]
     },
     "execution_count": 5,
     "metadata": {},
     "output_type": "execute_result"
    }
   ],
   "source": [
    "players.head()"
   ]
  },
  {
   "cell_type": "code",
   "execution_count": 130,
   "metadata": {},
   "outputs": [
    {
     "name": "stdout",
     "output_type": "stream",
     "text": [
      "<class 'pandas.core.frame.DataFrame'>\n",
      "RangeIndex: 465 entries, 0 to 464\n",
      "Data columns (total 17 columns):\n",
      " #   Column        Non-Null Count  Dtype  \n",
      "---  ------        --------------  -----  \n",
      " 0   name          465 non-null    object \n",
      " 1   club          465 non-null    object \n",
      " 2   age           465 non-null    int64  \n",
      " 3   position      464 non-null    object \n",
      " 4   position_cat  465 non-null    int64  \n",
      " 5   market_value  462 non-null    float64\n",
      " 6   page_views    465 non-null    int64  \n",
      " 7   fpl_value     465 non-null    float64\n",
      " 8   fpl_sel       465 non-null    object \n",
      " 9   fpl_points    465 non-null    int64  \n",
      " 10  region        465 non-null    int64  \n",
      " 11  nationality   465 non-null    object \n",
      " 12  new_foreign   465 non-null    int64  \n",
      " 13  age_cat       465 non-null    int64  \n",
      " 14  club_id       465 non-null    int64  \n",
      " 15  big_club      465 non-null    int64  \n",
      " 16  new_signing   465 non-null    int64  \n",
      "dtypes: float64(2), int64(10), object(5)\n",
      "memory usage: 61.9+ KB\n"
     ]
    }
   ],
   "source": [
    "players.info() # Gives us the datatypes and not null counts for each column"
   ]
  },
  {
   "cell_type": "code",
   "execution_count": 133,
   "metadata": {},
   "outputs": [
    {
     "data": {
      "text/plain": [
       "pandas.core.series.Series"
      ]
     },
     "execution_count": 133,
     "metadata": {},
     "output_type": "execute_result"
    }
   ],
   "source": [
    "type(players.dtypes) # This is a series too"
   ]
  },
  {
   "cell_type": "code",
   "execution_count": 134,
   "metadata": {},
   "outputs": [
    {
     "data": {
      "text/plain": [
       "int64      10\n",
       "object      5\n",
       "float64     2\n",
       "dtype: int64"
      ]
     },
     "execution_count": 134,
     "metadata": {},
     "output_type": "execute_result"
    }
   ],
   "source": [
    "players.dtypes.value_counts() # Number of columns of diff datatypes"
   ]
  },
  {
   "cell_type": "code",
   "execution_count": 135,
   "metadata": {},
   "outputs": [
    {
     "name": "stdout",
     "output_type": "stream",
     "text": [
      "<class 'pandas.core.frame.DataFrame'>\n",
      "RangeIndex: 465 entries, 0 to 464\n",
      "Columns: 17 entries, name to new_signing\n",
      "dtypes: float64(2), int64(10), object(5)\n",
      "memory usage: 61.9+ KB\n"
     ]
    }
   ],
   "source": [
    "players.info(verbose=False)"
   ]
  },
  {
   "cell_type": "code",
   "execution_count": 137,
   "metadata": {},
   "outputs": [
    {
     "name": "stdout",
     "output_type": "stream",
     "text": [
      "<class 'pandas.core.frame.DataFrame'>\n",
      "RangeIndex: 465 entries, 0 to 464\n",
      "Columns: 17 entries, name to new_signing\n",
      "dtypes: float64(2), int64(10), object(5)\n",
      "memory usage: 190.7 KB\n"
     ]
    }
   ],
   "source": [
    "players.info(verbose=False, memory_usage='deep') # Shorter summary that includes the memory size of the dataset"
   ]
  },
  {
   "cell_type": "markdown",
   "metadata": {},
   "source": [
    "### Filtering"
   ]
  },
  {
   "cell_type": "markdown",
   "metadata": {},
   "source": [
    "#### Functions for Boolean Masks\n",
    "\n",
    "Boolean Indexing: \n",
    "\n",
    "1. Generate sequence of booleans\n",
    "2. Use boolean sequence in [] or .loc[]"
   ]
  },
  {
   "cell_type": "code",
   "execution_count": 140,
   "metadata": {},
   "outputs": [
    {
     "data": {
      "text/plain": [
       "pandas.core.series.Series"
      ]
     },
     "execution_count": 140,
     "metadata": {},
     "output_type": "execute_result"
    }
   ],
   "source": [
    "# Q: Players with market value greater than 40M? \n",
    "\n",
    "type(players.market_value) # So a single column in the pandas dataframe is surprise surprise, a series"
   ]
  },
  {
   "cell_type": "code",
   "execution_count": 141,
   "metadata": {},
   "outputs": [
    {
     "data": {
      "text/plain": [
       "0       True\n",
       "1       True\n",
       "2      False\n",
       "3      False\n",
       "4      False\n",
       "       ...  \n",
       "460    False\n",
       "461    False\n",
       "462    False\n",
       "463    False\n",
       "464    False\n",
       "Name: market_value, Length: 465, dtype: bool"
      ]
     },
     "execution_count": 141,
     "metadata": {},
     "output_type": "execute_result"
    }
   ],
   "source": [
    "players.market_value > 40"
   ]
  },
  {
   "cell_type": "code",
   "execution_count": 143,
   "metadata": {},
   "outputs": [
    {
     "data": {
      "text/html": [
       "<div>\n",
       "<style scoped>\n",
       "    .dataframe tbody tr th:only-of-type {\n",
       "        vertical-align: middle;\n",
       "    }\n",
       "\n",
       "    .dataframe tbody tr th {\n",
       "        vertical-align: top;\n",
       "    }\n",
       "\n",
       "    .dataframe thead th {\n",
       "        text-align: right;\n",
       "    }\n",
       "</style>\n",
       "<table border=\"1\" class=\"dataframe\">\n",
       "  <thead>\n",
       "    <tr style=\"text-align: right;\">\n",
       "      <th></th>\n",
       "      <th>name</th>\n",
       "      <th>club</th>\n",
       "      <th>age</th>\n",
       "      <th>position</th>\n",
       "      <th>position_cat</th>\n",
       "      <th>market_value</th>\n",
       "      <th>page_views</th>\n",
       "      <th>fpl_value</th>\n",
       "      <th>fpl_sel</th>\n",
       "      <th>fpl_points</th>\n",
       "      <th>region</th>\n",
       "      <th>nationality</th>\n",
       "      <th>new_foreign</th>\n",
       "      <th>age_cat</th>\n",
       "      <th>club_id</th>\n",
       "      <th>big_club</th>\n",
       "      <th>new_signing</th>\n",
       "    </tr>\n",
       "  </thead>\n",
       "  <tbody>\n",
       "    <tr>\n",
       "      <th>0</th>\n",
       "      <td>Alexis Sanchez</td>\n",
       "      <td>Arsenal</td>\n",
       "      <td>28</td>\n",
       "      <td>LW</td>\n",
       "      <td>1</td>\n",
       "      <td>65.0</td>\n",
       "      <td>4329</td>\n",
       "      <td>12.0</td>\n",
       "      <td>17.10%</td>\n",
       "      <td>264</td>\n",
       "      <td>3</td>\n",
       "      <td>Chile</td>\n",
       "      <td>0</td>\n",
       "      <td>4</td>\n",
       "      <td>1</td>\n",
       "      <td>1</td>\n",
       "      <td>0</td>\n",
       "    </tr>\n",
       "    <tr>\n",
       "      <th>1</th>\n",
       "      <td>Mesut Ozil</td>\n",
       "      <td>Arsenal</td>\n",
       "      <td>28</td>\n",
       "      <td>AM</td>\n",
       "      <td>1</td>\n",
       "      <td>50.0</td>\n",
       "      <td>4395</td>\n",
       "      <td>9.5</td>\n",
       "      <td>5.60%</td>\n",
       "      <td>167</td>\n",
       "      <td>2</td>\n",
       "      <td>Germany</td>\n",
       "      <td>0</td>\n",
       "      <td>4</td>\n",
       "      <td>1</td>\n",
       "      <td>1</td>\n",
       "      <td>0</td>\n",
       "    </tr>\n",
       "    <tr>\n",
       "      <th>96</th>\n",
       "      <td>Eden Hazard</td>\n",
       "      <td>Chelsea</td>\n",
       "      <td>26</td>\n",
       "      <td>LW</td>\n",
       "      <td>1</td>\n",
       "      <td>75.0</td>\n",
       "      <td>4220</td>\n",
       "      <td>10.5</td>\n",
       "      <td>2.30%</td>\n",
       "      <td>224</td>\n",
       "      <td>2</td>\n",
       "      <td>Belgium</td>\n",
       "      <td>0</td>\n",
       "      <td>3</td>\n",
       "      <td>5</td>\n",
       "      <td>1</td>\n",
       "      <td>0</td>\n",
       "    </tr>\n",
       "    <tr>\n",
       "      <th>97</th>\n",
       "      <td>Diego Costa</td>\n",
       "      <td>Chelsea</td>\n",
       "      <td>28</td>\n",
       "      <td>CF</td>\n",
       "      <td>1</td>\n",
       "      <td>50.0</td>\n",
       "      <td>4454</td>\n",
       "      <td>10.0</td>\n",
       "      <td>3.00%</td>\n",
       "      <td>196</td>\n",
       "      <td>2</td>\n",
       "      <td>Spain</td>\n",
       "      <td>0</td>\n",
       "      <td>4</td>\n",
       "      <td>5</td>\n",
       "      <td>1</td>\n",
       "      <td>0</td>\n",
       "    </tr>\n",
       "    <tr>\n",
       "      <th>108</th>\n",
       "      <td>N%27Golo Kante</td>\n",
       "      <td>Chelsea</td>\n",
       "      <td>26</td>\n",
       "      <td>DM</td>\n",
       "      <td>2</td>\n",
       "      <td>50.0</td>\n",
       "      <td>4042</td>\n",
       "      <td>5.0</td>\n",
       "      <td>13.80%</td>\n",
       "      <td>83</td>\n",
       "      <td>2</td>\n",
       "      <td>France</td>\n",
       "      <td>0</td>\n",
       "      <td>3</td>\n",
       "      <td>5</td>\n",
       "      <td>1</td>\n",
       "      <td>1</td>\n",
       "    </tr>\n",
       "    <tr>\n",
       "      <th>218</th>\n",
       "      <td>Philippe Coutinho</td>\n",
       "      <td>Liverpool</td>\n",
       "      <td>25</td>\n",
       "      <td>AM</td>\n",
       "      <td>1</td>\n",
       "      <td>45.0</td>\n",
       "      <td>2958</td>\n",
       "      <td>9.0</td>\n",
       "      <td>30.80%</td>\n",
       "      <td>171</td>\n",
       "      <td>3</td>\n",
       "      <td>Brazil</td>\n",
       "      <td>0</td>\n",
       "      <td>3</td>\n",
       "      <td>10</td>\n",
       "      <td>1</td>\n",
       "      <td>0</td>\n",
       "    </tr>\n",
       "    <tr>\n",
       "      <th>244</th>\n",
       "      <td>Kevin De Bruyne</td>\n",
       "      <td>Manchester+City</td>\n",
       "      <td>26</td>\n",
       "      <td>AM</td>\n",
       "      <td>1</td>\n",
       "      <td>65.0</td>\n",
       "      <td>2252</td>\n",
       "      <td>10.0</td>\n",
       "      <td>17.50%</td>\n",
       "      <td>199</td>\n",
       "      <td>2</td>\n",
       "      <td>Belgium</td>\n",
       "      <td>0</td>\n",
       "      <td>3</td>\n",
       "      <td>11</td>\n",
       "      <td>1</td>\n",
       "      <td>0</td>\n",
       "    </tr>\n",
       "    <tr>\n",
       "      <th>245</th>\n",
       "      <td>Sergio Aguero</td>\n",
       "      <td>Manchester+City</td>\n",
       "      <td>29</td>\n",
       "      <td>CF</td>\n",
       "      <td>1</td>\n",
       "      <td>65.0</td>\n",
       "      <td>4046</td>\n",
       "      <td>11.5</td>\n",
       "      <td>9.70%</td>\n",
       "      <td>175</td>\n",
       "      <td>3</td>\n",
       "      <td>Argentina</td>\n",
       "      <td>0</td>\n",
       "      <td>4</td>\n",
       "      <td>11</td>\n",
       "      <td>1</td>\n",
       "      <td>0</td>\n",
       "    </tr>\n",
       "    <tr>\n",
       "      <th>246</th>\n",
       "      <td>Raheem Sterling</td>\n",
       "      <td>Manchester+City</td>\n",
       "      <td>22</td>\n",
       "      <td>LW</td>\n",
       "      <td>1</td>\n",
       "      <td>45.0</td>\n",
       "      <td>2074</td>\n",
       "      <td>8.0</td>\n",
       "      <td>3.80%</td>\n",
       "      <td>149</td>\n",
       "      <td>1</td>\n",
       "      <td>England</td>\n",
       "      <td>0</td>\n",
       "      <td>2</td>\n",
       "      <td>11</td>\n",
       "      <td>1</td>\n",
       "      <td>0</td>\n",
       "    </tr>\n",
       "    <tr>\n",
       "      <th>264</th>\n",
       "      <td>Romelu Lukaku</td>\n",
       "      <td>Manchester+United</td>\n",
       "      <td>24</td>\n",
       "      <td>CF</td>\n",
       "      <td>1</td>\n",
       "      <td>50.0</td>\n",
       "      <td>3727</td>\n",
       "      <td>11.5</td>\n",
       "      <td>45.00%</td>\n",
       "      <td>221</td>\n",
       "      <td>2</td>\n",
       "      <td>Belgium</td>\n",
       "      <td>0</td>\n",
       "      <td>2</td>\n",
       "      <td>12</td>\n",
       "      <td>1</td>\n",
       "      <td>0</td>\n",
       "    </tr>\n",
       "    <tr>\n",
       "      <th>267</th>\n",
       "      <td>Paul Pogba</td>\n",
       "      <td>Manchester+United</td>\n",
       "      <td>24</td>\n",
       "      <td>CM</td>\n",
       "      <td>2</td>\n",
       "      <td>75.0</td>\n",
       "      <td>7435</td>\n",
       "      <td>8.0</td>\n",
       "      <td>19.50%</td>\n",
       "      <td>115</td>\n",
       "      <td>2</td>\n",
       "      <td>France</td>\n",
       "      <td>0</td>\n",
       "      <td>2</td>\n",
       "      <td>12</td>\n",
       "      <td>1</td>\n",
       "      <td>1</td>\n",
       "    </tr>\n",
       "    <tr>\n",
       "      <th>380</th>\n",
       "      <td>Dele Alli</td>\n",
       "      <td>Tottenham</td>\n",
       "      <td>21</td>\n",
       "      <td>CM</td>\n",
       "      <td>2</td>\n",
       "      <td>45.0</td>\n",
       "      <td>4626</td>\n",
       "      <td>9.5</td>\n",
       "      <td>38.60%</td>\n",
       "      <td>225</td>\n",
       "      <td>1</td>\n",
       "      <td>England</td>\n",
       "      <td>0</td>\n",
       "      <td>1</td>\n",
       "      <td>17</td>\n",
       "      <td>1</td>\n",
       "      <td>0</td>\n",
       "    </tr>\n",
       "    <tr>\n",
       "      <th>381</th>\n",
       "      <td>Harry Kane</td>\n",
       "      <td>Tottenham</td>\n",
       "      <td>23</td>\n",
       "      <td>CF</td>\n",
       "      <td>1</td>\n",
       "      <td>60.0</td>\n",
       "      <td>4161</td>\n",
       "      <td>12.5</td>\n",
       "      <td>35.10%</td>\n",
       "      <td>224</td>\n",
       "      <td>1</td>\n",
       "      <td>England</td>\n",
       "      <td>0</td>\n",
       "      <td>2</td>\n",
       "      <td>17</td>\n",
       "      <td>1</td>\n",
       "      <td>0</td>\n",
       "    </tr>\n",
       "  </tbody>\n",
       "</table>\n",
       "</div>"
      ],
      "text/plain": [
       "                  name               club  age position  position_cat  \\\n",
       "0       Alexis Sanchez            Arsenal   28       LW             1   \n",
       "1           Mesut Ozil            Arsenal   28       AM             1   \n",
       "96         Eden Hazard            Chelsea   26       LW             1   \n",
       "97         Diego Costa            Chelsea   28       CF             1   \n",
       "108     N%27Golo Kante            Chelsea   26       DM             2   \n",
       "218  Philippe Coutinho          Liverpool   25       AM             1   \n",
       "244    Kevin De Bruyne    Manchester+City   26       AM             1   \n",
       "245      Sergio Aguero    Manchester+City   29       CF             1   \n",
       "246    Raheem Sterling    Manchester+City   22       LW             1   \n",
       "264      Romelu Lukaku  Manchester+United   24       CF             1   \n",
       "267         Paul Pogba  Manchester+United   24       CM             2   \n",
       "380          Dele Alli          Tottenham   21       CM             2   \n",
       "381         Harry Kane          Tottenham   23       CF             1   \n",
       "\n",
       "     market_value  page_views  fpl_value fpl_sel  fpl_points  region  \\\n",
       "0            65.0        4329       12.0  17.10%         264       3   \n",
       "1            50.0        4395        9.5   5.60%         167       2   \n",
       "96           75.0        4220       10.5   2.30%         224       2   \n",
       "97           50.0        4454       10.0   3.00%         196       2   \n",
       "108          50.0        4042        5.0  13.80%          83       2   \n",
       "218          45.0        2958        9.0  30.80%         171       3   \n",
       "244          65.0        2252       10.0  17.50%         199       2   \n",
       "245          65.0        4046       11.5   9.70%         175       3   \n",
       "246          45.0        2074        8.0   3.80%         149       1   \n",
       "264          50.0        3727       11.5  45.00%         221       2   \n",
       "267          75.0        7435        8.0  19.50%         115       2   \n",
       "380          45.0        4626        9.5  38.60%         225       1   \n",
       "381          60.0        4161       12.5  35.10%         224       1   \n",
       "\n",
       "    nationality  new_foreign  age_cat  club_id  big_club  new_signing  \n",
       "0         Chile            0        4        1         1            0  \n",
       "1       Germany            0        4        1         1            0  \n",
       "96      Belgium            0        3        5         1            0  \n",
       "97        Spain            0        4        5         1            0  \n",
       "108      France            0        3        5         1            1  \n",
       "218      Brazil            0        3       10         1            0  \n",
       "244     Belgium            0        3       11         1            0  \n",
       "245   Argentina            0        4       11         1            0  \n",
       "246     England            0        2       11         1            0  \n",
       "264     Belgium            0        2       12         1            0  \n",
       "267      France            0        2       12         1            1  \n",
       "380     England            0        1       17         1            0  \n",
       "381     England            0        2       17         1            0  "
      ]
     },
     "execution_count": 143,
     "metadata": {},
     "output_type": "execute_result"
    }
   ],
   "source": [
    "players[players.market_value > 40] # This is a dataframe slice"
   ]
  },
  {
   "cell_type": "code",
   "execution_count": 145,
   "metadata": {},
   "outputs": [
    {
     "data": {
      "text/plain": [
       "(13, 17)"
      ]
     },
     "execution_count": 145,
     "metadata": {},
     "output_type": "execute_result"
    }
   ],
   "source": [
    "players[players.market_value > 40].shape # Use the shape attribute to check the size of the slice, 13 rows, 13 players"
   ]
  },
  {
   "cell_type": "code",
   "execution_count": 146,
   "metadata": {},
   "outputs": [
    {
     "data": {
      "text/plain": [
       "array(['LW', 'AM', 'GK', 'RW', 'CB', 'RB', 'CF', 'LB', 'DM', 'RM', 'CM',\n",
       "       nan, 'SS', 'LM'], dtype=object)"
      ]
     },
     "execution_count": 146,
     "metadata": {},
     "output_type": "execute_result"
    }
   ],
   "source": [
    "players.position.unique()"
   ]
  },
  {
   "cell_type": "code",
   "execution_count": 148,
   "metadata": {},
   "outputs": [
    {
     "data": {
      "text/plain": [
       "14"
      ]
     },
     "execution_count": 148,
     "metadata": {},
     "output_type": "execute_result"
    }
   ],
   "source": [
    "players.position.unique().size"
   ]
  },
  {
   "cell_type": "code",
   "execution_count": 149,
   "metadata": {},
   "outputs": [
    {
     "data": {
      "text/plain": [
       "0      False\n",
       "1      False\n",
       "2      False\n",
       "3      False\n",
       "4       True\n",
       "       ...  \n",
       "460    False\n",
       "461     True\n",
       "462     True\n",
       "463    False\n",
       "464    False\n",
       "Name: position, Length: 465, dtype: bool"
      ]
     },
     "execution_count": 149,
     "metadata": {},
     "output_type": "execute_result"
    }
   ],
   "source": [
    "# Apparently there are defender codes : LB, CB, RB\n",
    "players.position.isin(['LB', 'CB', 'RB'])  # Returns a boolean mask "
   ]
  },
  {
   "cell_type": "code",
   "execution_count": 150,
   "metadata": {},
   "outputs": [
    {
     "data": {
      "text/html": [
       "<div>\n",
       "<style scoped>\n",
       "    .dataframe tbody tr th:only-of-type {\n",
       "        vertical-align: middle;\n",
       "    }\n",
       "\n",
       "    .dataframe tbody tr th {\n",
       "        vertical-align: top;\n",
       "    }\n",
       "\n",
       "    .dataframe thead th {\n",
       "        text-align: right;\n",
       "    }\n",
       "</style>\n",
       "<table border=\"1\" class=\"dataframe\">\n",
       "  <thead>\n",
       "    <tr style=\"text-align: right;\">\n",
       "      <th></th>\n",
       "      <th>name</th>\n",
       "      <th>club</th>\n",
       "      <th>age</th>\n",
       "      <th>position</th>\n",
       "      <th>position_cat</th>\n",
       "      <th>market_value</th>\n",
       "      <th>page_views</th>\n",
       "      <th>fpl_value</th>\n",
       "      <th>fpl_sel</th>\n",
       "      <th>fpl_points</th>\n",
       "      <th>region</th>\n",
       "      <th>nationality</th>\n",
       "      <th>new_foreign</th>\n",
       "      <th>age_cat</th>\n",
       "      <th>club_id</th>\n",
       "      <th>big_club</th>\n",
       "      <th>new_signing</th>\n",
       "    </tr>\n",
       "  </thead>\n",
       "  <tbody>\n",
       "    <tr>\n",
       "      <th>4</th>\n",
       "      <td>Laurent Koscielny</td>\n",
       "      <td>Arsenal</td>\n",
       "      <td>31</td>\n",
       "      <td>CB</td>\n",
       "      <td>3</td>\n",
       "      <td>22.0</td>\n",
       "      <td>912</td>\n",
       "      <td>6.0</td>\n",
       "      <td>0.70%</td>\n",
       "      <td>121</td>\n",
       "      <td>2</td>\n",
       "      <td>France</td>\n",
       "      <td>0</td>\n",
       "      <td>4</td>\n",
       "      <td>1</td>\n",
       "      <td>1</td>\n",
       "      <td>0</td>\n",
       "    </tr>\n",
       "    <tr>\n",
       "      <th>5</th>\n",
       "      <td>Hector Bellerin</td>\n",
       "      <td>Arsenal</td>\n",
       "      <td>22</td>\n",
       "      <td>RB</td>\n",
       "      <td>3</td>\n",
       "      <td>30.0</td>\n",
       "      <td>1675</td>\n",
       "      <td>6.0</td>\n",
       "      <td>13.70%</td>\n",
       "      <td>119</td>\n",
       "      <td>2</td>\n",
       "      <td>Spain</td>\n",
       "      <td>0</td>\n",
       "      <td>2</td>\n",
       "      <td>1</td>\n",
       "      <td>1</td>\n",
       "      <td>0</td>\n",
       "    </tr>\n",
       "    <tr>\n",
       "      <th>7</th>\n",
       "      <td>Nacho Monreal</td>\n",
       "      <td>Arsenal</td>\n",
       "      <td>31</td>\n",
       "      <td>LB</td>\n",
       "      <td>3</td>\n",
       "      <td>13.0</td>\n",
       "      <td>555</td>\n",
       "      <td>5.5</td>\n",
       "      <td>4.70%</td>\n",
       "      <td>115</td>\n",
       "      <td>2</td>\n",
       "      <td>Spain</td>\n",
       "      <td>0</td>\n",
       "      <td>4</td>\n",
       "      <td>1</td>\n",
       "      <td>1</td>\n",
       "      <td>0</td>\n",
       "    </tr>\n",
       "    <tr>\n",
       "      <th>8</th>\n",
       "      <td>Shkodran Mustafi</td>\n",
       "      <td>Arsenal</td>\n",
       "      <td>25</td>\n",
       "      <td>CB</td>\n",
       "      <td>3</td>\n",
       "      <td>30.0</td>\n",
       "      <td>1877</td>\n",
       "      <td>5.5</td>\n",
       "      <td>4.00%</td>\n",
       "      <td>90</td>\n",
       "      <td>2</td>\n",
       "      <td>Germany</td>\n",
       "      <td>0</td>\n",
       "      <td>3</td>\n",
       "      <td>1</td>\n",
       "      <td>1</td>\n",
       "      <td>1</td>\n",
       "    </tr>\n",
       "    <tr>\n",
       "      <th>17</th>\n",
       "      <td>Gabriel Paulista</td>\n",
       "      <td>Arsenal</td>\n",
       "      <td>26</td>\n",
       "      <td>CB</td>\n",
       "      <td>3</td>\n",
       "      <td>13.0</td>\n",
       "      <td>552</td>\n",
       "      <td>5.0</td>\n",
       "      <td>0.10%</td>\n",
       "      <td>45</td>\n",
       "      <td>3</td>\n",
       "      <td>Brazil</td>\n",
       "      <td>0</td>\n",
       "      <td>3</td>\n",
       "      <td>1</td>\n",
       "      <td>1</td>\n",
       "      <td>0</td>\n",
       "    </tr>\n",
       "    <tr>\n",
       "      <th>...</th>\n",
       "      <td>...</td>\n",
       "      <td>...</td>\n",
       "      <td>...</td>\n",
       "      <td>...</td>\n",
       "      <td>...</td>\n",
       "      <td>...</td>\n",
       "      <td>...</td>\n",
       "      <td>...</td>\n",
       "      <td>...</td>\n",
       "      <td>...</td>\n",
       "      <td>...</td>\n",
       "      <td>...</td>\n",
       "      <td>...</td>\n",
       "      <td>...</td>\n",
       "      <td>...</td>\n",
       "      <td>...</td>\n",
       "      <td>...</td>\n",
       "    </tr>\n",
       "    <tr>\n",
       "      <th>455</th>\n",
       "      <td>Aaron Cresswell</td>\n",
       "      <td>West+Ham</td>\n",
       "      <td>27</td>\n",
       "      <td>LB</td>\n",
       "      <td>3</td>\n",
       "      <td>12.0</td>\n",
       "      <td>380</td>\n",
       "      <td>5.0</td>\n",
       "      <td>1.30%</td>\n",
       "      <td>60</td>\n",
       "      <td>1</td>\n",
       "      <td>England</td>\n",
       "      <td>0</td>\n",
       "      <td>3</td>\n",
       "      <td>20</td>\n",
       "      <td>0</td>\n",
       "      <td>0</td>\n",
       "    </tr>\n",
       "    <tr>\n",
       "      <th>458</th>\n",
       "      <td>Angelo Ogbonna</td>\n",
       "      <td>West+Ham</td>\n",
       "      <td>29</td>\n",
       "      <td>CB</td>\n",
       "      <td>3</td>\n",
       "      <td>9.0</td>\n",
       "      <td>247</td>\n",
       "      <td>4.5</td>\n",
       "      <td>1.10%</td>\n",
       "      <td>45</td>\n",
       "      <td>2</td>\n",
       "      <td>Italy</td>\n",
       "      <td>0</td>\n",
       "      <td>4</td>\n",
       "      <td>20</td>\n",
       "      <td>0</td>\n",
       "      <td>0</td>\n",
       "    </tr>\n",
       "    <tr>\n",
       "      <th>459</th>\n",
       "      <td>Pablo Zabaleta</td>\n",
       "      <td>West+Ham</td>\n",
       "      <td>32</td>\n",
       "      <td>RB</td>\n",
       "      <td>3</td>\n",
       "      <td>7.0</td>\n",
       "      <td>698</td>\n",
       "      <td>5.0</td>\n",
       "      <td>2.70%</td>\n",
       "      <td>45</td>\n",
       "      <td>3</td>\n",
       "      <td>Argentina</td>\n",
       "      <td>0</td>\n",
       "      <td>5</td>\n",
       "      <td>20</td>\n",
       "      <td>0</td>\n",
       "      <td>0</td>\n",
       "    </tr>\n",
       "    <tr>\n",
       "      <th>461</th>\n",
       "      <td>Arthur Masuaku</td>\n",
       "      <td>West+Ham</td>\n",
       "      <td>23</td>\n",
       "      <td>LB</td>\n",
       "      <td>3</td>\n",
       "      <td>7.0</td>\n",
       "      <td>199</td>\n",
       "      <td>4.5</td>\n",
       "      <td>0.20%</td>\n",
       "      <td>34</td>\n",
       "      <td>4</td>\n",
       "      <td>Congo DR</td>\n",
       "      <td>0</td>\n",
       "      <td>2</td>\n",
       "      <td>20</td>\n",
       "      <td>0</td>\n",
       "      <td>1</td>\n",
       "    </tr>\n",
       "    <tr>\n",
       "      <th>462</th>\n",
       "      <td>Sam Byram</td>\n",
       "      <td>West+Ham</td>\n",
       "      <td>23</td>\n",
       "      <td>RB</td>\n",
       "      <td>3</td>\n",
       "      <td>4.5</td>\n",
       "      <td>198</td>\n",
       "      <td>4.5</td>\n",
       "      <td>0.30%</td>\n",
       "      <td>29</td>\n",
       "      <td>1</td>\n",
       "      <td>England</td>\n",
       "      <td>0</td>\n",
       "      <td>2</td>\n",
       "      <td>20</td>\n",
       "      <td>0</td>\n",
       "      <td>0</td>\n",
       "    </tr>\n",
       "  </tbody>\n",
       "</table>\n",
       "<p>154 rows × 17 columns</p>\n",
       "</div>"
      ],
      "text/plain": [
       "                  name      club  age position  position_cat  market_value  \\\n",
       "4    Laurent Koscielny   Arsenal   31       CB             3          22.0   \n",
       "5      Hector Bellerin   Arsenal   22       RB             3          30.0   \n",
       "7        Nacho Monreal   Arsenal   31       LB             3          13.0   \n",
       "8     Shkodran Mustafi   Arsenal   25       CB             3          30.0   \n",
       "17    Gabriel Paulista   Arsenal   26       CB             3          13.0   \n",
       "..                 ...       ...  ...      ...           ...           ...   \n",
       "455    Aaron Cresswell  West+Ham   27       LB             3          12.0   \n",
       "458     Angelo Ogbonna  West+Ham   29       CB             3           9.0   \n",
       "459     Pablo Zabaleta  West+Ham   32       RB             3           7.0   \n",
       "461     Arthur Masuaku  West+Ham   23       LB             3           7.0   \n",
       "462          Sam Byram  West+Ham   23       RB             3           4.5   \n",
       "\n",
       "     page_views  fpl_value fpl_sel  fpl_points  region nationality  \\\n",
       "4           912        6.0   0.70%         121       2      France   \n",
       "5          1675        6.0  13.70%         119       2       Spain   \n",
       "7           555        5.5   4.70%         115       2       Spain   \n",
       "8          1877        5.5   4.00%          90       2     Germany   \n",
       "17          552        5.0   0.10%          45       3      Brazil   \n",
       "..          ...        ...     ...         ...     ...         ...   \n",
       "455         380        5.0   1.30%          60       1     England   \n",
       "458         247        4.5   1.10%          45       2       Italy   \n",
       "459         698        5.0   2.70%          45       3   Argentina   \n",
       "461         199        4.5   0.20%          34       4    Congo DR   \n",
       "462         198        4.5   0.30%          29       1     England   \n",
       "\n",
       "     new_foreign  age_cat  club_id  big_club  new_signing  \n",
       "4              0        4        1         1            0  \n",
       "5              0        2        1         1            0  \n",
       "7              0        4        1         1            0  \n",
       "8              0        3        1         1            1  \n",
       "17             0        3        1         1            0  \n",
       "..           ...      ...      ...       ...          ...  \n",
       "455            0        3       20         0            0  \n",
       "458            0        4       20         0            0  \n",
       "459            0        5       20         0            0  \n",
       "461            0        2       20         0            1  \n",
       "462            0        2       20         0            0  \n",
       "\n",
       "[154 rows x 17 columns]"
      ]
     },
     "execution_count": 150,
     "metadata": {},
     "output_type": "execute_result"
    }
   ],
   "source": [
    "players.loc[players.position.isin(['LB', 'CB', 'RB'])] # Filtering the df with isin()"
   ]
  },
  {
   "cell_type": "code",
   "execution_count": 155,
   "metadata": {},
   "outputs": [
    {
     "data": {
      "text/html": [
       "<div>\n",
       "<style scoped>\n",
       "    .dataframe tbody tr th:only-of-type {\n",
       "        vertical-align: middle;\n",
       "    }\n",
       "\n",
       "    .dataframe tbody tr th {\n",
       "        vertical-align: top;\n",
       "    }\n",
       "\n",
       "    .dataframe thead th {\n",
       "        text-align: right;\n",
       "    }\n",
       "</style>\n",
       "<table border=\"1\" class=\"dataframe\">\n",
       "  <thead>\n",
       "    <tr style=\"text-align: right;\">\n",
       "      <th></th>\n",
       "      <th>name</th>\n",
       "      <th>club</th>\n",
       "      <th>age</th>\n",
       "      <th>position</th>\n",
       "      <th>position_cat</th>\n",
       "      <th>market_value</th>\n",
       "      <th>page_views</th>\n",
       "      <th>fpl_value</th>\n",
       "      <th>fpl_sel</th>\n",
       "      <th>fpl_points</th>\n",
       "      <th>region</th>\n",
       "      <th>nationality</th>\n",
       "      <th>new_foreign</th>\n",
       "      <th>age_cat</th>\n",
       "      <th>club_id</th>\n",
       "      <th>big_club</th>\n",
       "      <th>new_signing</th>\n",
       "    </tr>\n",
       "  </thead>\n",
       "  <tbody>\n",
       "    <tr>\n",
       "      <th>218</th>\n",
       "      <td>Philippe Coutinho</td>\n",
       "      <td>Liverpool</td>\n",
       "      <td>25</td>\n",
       "      <td>AM</td>\n",
       "      <td>1</td>\n",
       "      <td>45.0</td>\n",
       "      <td>2958</td>\n",
       "      <td>9.0</td>\n",
       "      <td>30.80%</td>\n",
       "      <td>171</td>\n",
       "      <td>3</td>\n",
       "      <td>Brazil</td>\n",
       "      <td>0</td>\n",
       "      <td>3</td>\n",
       "      <td>10</td>\n",
       "      <td>1</td>\n",
       "      <td>0</td>\n",
       "    </tr>\n",
       "    <tr>\n",
       "      <th>246</th>\n",
       "      <td>Raheem Sterling</td>\n",
       "      <td>Manchester+City</td>\n",
       "      <td>22</td>\n",
       "      <td>LW</td>\n",
       "      <td>1</td>\n",
       "      <td>45.0</td>\n",
       "      <td>2074</td>\n",
       "      <td>8.0</td>\n",
       "      <td>3.80%</td>\n",
       "      <td>149</td>\n",
       "      <td>1</td>\n",
       "      <td>England</td>\n",
       "      <td>0</td>\n",
       "      <td>2</td>\n",
       "      <td>11</td>\n",
       "      <td>1</td>\n",
       "      <td>0</td>\n",
       "    </tr>\n",
       "    <tr>\n",
       "      <th>380</th>\n",
       "      <td>Dele Alli</td>\n",
       "      <td>Tottenham</td>\n",
       "      <td>21</td>\n",
       "      <td>CM</td>\n",
       "      <td>2</td>\n",
       "      <td>45.0</td>\n",
       "      <td>4626</td>\n",
       "      <td>9.5</td>\n",
       "      <td>38.60%</td>\n",
       "      <td>225</td>\n",
       "      <td>1</td>\n",
       "      <td>England</td>\n",
       "      <td>0</td>\n",
       "      <td>1</td>\n",
       "      <td>17</td>\n",
       "      <td>1</td>\n",
       "      <td>0</td>\n",
       "    </tr>\n",
       "  </tbody>\n",
       "</table>\n",
       "</div>"
      ],
      "text/plain": [
       "                  name             club  age position  position_cat  \\\n",
       "218  Philippe Coutinho        Liverpool   25       AM             1   \n",
       "246    Raheem Sterling  Manchester+City   22       LW             1   \n",
       "380          Dele Alli        Tottenham   21       CM             2   \n",
       "\n",
       "     market_value  page_views  fpl_value fpl_sel  fpl_points  region  \\\n",
       "218          45.0        2958        9.0  30.80%         171       3   \n",
       "246          45.0        2074        8.0   3.80%         149       1   \n",
       "380          45.0        4626        9.5  38.60%         225       1   \n",
       "\n",
       "    nationality  new_foreign  age_cat  club_id  big_club  new_signing  \n",
       "218      Brazil            0        3       10         1            0  \n",
       "246     England            0        2       11         1            0  \n",
       "380     England            0        1       17         1            0  "
      ]
     },
     "execution_count": 155,
     "metadata": {},
     "output_type": "execute_result"
    }
   ],
   "source": [
    "players.loc[players.market_value.between(40, 50, inclusive='neither')] # Filtering df with between()"
   ]
  },
  {
   "cell_type": "code",
   "execution_count": 156,
   "metadata": {},
   "outputs": [
    {
     "data": {
      "text/html": [
       "<div>\n",
       "<style scoped>\n",
       "    .dataframe tbody tr th:only-of-type {\n",
       "        vertical-align: middle;\n",
       "    }\n",
       "\n",
       "    .dataframe tbody tr th {\n",
       "        vertical-align: top;\n",
       "    }\n",
       "\n",
       "    .dataframe thead th {\n",
       "        text-align: right;\n",
       "    }\n",
       "</style>\n",
       "<table border=\"1\" class=\"dataframe\">\n",
       "  <thead>\n",
       "    <tr style=\"text-align: right;\">\n",
       "      <th></th>\n",
       "      <th>name</th>\n",
       "      <th>club</th>\n",
       "      <th>age</th>\n",
       "      <th>position</th>\n",
       "      <th>position_cat</th>\n",
       "      <th>market_value</th>\n",
       "      <th>page_views</th>\n",
       "      <th>fpl_value</th>\n",
       "      <th>fpl_sel</th>\n",
       "      <th>fpl_points</th>\n",
       "      <th>region</th>\n",
       "      <th>nationality</th>\n",
       "      <th>new_foreign</th>\n",
       "      <th>age_cat</th>\n",
       "      <th>club_id</th>\n",
       "      <th>big_club</th>\n",
       "      <th>new_signing</th>\n",
       "    </tr>\n",
       "  </thead>\n",
       "  <tbody>\n",
       "    <tr>\n",
       "      <th>1</th>\n",
       "      <td>Mesut Ozil</td>\n",
       "      <td>Arsenal</td>\n",
       "      <td>28</td>\n",
       "      <td>AM</td>\n",
       "      <td>1</td>\n",
       "      <td>50.0</td>\n",
       "      <td>4395</td>\n",
       "      <td>9.5</td>\n",
       "      <td>5.60%</td>\n",
       "      <td>167</td>\n",
       "      <td>2</td>\n",
       "      <td>Germany</td>\n",
       "      <td>0</td>\n",
       "      <td>4</td>\n",
       "      <td>1</td>\n",
       "      <td>1</td>\n",
       "      <td>0</td>\n",
       "    </tr>\n",
       "    <tr>\n",
       "      <th>31</th>\n",
       "      <td>Alexandre Lacazette</td>\n",
       "      <td>Arsenal</td>\n",
       "      <td>26</td>\n",
       "      <td>CF</td>\n",
       "      <td>1</td>\n",
       "      <td>40.0</td>\n",
       "      <td>1183</td>\n",
       "      <td>10.5</td>\n",
       "      <td>26.50%</td>\n",
       "      <td>0</td>\n",
       "      <td>2</td>\n",
       "      <td>France</td>\n",
       "      <td>1</td>\n",
       "      <td>3</td>\n",
       "      <td>1</td>\n",
       "      <td>1</td>\n",
       "      <td>0</td>\n",
       "    </tr>\n",
       "    <tr>\n",
       "      <th>97</th>\n",
       "      <td>Diego Costa</td>\n",
       "      <td>Chelsea</td>\n",
       "      <td>28</td>\n",
       "      <td>CF</td>\n",
       "      <td>1</td>\n",
       "      <td>50.0</td>\n",
       "      <td>4454</td>\n",
       "      <td>10.0</td>\n",
       "      <td>3.00%</td>\n",
       "      <td>196</td>\n",
       "      <td>2</td>\n",
       "      <td>Spain</td>\n",
       "      <td>0</td>\n",
       "      <td>4</td>\n",
       "      <td>5</td>\n",
       "      <td>1</td>\n",
       "      <td>0</td>\n",
       "    </tr>\n",
       "    <tr>\n",
       "      <th>102</th>\n",
       "      <td>Thibaut Courtois</td>\n",
       "      <td>Chelsea</td>\n",
       "      <td>25</td>\n",
       "      <td>GK</td>\n",
       "      <td>4</td>\n",
       "      <td>40.0</td>\n",
       "      <td>1260</td>\n",
       "      <td>5.5</td>\n",
       "      <td>18.50%</td>\n",
       "      <td>141</td>\n",
       "      <td>2</td>\n",
       "      <td>Belgium</td>\n",
       "      <td>0</td>\n",
       "      <td>3</td>\n",
       "      <td>5</td>\n",
       "      <td>1</td>\n",
       "      <td>0</td>\n",
       "    </tr>\n",
       "    <tr>\n",
       "      <th>108</th>\n",
       "      <td>N%27Golo Kante</td>\n",
       "      <td>Chelsea</td>\n",
       "      <td>26</td>\n",
       "      <td>DM</td>\n",
       "      <td>2</td>\n",
       "      <td>50.0</td>\n",
       "      <td>4042</td>\n",
       "      <td>5.0</td>\n",
       "      <td>13.80%</td>\n",
       "      <td>83</td>\n",
       "      <td>2</td>\n",
       "      <td>France</td>\n",
       "      <td>0</td>\n",
       "      <td>3</td>\n",
       "      <td>5</td>\n",
       "      <td>1</td>\n",
       "      <td>1</td>\n",
       "    </tr>\n",
       "    <tr>\n",
       "      <th>218</th>\n",
       "      <td>Philippe Coutinho</td>\n",
       "      <td>Liverpool</td>\n",
       "      <td>25</td>\n",
       "      <td>AM</td>\n",
       "      <td>1</td>\n",
       "      <td>45.0</td>\n",
       "      <td>2958</td>\n",
       "      <td>9.0</td>\n",
       "      <td>30.80%</td>\n",
       "      <td>171</td>\n",
       "      <td>3</td>\n",
       "      <td>Brazil</td>\n",
       "      <td>0</td>\n",
       "      <td>3</td>\n",
       "      <td>10</td>\n",
       "      <td>1</td>\n",
       "      <td>0</td>\n",
       "    </tr>\n",
       "    <tr>\n",
       "      <th>219</th>\n",
       "      <td>Sadio Mane</td>\n",
       "      <td>Liverpool</td>\n",
       "      <td>25</td>\n",
       "      <td>LW</td>\n",
       "      <td>1</td>\n",
       "      <td>40.0</td>\n",
       "      <td>3219</td>\n",
       "      <td>9.5</td>\n",
       "      <td>5.30%</td>\n",
       "      <td>156</td>\n",
       "      <td>4</td>\n",
       "      <td>Senegal</td>\n",
       "      <td>0</td>\n",
       "      <td>3</td>\n",
       "      <td>10</td>\n",
       "      <td>1</td>\n",
       "      <td>1</td>\n",
       "    </tr>\n",
       "    <tr>\n",
       "      <th>246</th>\n",
       "      <td>Raheem Sterling</td>\n",
       "      <td>Manchester+City</td>\n",
       "      <td>22</td>\n",
       "      <td>LW</td>\n",
       "      <td>1</td>\n",
       "      <td>45.0</td>\n",
       "      <td>2074</td>\n",
       "      <td>8.0</td>\n",
       "      <td>3.80%</td>\n",
       "      <td>149</td>\n",
       "      <td>1</td>\n",
       "      <td>England</td>\n",
       "      <td>0</td>\n",
       "      <td>2</td>\n",
       "      <td>11</td>\n",
       "      <td>1</td>\n",
       "      <td>0</td>\n",
       "    </tr>\n",
       "    <tr>\n",
       "      <th>263</th>\n",
       "      <td>Bernardo Silva</td>\n",
       "      <td>Manchester+City</td>\n",
       "      <td>22</td>\n",
       "      <td>RW</td>\n",
       "      <td>1</td>\n",
       "      <td>40.0</td>\n",
       "      <td>1098</td>\n",
       "      <td>8.0</td>\n",
       "      <td>4.60%</td>\n",
       "      <td>0</td>\n",
       "      <td>2</td>\n",
       "      <td>Portugal</td>\n",
       "      <td>1</td>\n",
       "      <td>2</td>\n",
       "      <td>11</td>\n",
       "      <td>1</td>\n",
       "      <td>0</td>\n",
       "    </tr>\n",
       "    <tr>\n",
       "      <th>264</th>\n",
       "      <td>Romelu Lukaku</td>\n",
       "      <td>Manchester+United</td>\n",
       "      <td>24</td>\n",
       "      <td>CF</td>\n",
       "      <td>1</td>\n",
       "      <td>50.0</td>\n",
       "      <td>3727</td>\n",
       "      <td>11.5</td>\n",
       "      <td>45.00%</td>\n",
       "      <td>221</td>\n",
       "      <td>2</td>\n",
       "      <td>Belgium</td>\n",
       "      <td>0</td>\n",
       "      <td>2</td>\n",
       "      <td>12</td>\n",
       "      <td>1</td>\n",
       "      <td>0</td>\n",
       "    </tr>\n",
       "    <tr>\n",
       "      <th>265</th>\n",
       "      <td>David de Gea</td>\n",
       "      <td>Manchester+United</td>\n",
       "      <td>26</td>\n",
       "      <td>GK</td>\n",
       "      <td>4</td>\n",
       "      <td>40.0</td>\n",
       "      <td>2126</td>\n",
       "      <td>5.5</td>\n",
       "      <td>26.10%</td>\n",
       "      <td>136</td>\n",
       "      <td>2</td>\n",
       "      <td>Spain</td>\n",
       "      <td>0</td>\n",
       "      <td>3</td>\n",
       "      <td>12</td>\n",
       "      <td>1</td>\n",
       "      <td>0</td>\n",
       "    </tr>\n",
       "    <tr>\n",
       "      <th>380</th>\n",
       "      <td>Dele Alli</td>\n",
       "      <td>Tottenham</td>\n",
       "      <td>21</td>\n",
       "      <td>CM</td>\n",
       "      <td>2</td>\n",
       "      <td>45.0</td>\n",
       "      <td>4626</td>\n",
       "      <td>9.5</td>\n",
       "      <td>38.60%</td>\n",
       "      <td>225</td>\n",
       "      <td>1</td>\n",
       "      <td>England</td>\n",
       "      <td>0</td>\n",
       "      <td>1</td>\n",
       "      <td>17</td>\n",
       "      <td>1</td>\n",
       "      <td>0</td>\n",
       "    </tr>\n",
       "    <tr>\n",
       "      <th>382</th>\n",
       "      <td>Christian Eriksen</td>\n",
       "      <td>Tottenham</td>\n",
       "      <td>25</td>\n",
       "      <td>AM</td>\n",
       "      <td>1</td>\n",
       "      <td>40.0</td>\n",
       "      <td>1130</td>\n",
       "      <td>9.5</td>\n",
       "      <td>12.00%</td>\n",
       "      <td>218</td>\n",
       "      <td>2</td>\n",
       "      <td>Denmark</td>\n",
       "      <td>0</td>\n",
       "      <td>3</td>\n",
       "      <td>17</td>\n",
       "      <td>1</td>\n",
       "      <td>0</td>\n",
       "    </tr>\n",
       "  </tbody>\n",
       "</table>\n",
       "</div>"
      ],
      "text/plain": [
       "                    name               club  age position  position_cat  \\\n",
       "1             Mesut Ozil            Arsenal   28       AM             1   \n",
       "31   Alexandre Lacazette            Arsenal   26       CF             1   \n",
       "97           Diego Costa            Chelsea   28       CF             1   \n",
       "102     Thibaut Courtois            Chelsea   25       GK             4   \n",
       "108       N%27Golo Kante            Chelsea   26       DM             2   \n",
       "218    Philippe Coutinho          Liverpool   25       AM             1   \n",
       "219           Sadio Mane          Liverpool   25       LW             1   \n",
       "246      Raheem Sterling    Manchester+City   22       LW             1   \n",
       "263       Bernardo Silva    Manchester+City   22       RW             1   \n",
       "264        Romelu Lukaku  Manchester+United   24       CF             1   \n",
       "265         David de Gea  Manchester+United   26       GK             4   \n",
       "380            Dele Alli          Tottenham   21       CM             2   \n",
       "382    Christian Eriksen          Tottenham   25       AM             1   \n",
       "\n",
       "     market_value  page_views  fpl_value fpl_sel  fpl_points  region  \\\n",
       "1            50.0        4395        9.5   5.60%         167       2   \n",
       "31           40.0        1183       10.5  26.50%           0       2   \n",
       "97           50.0        4454       10.0   3.00%         196       2   \n",
       "102          40.0        1260        5.5  18.50%         141       2   \n",
       "108          50.0        4042        5.0  13.80%          83       2   \n",
       "218          45.0        2958        9.0  30.80%         171       3   \n",
       "219          40.0        3219        9.5   5.30%         156       4   \n",
       "246          45.0        2074        8.0   3.80%         149       1   \n",
       "263          40.0        1098        8.0   4.60%           0       2   \n",
       "264          50.0        3727       11.5  45.00%         221       2   \n",
       "265          40.0        2126        5.5  26.10%         136       2   \n",
       "380          45.0        4626        9.5  38.60%         225       1   \n",
       "382          40.0        1130        9.5  12.00%         218       2   \n",
       "\n",
       "    nationality  new_foreign  age_cat  club_id  big_club  new_signing  \n",
       "1       Germany            0        4        1         1            0  \n",
       "31       France            1        3        1         1            0  \n",
       "97        Spain            0        4        5         1            0  \n",
       "102     Belgium            0        3        5         1            0  \n",
       "108      France            0        3        5         1            1  \n",
       "218      Brazil            0        3       10         1            0  \n",
       "219     Senegal            0        3       10         1            1  \n",
       "246     England            0        2       11         1            0  \n",
       "263    Portugal            1        2       11         1            0  \n",
       "264     Belgium            0        2       12         1            0  \n",
       "265       Spain            0        3       12         1            0  \n",
       "380     England            0        1       17         1            0  \n",
       "382     Denmark            0        3       17         1            0  "
      ]
     },
     "execution_count": 156,
     "metadata": {},
     "output_type": "execute_result"
    }
   ],
   "source": [
    "players.loc[players.market_value.between(40, 50, inclusive='both')] # Filtering df with between() and an inclusive range"
   ]
  },
  {
   "cell_type": "code",
   "execution_count": 158,
   "metadata": {},
   "outputs": [
    {
     "data": {
      "text/html": [
       "<div>\n",
       "<style scoped>\n",
       "    .dataframe tbody tr th:only-of-type {\n",
       "        vertical-align: middle;\n",
       "    }\n",
       "\n",
       "    .dataframe tbody tr th {\n",
       "        vertical-align: top;\n",
       "    }\n",
       "\n",
       "    .dataframe thead th {\n",
       "        text-align: right;\n",
       "    }\n",
       "</style>\n",
       "<table border=\"1\" class=\"dataframe\">\n",
       "  <thead>\n",
       "    <tr style=\"text-align: right;\">\n",
       "      <th></th>\n",
       "      <th>name</th>\n",
       "      <th>club</th>\n",
       "      <th>age</th>\n",
       "      <th>position</th>\n",
       "      <th>position_cat</th>\n",
       "      <th>market_value</th>\n",
       "      <th>page_views</th>\n",
       "      <th>fpl_value</th>\n",
       "      <th>fpl_sel</th>\n",
       "      <th>fpl_points</th>\n",
       "      <th>region</th>\n",
       "      <th>nationality</th>\n",
       "      <th>new_foreign</th>\n",
       "      <th>age_cat</th>\n",
       "      <th>club_id</th>\n",
       "      <th>big_club</th>\n",
       "      <th>new_signing</th>\n",
       "    </tr>\n",
       "  </thead>\n",
       "  <tbody>\n",
       "    <tr>\n",
       "      <th>0</th>\n",
       "      <td>Alexis Sanchez</td>\n",
       "      <td>Arsenal</td>\n",
       "      <td>28</td>\n",
       "      <td>LW</td>\n",
       "      <td>1</td>\n",
       "      <td>65.0</td>\n",
       "      <td>4329</td>\n",
       "      <td>12.0</td>\n",
       "      <td>17.10%</td>\n",
       "      <td>264</td>\n",
       "      <td>3</td>\n",
       "      <td>Chile</td>\n",
       "      <td>0</td>\n",
       "      <td>4</td>\n",
       "      <td>1</td>\n",
       "      <td>1</td>\n",
       "      <td>0</td>\n",
       "    </tr>\n",
       "    <tr>\n",
       "      <th>1</th>\n",
       "      <td>Mesut Ozil</td>\n",
       "      <td>Arsenal</td>\n",
       "      <td>28</td>\n",
       "      <td>AM</td>\n",
       "      <td>1</td>\n",
       "      <td>50.0</td>\n",
       "      <td>4395</td>\n",
       "      <td>9.5</td>\n",
       "      <td>5.60%</td>\n",
       "      <td>167</td>\n",
       "      <td>2</td>\n",
       "      <td>Germany</td>\n",
       "      <td>0</td>\n",
       "      <td>4</td>\n",
       "      <td>1</td>\n",
       "      <td>1</td>\n",
       "      <td>0</td>\n",
       "    </tr>\n",
       "    <tr>\n",
       "      <th>2</th>\n",
       "      <td>Petr Cech</td>\n",
       "      <td>Arsenal</td>\n",
       "      <td>35</td>\n",
       "      <td>GK</td>\n",
       "      <td>4</td>\n",
       "      <td>7.0</td>\n",
       "      <td>1529</td>\n",
       "      <td>5.5</td>\n",
       "      <td>5.90%</td>\n",
       "      <td>134</td>\n",
       "      <td>2</td>\n",
       "      <td>Czech Republic</td>\n",
       "      <td>0</td>\n",
       "      <td>6</td>\n",
       "      <td>1</td>\n",
       "      <td>1</td>\n",
       "      <td>0</td>\n",
       "    </tr>\n",
       "    <tr>\n",
       "      <th>3</th>\n",
       "      <td>Theo Walcott</td>\n",
       "      <td>Arsenal</td>\n",
       "      <td>28</td>\n",
       "      <td>RW</td>\n",
       "      <td>1</td>\n",
       "      <td>20.0</td>\n",
       "      <td>2393</td>\n",
       "      <td>7.5</td>\n",
       "      <td>1.50%</td>\n",
       "      <td>122</td>\n",
       "      <td>1</td>\n",
       "      <td>England</td>\n",
       "      <td>0</td>\n",
       "      <td>4</td>\n",
       "      <td>1</td>\n",
       "      <td>1</td>\n",
       "      <td>0</td>\n",
       "    </tr>\n",
       "    <tr>\n",
       "      <th>4</th>\n",
       "      <td>Laurent Koscielny</td>\n",
       "      <td>Arsenal</td>\n",
       "      <td>31</td>\n",
       "      <td>CB</td>\n",
       "      <td>3</td>\n",
       "      <td>22.0</td>\n",
       "      <td>912</td>\n",
       "      <td>6.0</td>\n",
       "      <td>0.70%</td>\n",
       "      <td>121</td>\n",
       "      <td>2</td>\n",
       "      <td>France</td>\n",
       "      <td>0</td>\n",
       "      <td>4</td>\n",
       "      <td>1</td>\n",
       "      <td>1</td>\n",
       "      <td>0</td>\n",
       "    </tr>\n",
       "    <tr>\n",
       "      <th>...</th>\n",
       "      <td>...</td>\n",
       "      <td>...</td>\n",
       "      <td>...</td>\n",
       "      <td>...</td>\n",
       "      <td>...</td>\n",
       "      <td>...</td>\n",
       "      <td>...</td>\n",
       "      <td>...</td>\n",
       "      <td>...</td>\n",
       "      <td>...</td>\n",
       "      <td>...</td>\n",
       "      <td>...</td>\n",
       "      <td>...</td>\n",
       "      <td>...</td>\n",
       "      <td>...</td>\n",
       "      <td>...</td>\n",
       "      <td>...</td>\n",
       "    </tr>\n",
       "    <tr>\n",
       "      <th>460</th>\n",
       "      <td>Edimilson Fernandes</td>\n",
       "      <td>West+Ham</td>\n",
       "      <td>21</td>\n",
       "      <td>CM</td>\n",
       "      <td>2</td>\n",
       "      <td>5.0</td>\n",
       "      <td>288</td>\n",
       "      <td>4.5</td>\n",
       "      <td>0.40%</td>\n",
       "      <td>38</td>\n",
       "      <td>2</td>\n",
       "      <td>Switzerland</td>\n",
       "      <td>0</td>\n",
       "      <td>1</td>\n",
       "      <td>20</td>\n",
       "      <td>0</td>\n",
       "      <td>1</td>\n",
       "    </tr>\n",
       "    <tr>\n",
       "      <th>461</th>\n",
       "      <td>Arthur Masuaku</td>\n",
       "      <td>West+Ham</td>\n",
       "      <td>23</td>\n",
       "      <td>LB</td>\n",
       "      <td>3</td>\n",
       "      <td>7.0</td>\n",
       "      <td>199</td>\n",
       "      <td>4.5</td>\n",
       "      <td>0.20%</td>\n",
       "      <td>34</td>\n",
       "      <td>4</td>\n",
       "      <td>Congo DR</td>\n",
       "      <td>0</td>\n",
       "      <td>2</td>\n",
       "      <td>20</td>\n",
       "      <td>0</td>\n",
       "      <td>1</td>\n",
       "    </tr>\n",
       "    <tr>\n",
       "      <th>462</th>\n",
       "      <td>Sam Byram</td>\n",
       "      <td>West+Ham</td>\n",
       "      <td>23</td>\n",
       "      <td>RB</td>\n",
       "      <td>3</td>\n",
       "      <td>4.5</td>\n",
       "      <td>198</td>\n",
       "      <td>4.5</td>\n",
       "      <td>0.30%</td>\n",
       "      <td>29</td>\n",
       "      <td>1</td>\n",
       "      <td>England</td>\n",
       "      <td>0</td>\n",
       "      <td>2</td>\n",
       "      <td>20</td>\n",
       "      <td>0</td>\n",
       "      <td>0</td>\n",
       "    </tr>\n",
       "    <tr>\n",
       "      <th>463</th>\n",
       "      <td>Ashley Fletcher</td>\n",
       "      <td>West+Ham</td>\n",
       "      <td>21</td>\n",
       "      <td>CF</td>\n",
       "      <td>1</td>\n",
       "      <td>1.0</td>\n",
       "      <td>412</td>\n",
       "      <td>4.5</td>\n",
       "      <td>5.90%</td>\n",
       "      <td>16</td>\n",
       "      <td>1</td>\n",
       "      <td>England</td>\n",
       "      <td>0</td>\n",
       "      <td>1</td>\n",
       "      <td>20</td>\n",
       "      <td>0</td>\n",
       "      <td>1</td>\n",
       "    </tr>\n",
       "    <tr>\n",
       "      <th>464</th>\n",
       "      <td>Diafra Sakho</td>\n",
       "      <td>West+Ham</td>\n",
       "      <td>27</td>\n",
       "      <td>CF</td>\n",
       "      <td>1</td>\n",
       "      <td>10.0</td>\n",
       "      <td>214</td>\n",
       "      <td>5.5</td>\n",
       "      <td>0.10%</td>\n",
       "      <td>12</td>\n",
       "      <td>4</td>\n",
       "      <td>Senegal</td>\n",
       "      <td>0</td>\n",
       "      <td>3</td>\n",
       "      <td>20</td>\n",
       "      <td>0</td>\n",
       "      <td>0</td>\n",
       "    </tr>\n",
       "  </tbody>\n",
       "</table>\n",
       "<p>465 rows × 17 columns</p>\n",
       "</div>"
      ],
      "text/plain": [
       "                    name      club  age position  position_cat  market_value  \\\n",
       "0         Alexis Sanchez   Arsenal   28       LW             1          65.0   \n",
       "1             Mesut Ozil   Arsenal   28       AM             1          50.0   \n",
       "2              Petr Cech   Arsenal   35       GK             4           7.0   \n",
       "3           Theo Walcott   Arsenal   28       RW             1          20.0   \n",
       "4      Laurent Koscielny   Arsenal   31       CB             3          22.0   \n",
       "..                   ...       ...  ...      ...           ...           ...   \n",
       "460  Edimilson Fernandes  West+Ham   21       CM             2           5.0   \n",
       "461       Arthur Masuaku  West+Ham   23       LB             3           7.0   \n",
       "462            Sam Byram  West+Ham   23       RB             3           4.5   \n",
       "463      Ashley Fletcher  West+Ham   21       CF             1           1.0   \n",
       "464         Diafra Sakho  West+Ham   27       CF             1          10.0   \n",
       "\n",
       "     page_views  fpl_value fpl_sel  fpl_points  region     nationality  \\\n",
       "0          4329       12.0  17.10%         264       3           Chile   \n",
       "1          4395        9.5   5.60%         167       2         Germany   \n",
       "2          1529        5.5   5.90%         134       2  Czech Republic   \n",
       "3          2393        7.5   1.50%         122       1         England   \n",
       "4           912        6.0   0.70%         121       2          France   \n",
       "..          ...        ...     ...         ...     ...             ...   \n",
       "460         288        4.5   0.40%          38       2     Switzerland   \n",
       "461         199        4.5   0.20%          34       4        Congo DR   \n",
       "462         198        4.5   0.30%          29       1         England   \n",
       "463         412        4.5   5.90%          16       1         England   \n",
       "464         214        5.5   0.10%          12       4         Senegal   \n",
       "\n",
       "     new_foreign  age_cat  club_id  big_club  new_signing  \n",
       "0              0        4        1         1            0  \n",
       "1              0        4        1         1            0  \n",
       "2              0        6        1         1            0  \n",
       "3              0        4        1         1            0  \n",
       "4              0        4        1         1            0  \n",
       "..           ...      ...      ...       ...          ...  \n",
       "460            0        1       20         0            1  \n",
       "461            0        2       20         0            1  \n",
       "462            0        2       20         0            0  \n",
       "463            0        1       20         0            1  \n",
       "464            0        3       20         0            0  \n",
       "\n",
       "[465 rows x 17 columns]"
      ]
     },
     "execution_count": 158,
     "metadata": {},
     "output_type": "execute_result"
    }
   ],
   "source": [
    "players.loc[players.age < 50]\n",
    "\n",
    "players.loc[players.age.le(50)]  # The le()function does the same as the above"
   ]
  },
  {
   "cell_type": "markdown",
   "metadata": {},
   "source": [
    "Similarly there are other comparison operators:\n",
    "\n",
    "| Operation|Function | \n",
    "| :---: | :---:   |       \n",
    "| <    | .lt()  | \n",
    "| <=   | .le()  | \n",
    "| \\>   | .gt()  | \n",
    "| \\>=  | .ge()  | \n",
    "| ==   | .eq()  | \n",
    "\n",
    "The only added functionality here is the fill_value parameter that can replace the NaN values with something else during the checking"
   ]
  },
  {
   "cell_type": "markdown",
   "metadata": {},
   "source": [
    "#### Binary Operators\n",
    "\n",
    "Otherwise known as bitwise operators"
   ]
  },
  {
   "cell_type": "code",
   "execution_count": 159,
   "metadata": {},
   "outputs": [
    {
     "data": {
      "text/plain": [
       "True"
      ]
     },
     "execution_count": 159,
     "metadata": {},
     "output_type": "execute_result"
    }
   ],
   "source": [
    "True | False # OR operator"
   ]
  },
  {
   "cell_type": "code",
   "execution_count": null,
   "metadata": {},
   "outputs": [],
   "source": [
    "True & False # AND operator"
   ]
  },
  {
   "cell_type": "code",
   "execution_count": 160,
   "metadata": {},
   "outputs": [],
   "source": [
    "f = pd.Series(False)\n",
    "t = pd.Series(True)"
   ]
  },
  {
   "cell_type": "code",
   "execution_count": 161,
   "metadata": {},
   "outputs": [
    {
     "data": {
      "text/plain": [
       "0    False\n",
       "dtype: bool"
      ]
     },
     "execution_count": 161,
     "metadata": {},
     "output_type": "execute_result"
    }
   ],
   "source": [
    "t & f"
   ]
  },
  {
   "cell_type": "code",
   "execution_count": 163,
   "metadata": {},
   "outputs": [
    {
     "data": {
      "text/plain": [
       "0     True\n",
       "1    False\n",
       "2     True\n",
       "3    False\n",
       "4     True\n",
       "5    False\n",
       "6     True\n",
       "7    False\n",
       "8     True\n",
       "9    False\n",
       "dtype: bool"
      ]
     },
     "execution_count": 163,
     "metadata": {},
     "output_type": "execute_result"
    }
   ],
   "source": [
    "t = pd.Series([True if i%2 == 0 else False for i in range(10)])\n",
    "\n",
    "t"
   ]
  },
  {
   "cell_type": "code",
   "execution_count": 166,
   "metadata": {},
   "outputs": [
    {
     "data": {
      "text/plain": [
       "0    False\n",
       "1    False\n",
       "2    False\n",
       "3    False\n",
       "4    False\n",
       "5    False\n",
       "6    False\n",
       "7    False\n",
       "8    False\n",
       "9    False\n",
       "dtype: bool"
      ]
     },
     "execution_count": 166,
     "metadata": {},
     "output_type": "execute_result"
    }
   ],
   "source": [
    "f = pd.Series([False for i in range(10)])\n",
    "f"
   ]
  },
  {
   "cell_type": "code",
   "execution_count": 167,
   "metadata": {},
   "outputs": [
    {
     "data": {
      "text/plain": [
       "0    False\n",
       "1    False\n",
       "2    False\n",
       "3    False\n",
       "4    False\n",
       "5    False\n",
       "6    False\n",
       "7    False\n",
       "8    False\n",
       "9    False\n",
       "dtype: bool"
      ]
     },
     "execution_count": 167,
     "metadata": {},
     "output_type": "execute_result"
    }
   ],
   "source": [
    "t & f # Pandas is doing this element to element comparison based on the index"
   ]
  },
  {
   "cell_type": "code",
   "execution_count": 168,
   "metadata": {},
   "outputs": [
    {
     "data": {
      "text/plain": [
       "a    False\n",
       "b    False\n",
       "c    False\n",
       "dtype: bool"
      ]
     },
     "execution_count": 168,
     "metadata": {},
     "output_type": "execute_result"
    }
   ],
   "source": [
    "# This is more obvious in this example \n",
    "\n",
    "f = pd.Series([False, True, False], index = ['c', 'b', 'a'])\n",
    "t = pd.Series([True, False, False], index = ['a', 'b', 'c'])\n",
    "f & t"
   ]
  },
  {
   "cell_type": "code",
   "execution_count": 170,
   "metadata": {},
   "outputs": [
    {
     "name": "stdout",
     "output_type": "stream",
     "text": [
      "True\n",
      "False\n",
      "False\n"
     ]
    }
   ],
   "source": [
    "# Binary XOR \n",
    "\n",
    "print(True ^ False)   # There are different\n",
    "print(True ^ True)    # They are the same\n",
    "print(False ^ False)  # They are the same"
   ]
  },
  {
   "cell_type": "code",
   "execution_count": 174,
   "metadata": {},
   "outputs": [
    {
     "name": "stdout",
     "output_type": "stream",
     "text": [
      "-1\n",
      "-2\n"
     ]
    }
   ],
   "source": [
    "# Two's Complement \n",
    "\n",
    "print(~False)  # ~ inverts the bits, so here its inverting the bits for 0 i.e. 00000000 (0) to 11111111 (-1)\n",
    "print(~True)   # ~ inverts the bits, so here its inverting the bits for 1 i.e. 00000001 (1) to 11111110 (-2)\n"
   ]
  },
  {
   "cell_type": "code",
   "execution_count": 175,
   "metadata": {},
   "outputs": [
    {
     "data": {
      "text/plain": [
       "0    False\n",
       "1    False\n",
       "2     True\n",
       "dtype: bool"
      ]
     },
     "execution_count": 175,
     "metadata": {},
     "output_type": "execute_result"
    }
   ],
   "source": [
    "t = pd.Series([True, True, False])\n",
    "~t\n",
    "# Essentially reverses everything. Hmm."
   ]
  },
  {
   "cell_type": "markdown",
   "metadata": {},
   "source": [
    "#### Multi-Condition Filtering"
   ]
  },
  {
   "cell_type": "code",
   "execution_count": 177,
   "metadata": {},
   "outputs": [
    {
     "data": {
      "text/html": [
       "<div>\n",
       "<style scoped>\n",
       "    .dataframe tbody tr th:only-of-type {\n",
       "        vertical-align: middle;\n",
       "    }\n",
       "\n",
       "    .dataframe tbody tr th {\n",
       "        vertical-align: top;\n",
       "    }\n",
       "\n",
       "    .dataframe thead th {\n",
       "        text-align: right;\n",
       "    }\n",
       "</style>\n",
       "<table border=\"1\" class=\"dataframe\">\n",
       "  <thead>\n",
       "    <tr style=\"text-align: right;\">\n",
       "      <th></th>\n",
       "      <th>name</th>\n",
       "      <th>club</th>\n",
       "      <th>age</th>\n",
       "      <th>position</th>\n",
       "      <th>position_cat</th>\n",
       "      <th>market_value</th>\n",
       "      <th>page_views</th>\n",
       "      <th>fpl_value</th>\n",
       "      <th>fpl_sel</th>\n",
       "      <th>fpl_points</th>\n",
       "      <th>region</th>\n",
       "      <th>nationality</th>\n",
       "      <th>new_foreign</th>\n",
       "      <th>age_cat</th>\n",
       "      <th>club_id</th>\n",
       "      <th>big_club</th>\n",
       "      <th>new_signing</th>\n",
       "    </tr>\n",
       "  </thead>\n",
       "  <tbody>\n",
       "    <tr>\n",
       "      <th>7</th>\n",
       "      <td>Nacho Monreal</td>\n",
       "      <td>Arsenal</td>\n",
       "      <td>31</td>\n",
       "      <td>LB</td>\n",
       "      <td>3</td>\n",
       "      <td>13.00</td>\n",
       "      <td>555</td>\n",
       "      <td>5.5</td>\n",
       "      <td>4.70%</td>\n",
       "      <td>115</td>\n",
       "      <td>2</td>\n",
       "      <td>Spain</td>\n",
       "      <td>0</td>\n",
       "      <td>4</td>\n",
       "      <td>1</td>\n",
       "      <td>1</td>\n",
       "      <td>0</td>\n",
       "    </tr>\n",
       "    <tr>\n",
       "      <th>18</th>\n",
       "      <td>Kieran Gibbs</td>\n",
       "      <td>Arsenal</td>\n",
       "      <td>27</td>\n",
       "      <td>LB</td>\n",
       "      <td>3</td>\n",
       "      <td>10.00</td>\n",
       "      <td>489</td>\n",
       "      <td>5.0</td>\n",
       "      <td>0.50%</td>\n",
       "      <td>45</td>\n",
       "      <td>1</td>\n",
       "      <td>England</td>\n",
       "      <td>0</td>\n",
       "      <td>3</td>\n",
       "      <td>1</td>\n",
       "      <td>1</td>\n",
       "      <td>0</td>\n",
       "    </tr>\n",
       "    <tr>\n",
       "      <th>29</th>\n",
       "      <td>Sead Kolasinac</td>\n",
       "      <td>Arsenal</td>\n",
       "      <td>24</td>\n",
       "      <td>LB</td>\n",
       "      <td>3</td>\n",
       "      <td>15.00</td>\n",
       "      <td>618</td>\n",
       "      <td>6.0</td>\n",
       "      <td>6.90%</td>\n",
       "      <td>0</td>\n",
       "      <td>2</td>\n",
       "      <td>Bosnia</td>\n",
       "      <td>1</td>\n",
       "      <td>2</td>\n",
       "      <td>1</td>\n",
       "      <td>1</td>\n",
       "      <td>0</td>\n",
       "    </tr>\n",
       "    <tr>\n",
       "      <th>34</th>\n",
       "      <td>Charlie Daniels</td>\n",
       "      <td>Bournemouth</td>\n",
       "      <td>30</td>\n",
       "      <td>LB</td>\n",
       "      <td>3</td>\n",
       "      <td>3.00</td>\n",
       "      <td>185</td>\n",
       "      <td>5.0</td>\n",
       "      <td>19.80%</td>\n",
       "      <td>134</td>\n",
       "      <td>1</td>\n",
       "      <td>England</td>\n",
       "      <td>0</td>\n",
       "      <td>4</td>\n",
       "      <td>2</td>\n",
       "      <td>0</td>\n",
       "      <td>0</td>\n",
       "    </tr>\n",
       "    <tr>\n",
       "      <th>54</th>\n",
       "      <td>Brad Smith</td>\n",
       "      <td>Bournemouth</td>\n",
       "      <td>23</td>\n",
       "      <td>LB</td>\n",
       "      <td>3</td>\n",
       "      <td>2.00</td>\n",
       "      <td>297</td>\n",
       "      <td>4.0</td>\n",
       "      <td>3.30%</td>\n",
       "      <td>4</td>\n",
       "      <td>4</td>\n",
       "      <td>Australia</td>\n",
       "      <td>0</td>\n",
       "      <td>2</td>\n",
       "      <td>2</td>\n",
       "      <td>0</td>\n",
       "      <td>0</td>\n",
       "    </tr>\n",
       "    <tr>\n",
       "      <th>62</th>\n",
       "      <td>Gaetan Bong</td>\n",
       "      <td>Brighton+and+Hove</td>\n",
       "      <td>29</td>\n",
       "      <td>LB</td>\n",
       "      <td>3</td>\n",
       "      <td>1.50</td>\n",
       "      <td>97</td>\n",
       "      <td>4.5</td>\n",
       "      <td>0.20%</td>\n",
       "      <td>0</td>\n",
       "      <td>4</td>\n",
       "      <td>Cameroon</td>\n",
       "      <td>0</td>\n",
       "      <td>4</td>\n",
       "      <td>3</td>\n",
       "      <td>0</td>\n",
       "      <td>0</td>\n",
       "    </tr>\n",
       "    <tr>\n",
       "      <th>65</th>\n",
       "      <td>Markus Suttner</td>\n",
       "      <td>Brighton+and+Hove</td>\n",
       "      <td>30</td>\n",
       "      <td>LB</td>\n",
       "      <td>3</td>\n",
       "      <td>2.00</td>\n",
       "      <td>23</td>\n",
       "      <td>4.5</td>\n",
       "      <td>0.20%</td>\n",
       "      <td>0</td>\n",
       "      <td>2</td>\n",
       "      <td>Austria</td>\n",
       "      <td>0</td>\n",
       "      <td>4</td>\n",
       "      <td>3</td>\n",
       "      <td>0</td>\n",
       "      <td>0</td>\n",
       "    </tr>\n",
       "    <tr>\n",
       "      <th>82</th>\n",
       "      <td>Stephen Ward</td>\n",
       "      <td>Burnley</td>\n",
       "      <td>31</td>\n",
       "      <td>LB</td>\n",
       "      <td>3</td>\n",
       "      <td>1.50</td>\n",
       "      <td>152</td>\n",
       "      <td>4.5</td>\n",
       "      <td>2.50%</td>\n",
       "      <td>91</td>\n",
       "      <td>2</td>\n",
       "      <td>Ireland</td>\n",
       "      <td>0</td>\n",
       "      <td>4</td>\n",
       "      <td>4</td>\n",
       "      <td>0</td>\n",
       "      <td>0</td>\n",
       "    </tr>\n",
       "    <tr>\n",
       "      <th>99</th>\n",
       "      <td>Marcos Alonso Mendoza</td>\n",
       "      <td>Chelsea</td>\n",
       "      <td>26</td>\n",
       "      <td>LB</td>\n",
       "      <td>3</td>\n",
       "      <td>25.00</td>\n",
       "      <td>3069</td>\n",
       "      <td>7.0</td>\n",
       "      <td>12.40%</td>\n",
       "      <td>177</td>\n",
       "      <td>2</td>\n",
       "      <td>Spain</td>\n",
       "      <td>0</td>\n",
       "      <td>3</td>\n",
       "      <td>5</td>\n",
       "      <td>1</td>\n",
       "      <td>1</td>\n",
       "    </tr>\n",
       "    <tr>\n",
       "      <th>112</th>\n",
       "      <td>Kenedy</td>\n",
       "      <td>Chelsea</td>\n",
       "      <td>21</td>\n",
       "      <td>LB</td>\n",
       "      <td>3</td>\n",
       "      <td>7.00</td>\n",
       "      <td>566</td>\n",
       "      <td>5.0</td>\n",
       "      <td>0.10%</td>\n",
       "      <td>3</td>\n",
       "      <td>3</td>\n",
       "      <td>Brazil</td>\n",
       "      <td>0</td>\n",
       "      <td>1</td>\n",
       "      <td>5</td>\n",
       "      <td>1</td>\n",
       "      <td>0</td>\n",
       "    </tr>\n",
       "    <tr>\n",
       "      <th>119</th>\n",
       "      <td>Patrick van Aanholt</td>\n",
       "      <td>Crystal+Palace</td>\n",
       "      <td>26</td>\n",
       "      <td>LB</td>\n",
       "      <td>3</td>\n",
       "      <td>9.00</td>\n",
       "      <td>524</td>\n",
       "      <td>5.5</td>\n",
       "      <td>4.20%</td>\n",
       "      <td>98</td>\n",
       "      <td>2</td>\n",
       "      <td>Netherlands</td>\n",
       "      <td>0</td>\n",
       "      <td>3</td>\n",
       "      <td>6</td>\n",
       "      <td>0</td>\n",
       "      <td>0</td>\n",
       "    </tr>\n",
       "    <tr>\n",
       "      <th>128</th>\n",
       "      <td>Jeffrey Schlupp</td>\n",
       "      <td>Crystal+Palace</td>\n",
       "      <td>24</td>\n",
       "      <td>LB</td>\n",
       "      <td>3</td>\n",
       "      <td>8.00</td>\n",
       "      <td>385</td>\n",
       "      <td>5.0</td>\n",
       "      <td>0.30%</td>\n",
       "      <td>47</td>\n",
       "      <td>4</td>\n",
       "      <td>Ghana</td>\n",
       "      <td>0</td>\n",
       "      <td>2</td>\n",
       "      <td>6</td>\n",
       "      <td>0</td>\n",
       "      <td>0</td>\n",
       "    </tr>\n",
       "    <tr>\n",
       "      <th>134</th>\n",
       "      <td>Pape Souare</td>\n",
       "      <td>Crystal+Palace</td>\n",
       "      <td>27</td>\n",
       "      <td>LB</td>\n",
       "      <td>3</td>\n",
       "      <td>6.00</td>\n",
       "      <td>186</td>\n",
       "      <td>4.5</td>\n",
       "      <td>0.00%</td>\n",
       "      <td>6</td>\n",
       "      <td>4</td>\n",
       "      <td>Senegal</td>\n",
       "      <td>0</td>\n",
       "      <td>3</td>\n",
       "      <td>6</td>\n",
       "      <td>0</td>\n",
       "      <td>0</td>\n",
       "    </tr>\n",
       "    <tr>\n",
       "      <th>138</th>\n",
       "      <td>Leighton Baines</td>\n",
       "      <td>Everton</td>\n",
       "      <td>32</td>\n",
       "      <td>LB</td>\n",
       "      <td>3</td>\n",
       "      <td>12.00</td>\n",
       "      <td>491</td>\n",
       "      <td>6.0</td>\n",
       "      <td>10.00%</td>\n",
       "      <td>135</td>\n",
       "      <td>1</td>\n",
       "      <td>England</td>\n",
       "      <td>0</td>\n",
       "      <td>5</td>\n",
       "      <td>7</td>\n",
       "      <td>0</td>\n",
       "      <td>0</td>\n",
       "    </tr>\n",
       "    <tr>\n",
       "      <th>168</th>\n",
       "      <td>Chris Lowe</td>\n",
       "      <td>Huddersfield</td>\n",
       "      <td>28</td>\n",
       "      <td>LB</td>\n",
       "      <td>3</td>\n",
       "      <td>1.50</td>\n",
       "      <td>84</td>\n",
       "      <td>4.5</td>\n",
       "      <td>0.70%</td>\n",
       "      <td>0</td>\n",
       "      <td>2</td>\n",
       "      <td>Germany</td>\n",
       "      <td>0</td>\n",
       "      <td>4</td>\n",
       "      <td>8</td>\n",
       "      <td>0</td>\n",
       "      <td>0</td>\n",
       "    </tr>\n",
       "    <tr>\n",
       "      <th>175</th>\n",
       "      <td>Scott Malone</td>\n",
       "      <td>Huddersfield</td>\n",
       "      <td>26</td>\n",
       "      <td>LB</td>\n",
       "      <td>3</td>\n",
       "      <td>0.75</td>\n",
       "      <td>81</td>\n",
       "      <td>4.5</td>\n",
       "      <td>0.10%</td>\n",
       "      <td>0</td>\n",
       "      <td>1</td>\n",
       "      <td>England</td>\n",
       "      <td>0</td>\n",
       "      <td>3</td>\n",
       "      <td>8</td>\n",
       "      <td>0</td>\n",
       "      <td>0</td>\n",
       "    </tr>\n",
       "    <tr>\n",
       "      <th>196</th>\n",
       "      <td>Christian Fuchs</td>\n",
       "      <td>Leicester+City</td>\n",
       "      <td>31</td>\n",
       "      <td>LB</td>\n",
       "      <td>3</td>\n",
       "      <td>6.00</td>\n",
       "      <td>417</td>\n",
       "      <td>5.0</td>\n",
       "      <td>3.50%</td>\n",
       "      <td>104</td>\n",
       "      <td>2</td>\n",
       "      <td>Austria</td>\n",
       "      <td>0</td>\n",
       "      <td>4</td>\n",
       "      <td>9</td>\n",
       "      <td>0</td>\n",
       "      <td>0</td>\n",
       "    </tr>\n",
       "    <tr>\n",
       "      <th>212</th>\n",
       "      <td>Ben Chilwell</td>\n",
       "      <td>Leicester+City</td>\n",
       "      <td>20</td>\n",
       "      <td>LB</td>\n",
       "      <td>3</td>\n",
       "      <td>2.50</td>\n",
       "      <td>288</td>\n",
       "      <td>4.5</td>\n",
       "      <td>0.80%</td>\n",
       "      <td>19</td>\n",
       "      <td>1</td>\n",
       "      <td>England</td>\n",
       "      <td>0</td>\n",
       "      <td>1</td>\n",
       "      <td>9</td>\n",
       "      <td>0</td>\n",
       "      <td>0</td>\n",
       "    </tr>\n",
       "    <tr>\n",
       "      <th>236</th>\n",
       "      <td>Alberto Moreno</td>\n",
       "      <td>Liverpool</td>\n",
       "      <td>25</td>\n",
       "      <td>LB</td>\n",
       "      <td>3</td>\n",
       "      <td>10.00</td>\n",
       "      <td>397</td>\n",
       "      <td>4.5</td>\n",
       "      <td>0.30%</td>\n",
       "      <td>8</td>\n",
       "      <td>2</td>\n",
       "      <td>Spain</td>\n",
       "      <td>0</td>\n",
       "      <td>3</td>\n",
       "      <td>10</td>\n",
       "      <td>1</td>\n",
       "      <td>0</td>\n",
       "    </tr>\n",
       "    <tr>\n",
       "      <th>251</th>\n",
       "      <td>Aleksandar Kolarov</td>\n",
       "      <td>Manchester+City</td>\n",
       "      <td>31</td>\n",
       "      <td>LB</td>\n",
       "      <td>3</td>\n",
       "      <td>10.00</td>\n",
       "      <td>633</td>\n",
       "      <td>5.5</td>\n",
       "      <td>1.10%</td>\n",
       "      <td>95</td>\n",
       "      <td>2</td>\n",
       "      <td>Serbia</td>\n",
       "      <td>0</td>\n",
       "      <td>4</td>\n",
       "      <td>11</td>\n",
       "      <td>1</td>\n",
       "      <td>0</td>\n",
       "    </tr>\n",
       "    <tr>\n",
       "      <th>270</th>\n",
       "      <td>Daley Blind</td>\n",
       "      <td>Manchester+United</td>\n",
       "      <td>27</td>\n",
       "      <td>LB</td>\n",
       "      <td>3</td>\n",
       "      <td>22.00</td>\n",
       "      <td>867</td>\n",
       "      <td>5.5</td>\n",
       "      <td>1.20%</td>\n",
       "      <td>98</td>\n",
       "      <td>2</td>\n",
       "      <td>Netherlands</td>\n",
       "      <td>0</td>\n",
       "      <td>3</td>\n",
       "      <td>12</td>\n",
       "      <td>1</td>\n",
       "      <td>0</td>\n",
       "    </tr>\n",
       "    <tr>\n",
       "      <th>281</th>\n",
       "      <td>Luke Shaw</td>\n",
       "      <td>Manchester+United</td>\n",
       "      <td>22</td>\n",
       "      <td>LB</td>\n",
       "      <td>3</td>\n",
       "      <td>20.00</td>\n",
       "      <td>947</td>\n",
       "      <td>5.0</td>\n",
       "      <td>0.40%</td>\n",
       "      <td>45</td>\n",
       "      <td>1</td>\n",
       "      <td>England</td>\n",
       "      <td>0</td>\n",
       "      <td>2</td>\n",
       "      <td>12</td>\n",
       "      <td>1</td>\n",
       "      <td>0</td>\n",
       "    </tr>\n",
       "    <tr>\n",
       "      <th>294</th>\n",
       "      <td>Paul Dummett</td>\n",
       "      <td>Newcastle+United</td>\n",
       "      <td>25</td>\n",
       "      <td>LB</td>\n",
       "      <td>3</td>\n",
       "      <td>3.50</td>\n",
       "      <td>177</td>\n",
       "      <td>4.5</td>\n",
       "      <td>1.00%</td>\n",
       "      <td>0</td>\n",
       "      <td>2</td>\n",
       "      <td>Wales</td>\n",
       "      <td>0</td>\n",
       "      <td>3</td>\n",
       "      <td>13</td>\n",
       "      <td>0</td>\n",
       "      <td>0</td>\n",
       "    </tr>\n",
       "    <tr>\n",
       "      <th>298</th>\n",
       "      <td>Massadio Haidara</td>\n",
       "      <td>Newcastle+United</td>\n",
       "      <td>24</td>\n",
       "      <td>LB</td>\n",
       "      <td>3</td>\n",
       "      <td>1.50</td>\n",
       "      <td>114</td>\n",
       "      <td>4.0</td>\n",
       "      <td>0.50%</td>\n",
       "      <td>0</td>\n",
       "      <td>2</td>\n",
       "      <td>France</td>\n",
       "      <td>0</td>\n",
       "      <td>2</td>\n",
       "      <td>13</td>\n",
       "      <td>0</td>\n",
       "      <td>0</td>\n",
       "    </tr>\n",
       "    <tr>\n",
       "      <th>312</th>\n",
       "      <td>Ryan Bertrand</td>\n",
       "      <td>Southampton</td>\n",
       "      <td>27</td>\n",
       "      <td>LB</td>\n",
       "      <td>3</td>\n",
       "      <td>20.00</td>\n",
       "      <td>578</td>\n",
       "      <td>5.5</td>\n",
       "      <td>11.20%</td>\n",
       "      <td>123</td>\n",
       "      <td>1</td>\n",
       "      <td>England</td>\n",
       "      <td>0</td>\n",
       "      <td>3</td>\n",
       "      <td>14</td>\n",
       "      <td>0</td>\n",
       "      <td>0</td>\n",
       "    </tr>\n",
       "    <tr>\n",
       "      <th>328</th>\n",
       "      <td>Matt Targett</td>\n",
       "      <td>Southampton</td>\n",
       "      <td>21</td>\n",
       "      <td>LB</td>\n",
       "      <td>3</td>\n",
       "      <td>3.00</td>\n",
       "      <td>110</td>\n",
       "      <td>4.5</td>\n",
       "      <td>0.20%</td>\n",
       "      <td>12</td>\n",
       "      <td>1</td>\n",
       "      <td>England</td>\n",
       "      <td>0</td>\n",
       "      <td>1</td>\n",
       "      <td>14</td>\n",
       "      <td>0</td>\n",
       "      <td>0</td>\n",
       "    </tr>\n",
       "    <tr>\n",
       "      <th>336</th>\n",
       "      <td>Erik Pieters</td>\n",
       "      <td>Stoke+City</td>\n",
       "      <td>28</td>\n",
       "      <td>LB</td>\n",
       "      <td>3</td>\n",
       "      <td>7.00</td>\n",
       "      <td>134</td>\n",
       "      <td>5.0</td>\n",
       "      <td>1.30%</td>\n",
       "      <td>103</td>\n",
       "      <td>2</td>\n",
       "      <td>Netherlands</td>\n",
       "      <td>0</td>\n",
       "      <td>4</td>\n",
       "      <td>15</td>\n",
       "      <td>0</td>\n",
       "      <td>0</td>\n",
       "    </tr>\n",
       "    <tr>\n",
       "      <th>354</th>\n",
       "      <td>Josh Tymon</td>\n",
       "      <td>Stoke+City</td>\n",
       "      <td>18</td>\n",
       "      <td>LB</td>\n",
       "      <td>3</td>\n",
       "      <td>1.00</td>\n",
       "      <td>120</td>\n",
       "      <td>4.5</td>\n",
       "      <td>0.10%</td>\n",
       "      <td>9</td>\n",
       "      <td>1</td>\n",
       "      <td>England</td>\n",
       "      <td>0</td>\n",
       "      <td>1</td>\n",
       "      <td>15</td>\n",
       "      <td>0</td>\n",
       "      <td>0</td>\n",
       "    </tr>\n",
       "    <tr>\n",
       "      <th>363</th>\n",
       "      <td>Martin Olsson</td>\n",
       "      <td>Swansea</td>\n",
       "      <td>29</td>\n",
       "      <td>LB</td>\n",
       "      <td>3</td>\n",
       "      <td>5.00</td>\n",
       "      <td>458</td>\n",
       "      <td>5.0</td>\n",
       "      <td>0.30%</td>\n",
       "      <td>52</td>\n",
       "      <td>2</td>\n",
       "      <td>Sweden</td>\n",
       "      <td>0</td>\n",
       "      <td>4</td>\n",
       "      <td>16</td>\n",
       "      <td>0</td>\n",
       "      <td>0</td>\n",
       "    </tr>\n",
       "    <tr>\n",
       "      <th>369</th>\n",
       "      <td>Stephen Kingsley</td>\n",
       "      <td>Swansea</td>\n",
       "      <td>22</td>\n",
       "      <td>LB</td>\n",
       "      <td>3</td>\n",
       "      <td>0.75</td>\n",
       "      <td>168</td>\n",
       "      <td>4.5</td>\n",
       "      <td>0.20%</td>\n",
       "      <td>29</td>\n",
       "      <td>2</td>\n",
       "      <td>Scotland</td>\n",
       "      <td>0</td>\n",
       "      <td>2</td>\n",
       "      <td>16</td>\n",
       "      <td>0</td>\n",
       "      <td>0</td>\n",
       "    </tr>\n",
       "    <tr>\n",
       "      <th>389</th>\n",
       "      <td>Ben Davies</td>\n",
       "      <td>Tottenham</td>\n",
       "      <td>24</td>\n",
       "      <td>LB</td>\n",
       "      <td>3</td>\n",
       "      <td>12.00</td>\n",
       "      <td>396</td>\n",
       "      <td>5.5</td>\n",
       "      <td>1.80%</td>\n",
       "      <td>90</td>\n",
       "      <td>2</td>\n",
       "      <td>Wales</td>\n",
       "      <td>0</td>\n",
       "      <td>2</td>\n",
       "      <td>17</td>\n",
       "      <td>1</td>\n",
       "      <td>0</td>\n",
       "    </tr>\n",
       "    <tr>\n",
       "      <th>390</th>\n",
       "      <td>Danny Rose</td>\n",
       "      <td>Tottenham</td>\n",
       "      <td>27</td>\n",
       "      <td>LB</td>\n",
       "      <td>3</td>\n",
       "      <td>28.00</td>\n",
       "      <td>848</td>\n",
       "      <td>6.5</td>\n",
       "      <td>0.60%</td>\n",
       "      <td>84</td>\n",
       "      <td>1</td>\n",
       "      <td>England</td>\n",
       "      <td>0</td>\n",
       "      <td>3</td>\n",
       "      <td>17</td>\n",
       "      <td>1</td>\n",
       "      <td>0</td>\n",
       "    </tr>\n",
       "    <tr>\n",
       "      <th>403</th>\n",
       "      <td>Jose Holebas</td>\n",
       "      <td>Watford</td>\n",
       "      <td>33</td>\n",
       "      <td>LB</td>\n",
       "      <td>3</td>\n",
       "      <td>2.00</td>\n",
       "      <td>345</td>\n",
       "      <td>5.0</td>\n",
       "      <td>0.60%</td>\n",
       "      <td>87</td>\n",
       "      <td>2</td>\n",
       "      <td>Greece</td>\n",
       "      <td>0</td>\n",
       "      <td>5</td>\n",
       "      <td>18</td>\n",
       "      <td>0</td>\n",
       "      <td>0</td>\n",
       "    </tr>\n",
       "    <tr>\n",
       "      <th>455</th>\n",
       "      <td>Aaron Cresswell</td>\n",
       "      <td>West+Ham</td>\n",
       "      <td>27</td>\n",
       "      <td>LB</td>\n",
       "      <td>3</td>\n",
       "      <td>12.00</td>\n",
       "      <td>380</td>\n",
       "      <td>5.0</td>\n",
       "      <td>1.30%</td>\n",
       "      <td>60</td>\n",
       "      <td>1</td>\n",
       "      <td>England</td>\n",
       "      <td>0</td>\n",
       "      <td>3</td>\n",
       "      <td>20</td>\n",
       "      <td>0</td>\n",
       "      <td>0</td>\n",
       "    </tr>\n",
       "    <tr>\n",
       "      <th>461</th>\n",
       "      <td>Arthur Masuaku</td>\n",
       "      <td>West+Ham</td>\n",
       "      <td>23</td>\n",
       "      <td>LB</td>\n",
       "      <td>3</td>\n",
       "      <td>7.00</td>\n",
       "      <td>199</td>\n",
       "      <td>4.5</td>\n",
       "      <td>0.20%</td>\n",
       "      <td>34</td>\n",
       "      <td>4</td>\n",
       "      <td>Congo DR</td>\n",
       "      <td>0</td>\n",
       "      <td>2</td>\n",
       "      <td>20</td>\n",
       "      <td>0</td>\n",
       "      <td>1</td>\n",
       "    </tr>\n",
       "  </tbody>\n",
       "</table>\n",
       "</div>"
      ],
      "text/plain": [
       "                      name               club  age position  position_cat  \\\n",
       "7            Nacho Monreal            Arsenal   31       LB             3   \n",
       "18            Kieran Gibbs            Arsenal   27       LB             3   \n",
       "29          Sead Kolasinac            Arsenal   24       LB             3   \n",
       "34         Charlie Daniels        Bournemouth   30       LB             3   \n",
       "54              Brad Smith        Bournemouth   23       LB             3   \n",
       "62             Gaetan Bong  Brighton+and+Hove   29       LB             3   \n",
       "65          Markus Suttner  Brighton+and+Hove   30       LB             3   \n",
       "82            Stephen Ward            Burnley   31       LB             3   \n",
       "99   Marcos Alonso Mendoza            Chelsea   26       LB             3   \n",
       "112                 Kenedy            Chelsea   21       LB             3   \n",
       "119    Patrick van Aanholt     Crystal+Palace   26       LB             3   \n",
       "128        Jeffrey Schlupp     Crystal+Palace   24       LB             3   \n",
       "134            Pape Souare     Crystal+Palace   27       LB             3   \n",
       "138        Leighton Baines            Everton   32       LB             3   \n",
       "168             Chris Lowe       Huddersfield   28       LB             3   \n",
       "175           Scott Malone       Huddersfield   26       LB             3   \n",
       "196        Christian Fuchs     Leicester+City   31       LB             3   \n",
       "212           Ben Chilwell     Leicester+City   20       LB             3   \n",
       "236         Alberto Moreno          Liverpool   25       LB             3   \n",
       "251     Aleksandar Kolarov    Manchester+City   31       LB             3   \n",
       "270            Daley Blind  Manchester+United   27       LB             3   \n",
       "281              Luke Shaw  Manchester+United   22       LB             3   \n",
       "294           Paul Dummett   Newcastle+United   25       LB             3   \n",
       "298       Massadio Haidara   Newcastle+United   24       LB             3   \n",
       "312          Ryan Bertrand        Southampton   27       LB             3   \n",
       "328           Matt Targett        Southampton   21       LB             3   \n",
       "336           Erik Pieters         Stoke+City   28       LB             3   \n",
       "354             Josh Tymon         Stoke+City   18       LB             3   \n",
       "363          Martin Olsson            Swansea   29       LB             3   \n",
       "369       Stephen Kingsley            Swansea   22       LB             3   \n",
       "389             Ben Davies          Tottenham   24       LB             3   \n",
       "390             Danny Rose          Tottenham   27       LB             3   \n",
       "403           Jose Holebas            Watford   33       LB             3   \n",
       "455        Aaron Cresswell           West+Ham   27       LB             3   \n",
       "461         Arthur Masuaku           West+Ham   23       LB             3   \n",
       "\n",
       "     market_value  page_views  fpl_value fpl_sel  fpl_points  region  \\\n",
       "7           13.00         555        5.5   4.70%         115       2   \n",
       "18          10.00         489        5.0   0.50%          45       1   \n",
       "29          15.00         618        6.0   6.90%           0       2   \n",
       "34           3.00         185        5.0  19.80%         134       1   \n",
       "54           2.00         297        4.0   3.30%           4       4   \n",
       "62           1.50          97        4.5   0.20%           0       4   \n",
       "65           2.00          23        4.5   0.20%           0       2   \n",
       "82           1.50         152        4.5   2.50%          91       2   \n",
       "99          25.00        3069        7.0  12.40%         177       2   \n",
       "112          7.00         566        5.0   0.10%           3       3   \n",
       "119          9.00         524        5.5   4.20%          98       2   \n",
       "128          8.00         385        5.0   0.30%          47       4   \n",
       "134          6.00         186        4.5   0.00%           6       4   \n",
       "138         12.00         491        6.0  10.00%         135       1   \n",
       "168          1.50          84        4.5   0.70%           0       2   \n",
       "175          0.75          81        4.5   0.10%           0       1   \n",
       "196          6.00         417        5.0   3.50%         104       2   \n",
       "212          2.50         288        4.5   0.80%          19       1   \n",
       "236         10.00         397        4.5   0.30%           8       2   \n",
       "251         10.00         633        5.5   1.10%          95       2   \n",
       "270         22.00         867        5.5   1.20%          98       2   \n",
       "281         20.00         947        5.0   0.40%          45       1   \n",
       "294          3.50         177        4.5   1.00%           0       2   \n",
       "298          1.50         114        4.0   0.50%           0       2   \n",
       "312         20.00         578        5.5  11.20%         123       1   \n",
       "328          3.00         110        4.5   0.20%          12       1   \n",
       "336          7.00         134        5.0   1.30%         103       2   \n",
       "354          1.00         120        4.5   0.10%           9       1   \n",
       "363          5.00         458        5.0   0.30%          52       2   \n",
       "369          0.75         168        4.5   0.20%          29       2   \n",
       "389         12.00         396        5.5   1.80%          90       2   \n",
       "390         28.00         848        6.5   0.60%          84       1   \n",
       "403          2.00         345        5.0   0.60%          87       2   \n",
       "455         12.00         380        5.0   1.30%          60       1   \n",
       "461          7.00         199        4.5   0.20%          34       4   \n",
       "\n",
       "     nationality  new_foreign  age_cat  club_id  big_club  new_signing  \n",
       "7          Spain            0        4        1         1            0  \n",
       "18       England            0        3        1         1            0  \n",
       "29        Bosnia            1        2        1         1            0  \n",
       "34       England            0        4        2         0            0  \n",
       "54     Australia            0        2        2         0            0  \n",
       "62      Cameroon            0        4        3         0            0  \n",
       "65       Austria            0        4        3         0            0  \n",
       "82       Ireland            0        4        4         0            0  \n",
       "99         Spain            0        3        5         1            1  \n",
       "112       Brazil            0        1        5         1            0  \n",
       "119  Netherlands            0        3        6         0            0  \n",
       "128        Ghana            0        2        6         0            0  \n",
       "134      Senegal            0        3        6         0            0  \n",
       "138      England            0        5        7         0            0  \n",
       "168      Germany            0        4        8         0            0  \n",
       "175      England            0        3        8         0            0  \n",
       "196      Austria            0        4        9         0            0  \n",
       "212      England            0        1        9         0            0  \n",
       "236        Spain            0        3       10         1            0  \n",
       "251       Serbia            0        4       11         1            0  \n",
       "270  Netherlands            0        3       12         1            0  \n",
       "281      England            0        2       12         1            0  \n",
       "294        Wales            0        3       13         0            0  \n",
       "298       France            0        2       13         0            0  \n",
       "312      England            0        3       14         0            0  \n",
       "328      England            0        1       14         0            0  \n",
       "336  Netherlands            0        4       15         0            0  \n",
       "354      England            0        1       15         0            0  \n",
       "363       Sweden            0        4       16         0            0  \n",
       "369     Scotland            0        2       16         0            0  \n",
       "389        Wales            0        2       17         1            0  \n",
       "390      England            0        3       17         1            0  \n",
       "403       Greece            0        5       18         0            0  \n",
       "455      England            0        3       20         0            0  \n",
       "461     Congo DR            0        2       20         0            1  "
      ]
     },
     "execution_count": 177,
     "metadata": {},
     "output_type": "execute_result"
    }
   ],
   "source": [
    "players.loc[players.position == 'LB']  # All LBs"
   ]
  },
  {
   "cell_type": "code",
   "execution_count": 179,
   "metadata": {},
   "outputs": [
    {
     "data": {
      "text/html": [
       "<div>\n",
       "<style scoped>\n",
       "    .dataframe tbody tr th:only-of-type {\n",
       "        vertical-align: middle;\n",
       "    }\n",
       "\n",
       "    .dataframe tbody tr th {\n",
       "        vertical-align: top;\n",
       "    }\n",
       "\n",
       "    .dataframe thead th {\n",
       "        text-align: right;\n",
       "    }\n",
       "</style>\n",
       "<table border=\"1\" class=\"dataframe\">\n",
       "  <thead>\n",
       "    <tr style=\"text-align: right;\">\n",
       "      <th></th>\n",
       "      <th>name</th>\n",
       "      <th>club</th>\n",
       "      <th>age</th>\n",
       "      <th>position</th>\n",
       "      <th>position_cat</th>\n",
       "      <th>market_value</th>\n",
       "      <th>page_views</th>\n",
       "      <th>fpl_value</th>\n",
       "      <th>fpl_sel</th>\n",
       "      <th>fpl_points</th>\n",
       "      <th>region</th>\n",
       "      <th>nationality</th>\n",
       "      <th>new_foreign</th>\n",
       "      <th>age_cat</th>\n",
       "      <th>club_id</th>\n",
       "      <th>big_club</th>\n",
       "      <th>new_signing</th>\n",
       "    </tr>\n",
       "  </thead>\n",
       "  <tbody>\n",
       "    <tr>\n",
       "      <th>29</th>\n",
       "      <td>Sead Kolasinac</td>\n",
       "      <td>Arsenal</td>\n",
       "      <td>24</td>\n",
       "      <td>LB</td>\n",
       "      <td>3</td>\n",
       "      <td>15.00</td>\n",
       "      <td>618</td>\n",
       "      <td>6.0</td>\n",
       "      <td>6.90%</td>\n",
       "      <td>0</td>\n",
       "      <td>2</td>\n",
       "      <td>Bosnia</td>\n",
       "      <td>1</td>\n",
       "      <td>2</td>\n",
       "      <td>1</td>\n",
       "      <td>1</td>\n",
       "      <td>0</td>\n",
       "    </tr>\n",
       "    <tr>\n",
       "      <th>54</th>\n",
       "      <td>Brad Smith</td>\n",
       "      <td>Bournemouth</td>\n",
       "      <td>23</td>\n",
       "      <td>LB</td>\n",
       "      <td>3</td>\n",
       "      <td>2.00</td>\n",
       "      <td>297</td>\n",
       "      <td>4.0</td>\n",
       "      <td>3.30%</td>\n",
       "      <td>4</td>\n",
       "      <td>4</td>\n",
       "      <td>Australia</td>\n",
       "      <td>0</td>\n",
       "      <td>2</td>\n",
       "      <td>2</td>\n",
       "      <td>0</td>\n",
       "      <td>0</td>\n",
       "    </tr>\n",
       "    <tr>\n",
       "      <th>112</th>\n",
       "      <td>Kenedy</td>\n",
       "      <td>Chelsea</td>\n",
       "      <td>21</td>\n",
       "      <td>LB</td>\n",
       "      <td>3</td>\n",
       "      <td>7.00</td>\n",
       "      <td>566</td>\n",
       "      <td>5.0</td>\n",
       "      <td>0.10%</td>\n",
       "      <td>3</td>\n",
       "      <td>3</td>\n",
       "      <td>Brazil</td>\n",
       "      <td>0</td>\n",
       "      <td>1</td>\n",
       "      <td>5</td>\n",
       "      <td>1</td>\n",
       "      <td>0</td>\n",
       "    </tr>\n",
       "    <tr>\n",
       "      <th>128</th>\n",
       "      <td>Jeffrey Schlupp</td>\n",
       "      <td>Crystal+Palace</td>\n",
       "      <td>24</td>\n",
       "      <td>LB</td>\n",
       "      <td>3</td>\n",
       "      <td>8.00</td>\n",
       "      <td>385</td>\n",
       "      <td>5.0</td>\n",
       "      <td>0.30%</td>\n",
       "      <td>47</td>\n",
       "      <td>4</td>\n",
       "      <td>Ghana</td>\n",
       "      <td>0</td>\n",
       "      <td>2</td>\n",
       "      <td>6</td>\n",
       "      <td>0</td>\n",
       "      <td>0</td>\n",
       "    </tr>\n",
       "    <tr>\n",
       "      <th>212</th>\n",
       "      <td>Ben Chilwell</td>\n",
       "      <td>Leicester+City</td>\n",
       "      <td>20</td>\n",
       "      <td>LB</td>\n",
       "      <td>3</td>\n",
       "      <td>2.50</td>\n",
       "      <td>288</td>\n",
       "      <td>4.5</td>\n",
       "      <td>0.80%</td>\n",
       "      <td>19</td>\n",
       "      <td>1</td>\n",
       "      <td>England</td>\n",
       "      <td>0</td>\n",
       "      <td>1</td>\n",
       "      <td>9</td>\n",
       "      <td>0</td>\n",
       "      <td>0</td>\n",
       "    </tr>\n",
       "    <tr>\n",
       "      <th>236</th>\n",
       "      <td>Alberto Moreno</td>\n",
       "      <td>Liverpool</td>\n",
       "      <td>25</td>\n",
       "      <td>LB</td>\n",
       "      <td>3</td>\n",
       "      <td>10.00</td>\n",
       "      <td>397</td>\n",
       "      <td>4.5</td>\n",
       "      <td>0.30%</td>\n",
       "      <td>8</td>\n",
       "      <td>2</td>\n",
       "      <td>Spain</td>\n",
       "      <td>0</td>\n",
       "      <td>3</td>\n",
       "      <td>10</td>\n",
       "      <td>1</td>\n",
       "      <td>0</td>\n",
       "    </tr>\n",
       "    <tr>\n",
       "      <th>281</th>\n",
       "      <td>Luke Shaw</td>\n",
       "      <td>Manchester+United</td>\n",
       "      <td>22</td>\n",
       "      <td>LB</td>\n",
       "      <td>3</td>\n",
       "      <td>20.00</td>\n",
       "      <td>947</td>\n",
       "      <td>5.0</td>\n",
       "      <td>0.40%</td>\n",
       "      <td>45</td>\n",
       "      <td>1</td>\n",
       "      <td>England</td>\n",
       "      <td>0</td>\n",
       "      <td>2</td>\n",
       "      <td>12</td>\n",
       "      <td>1</td>\n",
       "      <td>0</td>\n",
       "    </tr>\n",
       "    <tr>\n",
       "      <th>294</th>\n",
       "      <td>Paul Dummett</td>\n",
       "      <td>Newcastle+United</td>\n",
       "      <td>25</td>\n",
       "      <td>LB</td>\n",
       "      <td>3</td>\n",
       "      <td>3.50</td>\n",
       "      <td>177</td>\n",
       "      <td>4.5</td>\n",
       "      <td>1.00%</td>\n",
       "      <td>0</td>\n",
       "      <td>2</td>\n",
       "      <td>Wales</td>\n",
       "      <td>0</td>\n",
       "      <td>3</td>\n",
       "      <td>13</td>\n",
       "      <td>0</td>\n",
       "      <td>0</td>\n",
       "    </tr>\n",
       "    <tr>\n",
       "      <th>298</th>\n",
       "      <td>Massadio Haidara</td>\n",
       "      <td>Newcastle+United</td>\n",
       "      <td>24</td>\n",
       "      <td>LB</td>\n",
       "      <td>3</td>\n",
       "      <td>1.50</td>\n",
       "      <td>114</td>\n",
       "      <td>4.0</td>\n",
       "      <td>0.50%</td>\n",
       "      <td>0</td>\n",
       "      <td>2</td>\n",
       "      <td>France</td>\n",
       "      <td>0</td>\n",
       "      <td>2</td>\n",
       "      <td>13</td>\n",
       "      <td>0</td>\n",
       "      <td>0</td>\n",
       "    </tr>\n",
       "    <tr>\n",
       "      <th>328</th>\n",
       "      <td>Matt Targett</td>\n",
       "      <td>Southampton</td>\n",
       "      <td>21</td>\n",
       "      <td>LB</td>\n",
       "      <td>3</td>\n",
       "      <td>3.00</td>\n",
       "      <td>110</td>\n",
       "      <td>4.5</td>\n",
       "      <td>0.20%</td>\n",
       "      <td>12</td>\n",
       "      <td>1</td>\n",
       "      <td>England</td>\n",
       "      <td>0</td>\n",
       "      <td>1</td>\n",
       "      <td>14</td>\n",
       "      <td>0</td>\n",
       "      <td>0</td>\n",
       "    </tr>\n",
       "    <tr>\n",
       "      <th>354</th>\n",
       "      <td>Josh Tymon</td>\n",
       "      <td>Stoke+City</td>\n",
       "      <td>18</td>\n",
       "      <td>LB</td>\n",
       "      <td>3</td>\n",
       "      <td>1.00</td>\n",
       "      <td>120</td>\n",
       "      <td>4.5</td>\n",
       "      <td>0.10%</td>\n",
       "      <td>9</td>\n",
       "      <td>1</td>\n",
       "      <td>England</td>\n",
       "      <td>0</td>\n",
       "      <td>1</td>\n",
       "      <td>15</td>\n",
       "      <td>0</td>\n",
       "      <td>0</td>\n",
       "    </tr>\n",
       "    <tr>\n",
       "      <th>369</th>\n",
       "      <td>Stephen Kingsley</td>\n",
       "      <td>Swansea</td>\n",
       "      <td>22</td>\n",
       "      <td>LB</td>\n",
       "      <td>3</td>\n",
       "      <td>0.75</td>\n",
       "      <td>168</td>\n",
       "      <td>4.5</td>\n",
       "      <td>0.20%</td>\n",
       "      <td>29</td>\n",
       "      <td>2</td>\n",
       "      <td>Scotland</td>\n",
       "      <td>0</td>\n",
       "      <td>2</td>\n",
       "      <td>16</td>\n",
       "      <td>0</td>\n",
       "      <td>0</td>\n",
       "    </tr>\n",
       "    <tr>\n",
       "      <th>389</th>\n",
       "      <td>Ben Davies</td>\n",
       "      <td>Tottenham</td>\n",
       "      <td>24</td>\n",
       "      <td>LB</td>\n",
       "      <td>3</td>\n",
       "      <td>12.00</td>\n",
       "      <td>396</td>\n",
       "      <td>5.5</td>\n",
       "      <td>1.80%</td>\n",
       "      <td>90</td>\n",
       "      <td>2</td>\n",
       "      <td>Wales</td>\n",
       "      <td>0</td>\n",
       "      <td>2</td>\n",
       "      <td>17</td>\n",
       "      <td>1</td>\n",
       "      <td>0</td>\n",
       "    </tr>\n",
       "    <tr>\n",
       "      <th>461</th>\n",
       "      <td>Arthur Masuaku</td>\n",
       "      <td>West+Ham</td>\n",
       "      <td>23</td>\n",
       "      <td>LB</td>\n",
       "      <td>3</td>\n",
       "      <td>7.00</td>\n",
       "      <td>199</td>\n",
       "      <td>4.5</td>\n",
       "      <td>0.20%</td>\n",
       "      <td>34</td>\n",
       "      <td>4</td>\n",
       "      <td>Congo DR</td>\n",
       "      <td>0</td>\n",
       "      <td>2</td>\n",
       "      <td>20</td>\n",
       "      <td>0</td>\n",
       "      <td>1</td>\n",
       "    </tr>\n",
       "  </tbody>\n",
       "</table>\n",
       "</div>"
      ],
      "text/plain": [
       "                 name               club  age position  position_cat  \\\n",
       "29     Sead Kolasinac            Arsenal   24       LB             3   \n",
       "54         Brad Smith        Bournemouth   23       LB             3   \n",
       "112            Kenedy            Chelsea   21       LB             3   \n",
       "128   Jeffrey Schlupp     Crystal+Palace   24       LB             3   \n",
       "212      Ben Chilwell     Leicester+City   20       LB             3   \n",
       "236    Alberto Moreno          Liverpool   25       LB             3   \n",
       "281         Luke Shaw  Manchester+United   22       LB             3   \n",
       "294      Paul Dummett   Newcastle+United   25       LB             3   \n",
       "298  Massadio Haidara   Newcastle+United   24       LB             3   \n",
       "328      Matt Targett        Southampton   21       LB             3   \n",
       "354        Josh Tymon         Stoke+City   18       LB             3   \n",
       "369  Stephen Kingsley            Swansea   22       LB             3   \n",
       "389        Ben Davies          Tottenham   24       LB             3   \n",
       "461    Arthur Masuaku           West+Ham   23       LB             3   \n",
       "\n",
       "     market_value  page_views  fpl_value fpl_sel  fpl_points  region  \\\n",
       "29          15.00         618        6.0   6.90%           0       2   \n",
       "54           2.00         297        4.0   3.30%           4       4   \n",
       "112          7.00         566        5.0   0.10%           3       3   \n",
       "128          8.00         385        5.0   0.30%          47       4   \n",
       "212          2.50         288        4.5   0.80%          19       1   \n",
       "236         10.00         397        4.5   0.30%           8       2   \n",
       "281         20.00         947        5.0   0.40%          45       1   \n",
       "294          3.50         177        4.5   1.00%           0       2   \n",
       "298          1.50         114        4.0   0.50%           0       2   \n",
       "328          3.00         110        4.5   0.20%          12       1   \n",
       "354          1.00         120        4.5   0.10%           9       1   \n",
       "369          0.75         168        4.5   0.20%          29       2   \n",
       "389         12.00         396        5.5   1.80%          90       2   \n",
       "461          7.00         199        4.5   0.20%          34       4   \n",
       "\n",
       "    nationality  new_foreign  age_cat  club_id  big_club  new_signing  \n",
       "29       Bosnia            1        2        1         1            0  \n",
       "54    Australia            0        2        2         0            0  \n",
       "112      Brazil            0        1        5         1            0  \n",
       "128       Ghana            0        2        6         0            0  \n",
       "212     England            0        1        9         0            0  \n",
       "236       Spain            0        3       10         1            0  \n",
       "281     England            0        2       12         1            0  \n",
       "294       Wales            0        3       13         0            0  \n",
       "298      France            0        2       13         0            0  \n",
       "328     England            0        1       14         0            0  \n",
       "354     England            0        1       15         0            0  \n",
       "369    Scotland            0        2       16         0            0  \n",
       "389       Wales            0        2       17         1            0  \n",
       "461    Congo DR            0        2       20         0            1  "
      ]
     },
     "execution_count": 179,
     "metadata": {},
     "output_type": "execute_result"
    }
   ],
   "source": [
    "players[(players.position == 'LB') & (players.age <=25)] # All LBs less than the age of 25\n",
    "# Alwauys put the conditions within brackets"
   ]
  },
  {
   "cell_type": "code",
   "execution_count": 182,
   "metadata": {},
   "outputs": [
    {
     "data": {
      "text/html": [
       "<div>\n",
       "<style scoped>\n",
       "    .dataframe tbody tr th:only-of-type {\n",
       "        vertical-align: middle;\n",
       "    }\n",
       "\n",
       "    .dataframe tbody tr th {\n",
       "        vertical-align: top;\n",
       "    }\n",
       "\n",
       "    .dataframe thead th {\n",
       "        text-align: right;\n",
       "    }\n",
       "</style>\n",
       "<table border=\"1\" class=\"dataframe\">\n",
       "  <thead>\n",
       "    <tr style=\"text-align: right;\">\n",
       "      <th></th>\n",
       "      <th>name</th>\n",
       "      <th>club</th>\n",
       "      <th>age</th>\n",
       "      <th>position</th>\n",
       "      <th>position_cat</th>\n",
       "      <th>market_value</th>\n",
       "      <th>page_views</th>\n",
       "      <th>fpl_value</th>\n",
       "      <th>fpl_sel</th>\n",
       "      <th>fpl_points</th>\n",
       "      <th>region</th>\n",
       "      <th>nationality</th>\n",
       "      <th>new_foreign</th>\n",
       "      <th>age_cat</th>\n",
       "      <th>club_id</th>\n",
       "      <th>big_club</th>\n",
       "      <th>new_signing</th>\n",
       "    </tr>\n",
       "  </thead>\n",
       "  <tbody>\n",
       "    <tr>\n",
       "      <th>29</th>\n",
       "      <td>Sead Kolasinac</td>\n",
       "      <td>Arsenal</td>\n",
       "      <td>24</td>\n",
       "      <td>LB</td>\n",
       "      <td>3</td>\n",
       "      <td>15.0</td>\n",
       "      <td>618</td>\n",
       "      <td>6.0</td>\n",
       "      <td>6.90%</td>\n",
       "      <td>0</td>\n",
       "      <td>2</td>\n",
       "      <td>Bosnia</td>\n",
       "      <td>1</td>\n",
       "      <td>2</td>\n",
       "      <td>1</td>\n",
       "      <td>1</td>\n",
       "      <td>0</td>\n",
       "    </tr>\n",
       "    <tr>\n",
       "      <th>41</th>\n",
       "      <td>Benik Afobe</td>\n",
       "      <td>Bournemouth</td>\n",
       "      <td>24</td>\n",
       "      <td>CF</td>\n",
       "      <td>1</td>\n",
       "      <td>10.0</td>\n",
       "      <td>528</td>\n",
       "      <td>6.0</td>\n",
       "      <td>0.70%</td>\n",
       "      <td>88</td>\n",
       "      <td>4</td>\n",
       "      <td>Congo DR</td>\n",
       "      <td>0</td>\n",
       "      <td>2</td>\n",
       "      <td>2</td>\n",
       "      <td>0</td>\n",
       "      <td>0</td>\n",
       "    </tr>\n",
       "    <tr>\n",
       "      <th>44</th>\n",
       "      <td>Callum Wilson</td>\n",
       "      <td>Bournemouth</td>\n",
       "      <td>25</td>\n",
       "      <td>CF</td>\n",
       "      <td>1</td>\n",
       "      <td>10.0</td>\n",
       "      <td>337</td>\n",
       "      <td>6.0</td>\n",
       "      <td>0.20%</td>\n",
       "      <td>63</td>\n",
       "      <td>1</td>\n",
       "      <td>England</td>\n",
       "      <td>0</td>\n",
       "      <td>3</td>\n",
       "      <td>2</td>\n",
       "      <td>0</td>\n",
       "      <td>0</td>\n",
       "    </tr>\n",
       "    <tr>\n",
       "      <th>54</th>\n",
       "      <td>Brad Smith</td>\n",
       "      <td>Bournemouth</td>\n",
       "      <td>23</td>\n",
       "      <td>LB</td>\n",
       "      <td>3</td>\n",
       "      <td>2.0</td>\n",
       "      <td>297</td>\n",
       "      <td>4.0</td>\n",
       "      <td>3.30%</td>\n",
       "      <td>4</td>\n",
       "      <td>4</td>\n",
       "      <td>Australia</td>\n",
       "      <td>0</td>\n",
       "      <td>2</td>\n",
       "      <td>2</td>\n",
       "      <td>0</td>\n",
       "      <td>0</td>\n",
       "    </tr>\n",
       "    <tr>\n",
       "      <th>80</th>\n",
       "      <td>Andre Gray</td>\n",
       "      <td>Burnley</td>\n",
       "      <td>26</td>\n",
       "      <td>CF</td>\n",
       "      <td>1</td>\n",
       "      <td>10.0</td>\n",
       "      <td>687</td>\n",
       "      <td>6.5</td>\n",
       "      <td>1.70%</td>\n",
       "      <td>108</td>\n",
       "      <td>1</td>\n",
       "      <td>England</td>\n",
       "      <td>0</td>\n",
       "      <td>3</td>\n",
       "      <td>4</td>\n",
       "      <td>0</td>\n",
       "      <td>0</td>\n",
       "    </tr>\n",
       "    <tr>\n",
       "      <th>...</th>\n",
       "      <td>...</td>\n",
       "      <td>...</td>\n",
       "      <td>...</td>\n",
       "      <td>...</td>\n",
       "      <td>...</td>\n",
       "      <td>...</td>\n",
       "      <td>...</td>\n",
       "      <td>...</td>\n",
       "      <td>...</td>\n",
       "      <td>...</td>\n",
       "      <td>...</td>\n",
       "      <td>...</td>\n",
       "      <td>...</td>\n",
       "      <td>...</td>\n",
       "      <td>...</td>\n",
       "      <td>...</td>\n",
       "      <td>...</td>\n",
       "    </tr>\n",
       "    <tr>\n",
       "      <th>453</th>\n",
       "      <td>Andy Carroll</td>\n",
       "      <td>West+Ham</td>\n",
       "      <td>28</td>\n",
       "      <td>CF</td>\n",
       "      <td>1</td>\n",
       "      <td>10.0</td>\n",
       "      <td>1212</td>\n",
       "      <td>6.0</td>\n",
       "      <td>0.40%</td>\n",
       "      <td>69</td>\n",
       "      <td>1</td>\n",
       "      <td>England</td>\n",
       "      <td>0</td>\n",
       "      <td>4</td>\n",
       "      <td>20</td>\n",
       "      <td>0</td>\n",
       "      <td>0</td>\n",
       "    </tr>\n",
       "    <tr>\n",
       "      <th>455</th>\n",
       "      <td>Aaron Cresswell</td>\n",
       "      <td>West+Ham</td>\n",
       "      <td>27</td>\n",
       "      <td>LB</td>\n",
       "      <td>3</td>\n",
       "      <td>12.0</td>\n",
       "      <td>380</td>\n",
       "      <td>5.0</td>\n",
       "      <td>1.30%</td>\n",
       "      <td>60</td>\n",
       "      <td>1</td>\n",
       "      <td>England</td>\n",
       "      <td>0</td>\n",
       "      <td>3</td>\n",
       "      <td>20</td>\n",
       "      <td>0</td>\n",
       "      <td>0</td>\n",
       "    </tr>\n",
       "    <tr>\n",
       "      <th>457</th>\n",
       "      <td>Sofiane Feghouli</td>\n",
       "      <td>West+Ham</td>\n",
       "      <td>27</td>\n",
       "      <td>RW</td>\n",
       "      <td>1</td>\n",
       "      <td>12.0</td>\n",
       "      <td>394</td>\n",
       "      <td>5.5</td>\n",
       "      <td>0.20%</td>\n",
       "      <td>55</td>\n",
       "      <td>4</td>\n",
       "      <td>Algeria</td>\n",
       "      <td>0</td>\n",
       "      <td>3</td>\n",
       "      <td>20</td>\n",
       "      <td>0</td>\n",
       "      <td>1</td>\n",
       "    </tr>\n",
       "    <tr>\n",
       "      <th>461</th>\n",
       "      <td>Arthur Masuaku</td>\n",
       "      <td>West+Ham</td>\n",
       "      <td>23</td>\n",
       "      <td>LB</td>\n",
       "      <td>3</td>\n",
       "      <td>7.0</td>\n",
       "      <td>199</td>\n",
       "      <td>4.5</td>\n",
       "      <td>0.20%</td>\n",
       "      <td>34</td>\n",
       "      <td>4</td>\n",
       "      <td>Congo DR</td>\n",
       "      <td>0</td>\n",
       "      <td>2</td>\n",
       "      <td>20</td>\n",
       "      <td>0</td>\n",
       "      <td>1</td>\n",
       "    </tr>\n",
       "    <tr>\n",
       "      <th>464</th>\n",
       "      <td>Diafra Sakho</td>\n",
       "      <td>West+Ham</td>\n",
       "      <td>27</td>\n",
       "      <td>CF</td>\n",
       "      <td>1</td>\n",
       "      <td>10.0</td>\n",
       "      <td>214</td>\n",
       "      <td>5.5</td>\n",
       "      <td>0.10%</td>\n",
       "      <td>12</td>\n",
       "      <td>4</td>\n",
       "      <td>Senegal</td>\n",
       "      <td>0</td>\n",
       "      <td>3</td>\n",
       "      <td>20</td>\n",
       "      <td>0</td>\n",
       "      <td>0</td>\n",
       "    </tr>\n",
       "  </tbody>\n",
       "</table>\n",
       "<p>147 rows × 17 columns</p>\n",
       "</div>"
      ],
      "text/plain": [
       "                 name         club  age position  position_cat  market_value  \\\n",
       "29     Sead Kolasinac      Arsenal   24       LB             3          15.0   \n",
       "41        Benik Afobe  Bournemouth   24       CF             1          10.0   \n",
       "44      Callum Wilson  Bournemouth   25       CF             1          10.0   \n",
       "54         Brad Smith  Bournemouth   23       LB             3           2.0   \n",
       "80         Andre Gray      Burnley   26       CF             1          10.0   \n",
       "..                ...          ...  ...      ...           ...           ...   \n",
       "453      Andy Carroll     West+Ham   28       CF             1          10.0   \n",
       "455   Aaron Cresswell     West+Ham   27       LB             3          12.0   \n",
       "457  Sofiane Feghouli     West+Ham   27       RW             1          12.0   \n",
       "461    Arthur Masuaku     West+Ham   23       LB             3           7.0   \n",
       "464      Diafra Sakho     West+Ham   27       CF             1          10.0   \n",
       "\n",
       "     page_views  fpl_value fpl_sel  fpl_points  region nationality  \\\n",
       "29          618        6.0   6.90%           0       2      Bosnia   \n",
       "41          528        6.0   0.70%          88       4    Congo DR   \n",
       "44          337        6.0   0.20%          63       1     England   \n",
       "54          297        4.0   3.30%           4       4   Australia   \n",
       "80          687        6.5   1.70%         108       1     England   \n",
       "..          ...        ...     ...         ...     ...         ...   \n",
       "453        1212        6.0   0.40%          69       1     England   \n",
       "455         380        5.0   1.30%          60       1     England   \n",
       "457         394        5.5   0.20%          55       4     Algeria   \n",
       "461         199        4.5   0.20%          34       4    Congo DR   \n",
       "464         214        5.5   0.10%          12       4     Senegal   \n",
       "\n",
       "     new_foreign  age_cat  club_id  big_club  new_signing  \n",
       "29             1        2        1         1            0  \n",
       "41             0        2        2         0            0  \n",
       "44             0        3        2         0            0  \n",
       "54             0        2        2         0            0  \n",
       "80             0        3        4         0            0  \n",
       "..           ...      ...      ...       ...          ...  \n",
       "453            0        4       20         0            0  \n",
       "455            0        3       20         0            0  \n",
       "457            0        3       20         0            1  \n",
       "461            0        2       20         0            1  \n",
       "464            0        3       20         0            0  \n",
       "\n",
       "[147 rows x 17 columns]"
      ]
     },
     "execution_count": 182,
     "metadata": {},
     "output_type": "execute_result"
    }
   ],
   "source": [
    "players[\n",
    "    (players.position == 'LB') & \n",
    "    (players.age <=25) ^\n",
    "    (players.market_value >= 10) & \n",
    "    ~(players.club.isin(['Tottenham', 'Arsenal']))\n",
    "] \n",
    "\n",
    "# When you have multiple conditions, it is more readable to separate it out into lines"
   ]
  },
  {
   "cell_type": "code",
   "execution_count": 183,
   "metadata": {},
   "outputs": [
    {
     "data": {
      "text/plain": [
       "0       True\n",
       "1       True\n",
       "2       True\n",
       "3       True\n",
       "4       True\n",
       "       ...  \n",
       "460    False\n",
       "461    False\n",
       "462    False\n",
       "463    False\n",
       "464    False\n",
       "Name: club, Length: 465, dtype: bool"
      ]
     },
     "execution_count": 183,
     "metadata": {},
     "output_type": "execute_result"
    }
   ],
   "source": [
    "# If you want your code to be even cleaner, use conditions as variables\n",
    "\n",
    "arsenal_player = players.club == 'Arsenal'  # This is a boolean series\n",
    "arsenal_player"
   ]
  },
  {
   "cell_type": "code",
   "execution_count": 184,
   "metadata": {},
   "outputs": [
    {
     "data": {
      "text/plain": [
       "0      False\n",
       "1      False\n",
       "2      False\n",
       "3      False\n",
       "4      False\n",
       "       ...  \n",
       "460    False\n",
       "461    False\n",
       "462     True\n",
       "463    False\n",
       "464    False\n",
       "Name: position, Length: 465, dtype: bool"
      ]
     },
     "execution_count": 184,
     "metadata": {},
     "output_type": "execute_result"
    }
   ],
   "source": [
    "right_back = players.position == 'RB'\n",
    "right_back"
   ]
  },
  {
   "cell_type": "code",
   "execution_count": 186,
   "metadata": {},
   "outputs": [
    {
     "data": {
      "text/plain": [
       "0      False\n",
       "1      False\n",
       "2      False\n",
       "3      False\n",
       "4      False\n",
       "       ...  \n",
       "460    False\n",
       "461    False\n",
       "462    False\n",
       "463    False\n",
       "464    False\n",
       "Length: 465, dtype: bool"
      ]
     },
     "execution_count": 186,
     "metadata": {},
     "output_type": "execute_result"
    }
   ],
   "source": [
    "chelsea_and_GK = (players.club == 'Chelsea') & (players.position == 'GK')\n",
    "chelsea_and_GK"
   ]
  },
  {
   "cell_type": "code",
   "execution_count": 198,
   "metadata": {},
   "outputs": [
    {
     "data": {
      "text/html": [
       "<div>\n",
       "<style scoped>\n",
       "    .dataframe tbody tr th:only-of-type {\n",
       "        vertical-align: middle;\n",
       "    }\n",
       "\n",
       "    .dataframe tbody tr th {\n",
       "        vertical-align: top;\n",
       "    }\n",
       "\n",
       "    .dataframe thead th {\n",
       "        text-align: right;\n",
       "    }\n",
       "</style>\n",
       "<table border=\"1\" class=\"dataframe\">\n",
       "  <thead>\n",
       "    <tr style=\"text-align: right;\">\n",
       "      <th></th>\n",
       "      <th>name</th>\n",
       "      <th>club</th>\n",
       "      <th>age</th>\n",
       "      <th>position</th>\n",
       "      <th>position_cat</th>\n",
       "      <th>market_value</th>\n",
       "      <th>page_views</th>\n",
       "      <th>fpl_value</th>\n",
       "      <th>fpl_sel</th>\n",
       "      <th>fpl_points</th>\n",
       "      <th>region</th>\n",
       "      <th>nationality</th>\n",
       "      <th>new_foreign</th>\n",
       "      <th>age_cat</th>\n",
       "      <th>club_id</th>\n",
       "      <th>big_club</th>\n",
       "      <th>new_signing</th>\n",
       "    </tr>\n",
       "  </thead>\n",
       "  <tbody>\n",
       "    <tr>\n",
       "      <th>5</th>\n",
       "      <td>Hector Bellerin</td>\n",
       "      <td>Arsenal</td>\n",
       "      <td>22</td>\n",
       "      <td>RB</td>\n",
       "      <td>3</td>\n",
       "      <td>30.0</td>\n",
       "      <td>1675</td>\n",
       "      <td>6.0</td>\n",
       "      <td>13.70%</td>\n",
       "      <td>119</td>\n",
       "      <td>2</td>\n",
       "      <td>Spain</td>\n",
       "      <td>0</td>\n",
       "      <td>2</td>\n",
       "      <td>1</td>\n",
       "      <td>1</td>\n",
       "      <td>0</td>\n",
       "    </tr>\n",
       "    <tr>\n",
       "      <th>27</th>\n",
       "      <td>Carl Jenkinson</td>\n",
       "      <td>Arsenal</td>\n",
       "      <td>25</td>\n",
       "      <td>RB</td>\n",
       "      <td>3</td>\n",
       "      <td>5.0</td>\n",
       "      <td>561</td>\n",
       "      <td>4.5</td>\n",
       "      <td>0.40%</td>\n",
       "      <td>2</td>\n",
       "      <td>1</td>\n",
       "      <td>England</td>\n",
       "      <td>0</td>\n",
       "      <td>3</td>\n",
       "      <td>1</td>\n",
       "      <td>1</td>\n",
       "      <td>0</td>\n",
       "    </tr>\n",
       "    <tr>\n",
       "      <th>102</th>\n",
       "      <td>Thibaut Courtois</td>\n",
       "      <td>Chelsea</td>\n",
       "      <td>25</td>\n",
       "      <td>GK</td>\n",
       "      <td>4</td>\n",
       "      <td>40.0</td>\n",
       "      <td>1260</td>\n",
       "      <td>5.5</td>\n",
       "      <td>18.50%</td>\n",
       "      <td>141</td>\n",
       "      <td>2</td>\n",
       "      <td>Belgium</td>\n",
       "      <td>0</td>\n",
       "      <td>3</td>\n",
       "      <td>5</td>\n",
       "      <td>1</td>\n",
       "      <td>0</td>\n",
       "    </tr>\n",
       "    <tr>\n",
       "      <th>109</th>\n",
       "      <td>Willy Caballero</td>\n",
       "      <td>Chelsea</td>\n",
       "      <td>35</td>\n",
       "      <td>GK</td>\n",
       "      <td>4</td>\n",
       "      <td>1.5</td>\n",
       "      <td>542</td>\n",
       "      <td>5.0</td>\n",
       "      <td>0.20%</td>\n",
       "      <td>64</td>\n",
       "      <td>3</td>\n",
       "      <td>Argentina</td>\n",
       "      <td>0</td>\n",
       "      <td>6</td>\n",
       "      <td>5</td>\n",
       "      <td>1</td>\n",
       "      <td>0</td>\n",
       "    </tr>\n",
       "  </tbody>\n",
       "</table>\n",
       "</div>"
      ],
      "text/plain": [
       "                 name     club  age position  position_cat  market_value  \\\n",
       "5     Hector Bellerin  Arsenal   22       RB             3          30.0   \n",
       "27     Carl Jenkinson  Arsenal   25       RB             3           5.0   \n",
       "102  Thibaut Courtois  Chelsea   25       GK             4          40.0   \n",
       "109   Willy Caballero  Chelsea   35       GK             4           1.5   \n",
       "\n",
       "     page_views  fpl_value fpl_sel  fpl_points  region nationality  \\\n",
       "5          1675        6.0  13.70%         119       2       Spain   \n",
       "27          561        4.5   0.40%           2       1     England   \n",
       "102        1260        5.5  18.50%         141       2     Belgium   \n",
       "109         542        5.0   0.20%          64       3   Argentina   \n",
       "\n",
       "     new_foreign  age_cat  club_id  big_club  new_signing  \n",
       "5              0        2        1         1            0  \n",
       "27             0        3        1         1            0  \n",
       "102            0        3        5         1            0  \n",
       "109            0        6        5         1            0  "
      ]
     },
     "execution_count": 198,
     "metadata": {},
     "output_type": "execute_result"
    }
   ],
   "source": [
    "players.loc[arsenal_player & right_back | chelsea_and_GK] # How neat is that\n",
    "\n",
    "# Note that one important fact is that all the individual boolean series of the conditions are the same size as the df, this is necessary"
   ]
  },
  {
   "cell_type": "markdown",
   "metadata": {},
   "source": [
    "### 2D Indexing"
   ]
  },
  {
   "cell_type": "code",
   "execution_count": 200,
   "metadata": {},
   "outputs": [
    {
     "data": {
      "text/plain": [
       "0    False\n",
       "1    False\n",
       "2    False\n",
       "3    False\n",
       "4    False\n",
       "dtype: bool"
      ]
     },
     "execution_count": 200,
     "metadata": {},
     "output_type": "execute_result"
    }
   ],
   "source": [
    "chelsea_under_23 = (players.club == 'Chelsea')  &  (players.age < 23)\n",
    "chelsea_under_23.head()"
   ]
  },
  {
   "cell_type": "code",
   "execution_count": 202,
   "metadata": {},
   "outputs": [
    {
     "data": {
      "text/html": [
       "<div>\n",
       "<style scoped>\n",
       "    .dataframe tbody tr th:only-of-type {\n",
       "        vertical-align: middle;\n",
       "    }\n",
       "\n",
       "    .dataframe tbody tr th {\n",
       "        vertical-align: top;\n",
       "    }\n",
       "\n",
       "    .dataframe thead th {\n",
       "        text-align: right;\n",
       "    }\n",
       "</style>\n",
       "<table border=\"1\" class=\"dataframe\">\n",
       "  <thead>\n",
       "    <tr style=\"text-align: right;\">\n",
       "      <th></th>\n",
       "      <th>name</th>\n",
       "      <th>club</th>\n",
       "      <th>age</th>\n",
       "      <th>position</th>\n",
       "      <th>position_cat</th>\n",
       "      <th>market_value</th>\n",
       "      <th>page_views</th>\n",
       "      <th>fpl_value</th>\n",
       "      <th>fpl_sel</th>\n",
       "      <th>fpl_points</th>\n",
       "      <th>region</th>\n",
       "      <th>nationality</th>\n",
       "      <th>new_foreign</th>\n",
       "      <th>age_cat</th>\n",
       "      <th>club_id</th>\n",
       "      <th>big_club</th>\n",
       "      <th>new_signing</th>\n",
       "    </tr>\n",
       "  </thead>\n",
       "  <tbody>\n",
       "    <tr>\n",
       "      <th>111</th>\n",
       "      <td>Kurt Zouma</td>\n",
       "      <td>Chelsea</td>\n",
       "      <td>22</td>\n",
       "      <td>CB</td>\n",
       "      <td>3</td>\n",
       "      <td>15.0</td>\n",
       "      <td>723</td>\n",
       "      <td>5.5</td>\n",
       "      <td>0.80%</td>\n",
       "      <td>15</td>\n",
       "      <td>2</td>\n",
       "      <td>France</td>\n",
       "      <td>0</td>\n",
       "      <td>2</td>\n",
       "      <td>5</td>\n",
       "      <td>1</td>\n",
       "      <td>0</td>\n",
       "    </tr>\n",
       "    <tr>\n",
       "      <th>112</th>\n",
       "      <td>Kenedy</td>\n",
       "      <td>Chelsea</td>\n",
       "      <td>21</td>\n",
       "      <td>LB</td>\n",
       "      <td>3</td>\n",
       "      <td>7.0</td>\n",
       "      <td>566</td>\n",
       "      <td>5.0</td>\n",
       "      <td>0.10%</td>\n",
       "      <td>3</td>\n",
       "      <td>3</td>\n",
       "      <td>Brazil</td>\n",
       "      <td>0</td>\n",
       "      <td>1</td>\n",
       "      <td>5</td>\n",
       "      <td>1</td>\n",
       "      <td>0</td>\n",
       "    </tr>\n",
       "    <tr>\n",
       "      <th>115</th>\n",
       "      <td>Tiemoue Bakayoko</td>\n",
       "      <td>Chelsea</td>\n",
       "      <td>22</td>\n",
       "      <td>DM</td>\n",
       "      <td>2</td>\n",
       "      <td>16.0</td>\n",
       "      <td>1011</td>\n",
       "      <td>5.0</td>\n",
       "      <td>1.60%</td>\n",
       "      <td>0</td>\n",
       "      <td>2</td>\n",
       "      <td>France</td>\n",
       "      <td>1</td>\n",
       "      <td>2</td>\n",
       "      <td>5</td>\n",
       "      <td>1</td>\n",
       "      <td>0</td>\n",
       "    </tr>\n",
       "  </tbody>\n",
       "</table>\n",
       "</div>"
      ],
      "text/plain": [
       "                 name     club  age position  position_cat  market_value  \\\n",
       "111        Kurt Zouma  Chelsea   22       CB             3          15.0   \n",
       "112            Kenedy  Chelsea   21       LB             3           7.0   \n",
       "115  Tiemoue Bakayoko  Chelsea   22       DM             2          16.0   \n",
       "\n",
       "     page_views  fpl_value fpl_sel  fpl_points  region nationality  \\\n",
       "111         723        5.5   0.80%          15       2      France   \n",
       "112         566        5.0   0.10%           3       3      Brazil   \n",
       "115        1011        5.0   1.60%           0       2      France   \n",
       "\n",
       "     new_foreign  age_cat  club_id  big_club  new_signing  \n",
       "111            0        2        5         1            0  \n",
       "112            0        1        5         1            0  \n",
       "115            1        2        5         1            0  "
      ]
     },
     "execution_count": 202,
     "metadata": {},
     "output_type": "execute_result"
    }
   ],
   "source": [
    "players.loc[chelsea_under_23]"
   ]
  },
  {
   "cell_type": "code",
   "execution_count": 204,
   "metadata": {},
   "outputs": [
    {
     "data": {
      "text/html": [
       "<div>\n",
       "<style scoped>\n",
       "    .dataframe tbody tr th:only-of-type {\n",
       "        vertical-align: middle;\n",
       "    }\n",
       "\n",
       "    .dataframe tbody tr th {\n",
       "        vertical-align: top;\n",
       "    }\n",
       "\n",
       "    .dataframe thead th {\n",
       "        text-align: right;\n",
       "    }\n",
       "</style>\n",
       "<table border=\"1\" class=\"dataframe\">\n",
       "  <thead>\n",
       "    <tr style=\"text-align: right;\">\n",
       "      <th></th>\n",
       "      <th>position</th>\n",
       "      <th>market_value</th>\n",
       "    </tr>\n",
       "  </thead>\n",
       "  <tbody>\n",
       "    <tr>\n",
       "      <th>111</th>\n",
       "      <td>CB</td>\n",
       "      <td>15.0</td>\n",
       "    </tr>\n",
       "    <tr>\n",
       "      <th>112</th>\n",
       "      <td>LB</td>\n",
       "      <td>7.0</td>\n",
       "    </tr>\n",
       "    <tr>\n",
       "      <th>115</th>\n",
       "      <td>DM</td>\n",
       "      <td>16.0</td>\n",
       "    </tr>\n",
       "  </tbody>\n",
       "</table>\n",
       "</div>"
      ],
      "text/plain": [
       "    position  market_value\n",
       "111       CB          15.0\n",
       "112       LB           7.0\n",
       "115       DM          16.0"
      ]
     },
     "execution_count": 204,
     "metadata": {},
     "output_type": "execute_result"
    }
   ],
   "source": [
    "# Now what if we wanted only some of the columns in the output of this filtering? \n",
    "\n",
    "players.loc[chelsea_under_23, ['position', 'market_value']]"
   ]
  },
  {
   "cell_type": "code",
   "execution_count": 205,
   "metadata": {},
   "outputs": [
    {
     "data": {
      "text/plain": [
       "Index(['name', 'club', 'age', 'position', 'position_cat', 'market_value',\n",
       "       'page_views', 'fpl_value', 'fpl_sel', 'fpl_points', 'region',\n",
       "       'nationality', 'new_foreign', 'age_cat', 'club_id', 'big_club',\n",
       "       'new_signing'],\n",
       "      dtype='object')"
      ]
     },
     "execution_count": 205,
     "metadata": {},
     "output_type": "execute_result"
    }
   ],
   "source": [
    "# What if we wanted all the column that start with 'p'\n",
    "\n",
    "players.columns"
   ]
  },
  {
   "cell_type": "code",
   "execution_count": 207,
   "metadata": {},
   "outputs": [
    {
     "data": {
      "text/plain": [
       "array([False, False, False,  True,  True, False,  True, False, False,\n",
       "       False, False, False, False, False, False, False, False])"
      ]
     },
     "execution_count": 207,
     "metadata": {},
     "output_type": "execute_result"
    }
   ],
   "source": [
    "players.columns.str.startswith('p')  # Notice that the length of this boolean mask matches the length of the horizontal or number of columns"
   ]
  },
  {
   "cell_type": "code",
   "execution_count": 208,
   "metadata": {},
   "outputs": [
    {
     "data": {
      "text/html": [
       "<div>\n",
       "<style scoped>\n",
       "    .dataframe tbody tr th:only-of-type {\n",
       "        vertical-align: middle;\n",
       "    }\n",
       "\n",
       "    .dataframe tbody tr th {\n",
       "        vertical-align: top;\n",
       "    }\n",
       "\n",
       "    .dataframe thead th {\n",
       "        text-align: right;\n",
       "    }\n",
       "</style>\n",
       "<table border=\"1\" class=\"dataframe\">\n",
       "  <thead>\n",
       "    <tr style=\"text-align: right;\">\n",
       "      <th></th>\n",
       "      <th>position</th>\n",
       "      <th>position_cat</th>\n",
       "      <th>page_views</th>\n",
       "    </tr>\n",
       "  </thead>\n",
       "  <tbody>\n",
       "    <tr>\n",
       "      <th>111</th>\n",
       "      <td>CB</td>\n",
       "      <td>3</td>\n",
       "      <td>723</td>\n",
       "    </tr>\n",
       "    <tr>\n",
       "      <th>112</th>\n",
       "      <td>LB</td>\n",
       "      <td>3</td>\n",
       "      <td>566</td>\n",
       "    </tr>\n",
       "    <tr>\n",
       "      <th>115</th>\n",
       "      <td>DM</td>\n",
       "      <td>2</td>\n",
       "      <td>1011</td>\n",
       "    </tr>\n",
       "  </tbody>\n",
       "</table>\n",
       "</div>"
      ],
      "text/plain": [
       "    position  position_cat  page_views\n",
       "111       CB             3         723\n",
       "112       LB             3         566\n",
       "115       DM             2        1011"
      ]
     },
     "execution_count": 208,
     "metadata": {},
     "output_type": "execute_result"
    }
   ],
   "source": [
    "p_cols = players.columns.str.startswith('p') # So this is a boolean mask now\n",
    "players.loc[chelsea_under_23, p_cols]\n",
    "# Neat"
   ]
  },
  {
   "cell_type": "code",
   "execution_count": 211,
   "metadata": {},
   "outputs": [
    {
     "name": "stdout",
     "output_type": "stream",
     "text": [
      "111    CB\n",
      "112    LB\n",
      "115    DM\n",
      "Name: position, dtype: object\n",
      "111    CB\n",
      "112    LB\n",
      "115    DM\n",
      "Name: position, dtype: object\n"
     ]
    }
   ],
   "source": [
    "# You could also what's called chaining for the same operation & the same output as .loc[,]\n",
    "\n",
    "print(players[chelsea_under_23]['position'])\n",
    "# is the same as \n",
    "print(players.loc[chelsea_under_23, 'position'])"
   ]
  },
  {
   "cell_type": "markdown",
   "metadata": {},
   "source": [
    "But under the hood, chaining is always slower than using .loc[] because getitems get called twice for chaining. \n",
    ">  So avoid chaining, use .loc[]\n",
    "\n",
    "IN SUMMARY: \n",
    "\n",
    "| Operator                                          |           What is                 | \n",
    "| :---:                                             | :---:                             |       \n",
    "| players.loc[0:2]                                  | slicing                           | \n",
    "| players.loc[players.age > 37]                     | boolean masking                   | \n",
    "| players.loc[132, 'name']                          | basic (label-based) indexing      | \n",
    "| players.loc[[0, 132], ['name, 'market_value']]    | fancy indexing                    | \n",
    "| players[players.age < 30]['position']             | chaining (avoid this)             | \n"
   ]
  },
  {
   "cell_type": "code",
   "execution_count": 215,
   "metadata": {},
   "outputs": [
    {
     "data": {
      "text/html": [
       "<div>\n",
       "<style scoped>\n",
       "    .dataframe tbody tr th:only-of-type {\n",
       "        vertical-align: middle;\n",
       "    }\n",
       "\n",
       "    .dataframe tbody tr th {\n",
       "        vertical-align: top;\n",
       "    }\n",
       "\n",
       "    .dataframe thead th {\n",
       "        text-align: right;\n",
       "    }\n",
       "</style>\n",
       "<table border=\"1\" class=\"dataframe\">\n",
       "  <thead>\n",
       "    <tr style=\"text-align: right;\">\n",
       "      <th></th>\n",
       "      <th>name</th>\n",
       "      <th>market_value</th>\n",
       "    </tr>\n",
       "  </thead>\n",
       "  <tbody>\n",
       "    <tr>\n",
       "      <th>0</th>\n",
       "      <td>Alexis Sanchez</td>\n",
       "      <td>65.0</td>\n",
       "    </tr>\n",
       "    <tr>\n",
       "      <th>132</th>\n",
       "      <td>Connor Wickham</td>\n",
       "      <td>6.0</td>\n",
       "    </tr>\n",
       "  </tbody>\n",
       "</table>\n",
       "</div>"
      ],
      "text/plain": [
       "               name  market_value\n",
       "0    Alexis Sanchez          65.0\n",
       "132  Connor Wickham           6.0"
      ]
     },
     "execution_count": 215,
     "metadata": {},
     "output_type": "execute_result"
    }
   ],
   "source": [
    "players.loc[[0, 132], ['name', 'market_value']] # fancy"
   ]
  },
  {
   "cell_type": "code",
   "execution_count": 217,
   "metadata": {},
   "outputs": [
    {
     "name": "stderr",
     "output_type": "stream",
     "text": [
      "C:\\Users\\TA972PB\\AppData\\Local\\Temp\\ipykernel_66468\\848393239.py:3: FutureWarning: The 'lookup' method is deprecated and will be removed in a future version. You can use DataFrame.melt and DataFrame.loc as a substitute.\n",
      "  players.lookup([0, 132], ['name', 'market_value'])\n"
     ]
    },
    {
     "data": {
      "text/plain": [
       "array(['Alexis Sanchez', 6.0], dtype=object)"
      ]
     },
     "execution_count": 217,
     "metadata": {},
     "output_type": "execute_result"
    }
   ],
   "source": [
    "# lookup() - this is an intersection of the labels i.e. its looking up column 'name' with index 0 and column 'market_value' with index 132\n",
    "\n",
    "players.lookup([0, 132], ['name', 'market_value'])"
   ]
  },
  {
   "cell_type": "code",
   "execution_count": 226,
   "metadata": {},
   "outputs": [
    {
     "ename": "NameError",
     "evalue": "name 'name' is not defined",
     "output_type": "error",
     "traceback": [
      "\u001b[1;31m---------------------------------------------------------------------------\u001b[0m",
      "\u001b[1;31mNameError\u001b[0m                                 Traceback (most recent call last)",
      "Cell \u001b[1;32mIn [226], line 6\u001b[0m\n\u001b[0;32m      3\u001b[0m names \u001b[38;5;241m=\u001b[39m [\u001b[38;5;124m'\u001b[39m\u001b[38;5;124mPetr Coch\u001b[39m\u001b[38;5;124m'\u001b[39m, \u001b[38;5;124m'\u001b[39m\u001b[38;5;124mMesut Ozil\u001b[39m\u001b[38;5;124m'\u001b[39m, \u001b[38;5;124m'\u001b[39m\u001b[38;5;124mAlexis Sanchez\u001b[39m\u001b[38;5;124m'\u001b[39m]\n\u001b[0;32m      4\u001b[0m attributes \u001b[38;5;241m=\u001b[39m [\u001b[38;5;124m'\u001b[39m\u001b[38;5;124mage\u001b[39m\u001b[38;5;124m'\u001b[39m, \u001b[38;5;124m'\u001b[39m\u001b[38;5;124mmarket_value\u001b[39m\u001b[38;5;124m'\u001b[39m, \u001b[38;5;124m'\u001b[39m\u001b[38;5;124mpage_views\u001b[39m\u001b[38;5;124m'\u001b[39m ]\n\u001b[1;32m----> 6\u001b[0m players\u001b[38;5;241m.\u001b[39mlookup(name, attributes)\n",
      "\u001b[1;31mNameError\u001b[0m: name 'name' is not defined"
     ]
    }
   ],
   "source": [
    "# Lets say I want to lookup the following arrtibutes of the following players resp:\n",
    "\n",
    "names = ['Petr Coch', 'Mesut Ozil', 'Alexis Sanchez']\n",
    "attributes = ['age', 'market_value', 'page_views' ]\n",
    "\n",
    "players.lookup(name, attributes)\n",
    "\n",
    "# We can't really use this because the index of the df is not the names, its the predefined default index of the df as integers"
   ]
  },
  {
   "cell_type": "code",
   "execution_count": 221,
   "metadata": {},
   "outputs": [
    {
     "data": {
      "text/plain": [
       "RangeIndex(start=0, stop=465, step=1)"
      ]
     },
     "execution_count": 221,
     "metadata": {},
     "output_type": "execute_result"
    }
   ],
   "source": [
    "players.index"
   ]
  },
  {
   "cell_type": "code",
   "execution_count": 224,
   "metadata": {},
   "outputs": [
    {
     "data": {
      "text/html": [
       "<div>\n",
       "<style scoped>\n",
       "    .dataframe tbody tr th:only-of-type {\n",
       "        vertical-align: middle;\n",
       "    }\n",
       "\n",
       "    .dataframe tbody tr th {\n",
       "        vertical-align: top;\n",
       "    }\n",
       "\n",
       "    .dataframe thead th {\n",
       "        text-align: right;\n",
       "    }\n",
       "</style>\n",
       "<table border=\"1\" class=\"dataframe\">\n",
       "  <thead>\n",
       "    <tr style=\"text-align: right;\">\n",
       "      <th></th>\n",
       "      <th>club</th>\n",
       "      <th>age</th>\n",
       "      <th>position</th>\n",
       "      <th>position_cat</th>\n",
       "      <th>market_value</th>\n",
       "      <th>page_views</th>\n",
       "      <th>fpl_value</th>\n",
       "      <th>fpl_sel</th>\n",
       "      <th>fpl_points</th>\n",
       "      <th>region</th>\n",
       "      <th>nationality</th>\n",
       "      <th>new_foreign</th>\n",
       "      <th>age_cat</th>\n",
       "      <th>club_id</th>\n",
       "      <th>big_club</th>\n",
       "      <th>new_signing</th>\n",
       "    </tr>\n",
       "    <tr>\n",
       "      <th>name</th>\n",
       "      <th></th>\n",
       "      <th></th>\n",
       "      <th></th>\n",
       "      <th></th>\n",
       "      <th></th>\n",
       "      <th></th>\n",
       "      <th></th>\n",
       "      <th></th>\n",
       "      <th></th>\n",
       "      <th></th>\n",
       "      <th></th>\n",
       "      <th></th>\n",
       "      <th></th>\n",
       "      <th></th>\n",
       "      <th></th>\n",
       "      <th></th>\n",
       "    </tr>\n",
       "  </thead>\n",
       "  <tbody>\n",
       "    <tr>\n",
       "      <th>Alexis Sanchez</th>\n",
       "      <td>Arsenal</td>\n",
       "      <td>28</td>\n",
       "      <td>LW</td>\n",
       "      <td>1</td>\n",
       "      <td>65.0</td>\n",
       "      <td>4329</td>\n",
       "      <td>12.0</td>\n",
       "      <td>17.10%</td>\n",
       "      <td>264</td>\n",
       "      <td>3</td>\n",
       "      <td>Chile</td>\n",
       "      <td>0</td>\n",
       "      <td>4</td>\n",
       "      <td>1</td>\n",
       "      <td>1</td>\n",
       "      <td>0</td>\n",
       "    </tr>\n",
       "    <tr>\n",
       "      <th>Mesut Ozil</th>\n",
       "      <td>Arsenal</td>\n",
       "      <td>28</td>\n",
       "      <td>AM</td>\n",
       "      <td>1</td>\n",
       "      <td>50.0</td>\n",
       "      <td>4395</td>\n",
       "      <td>9.5</td>\n",
       "      <td>5.60%</td>\n",
       "      <td>167</td>\n",
       "      <td>2</td>\n",
       "      <td>Germany</td>\n",
       "      <td>0</td>\n",
       "      <td>4</td>\n",
       "      <td>1</td>\n",
       "      <td>1</td>\n",
       "      <td>0</td>\n",
       "    </tr>\n",
       "    <tr>\n",
       "      <th>Petr Cech</th>\n",
       "      <td>Arsenal</td>\n",
       "      <td>35</td>\n",
       "      <td>GK</td>\n",
       "      <td>4</td>\n",
       "      <td>7.0</td>\n",
       "      <td>1529</td>\n",
       "      <td>5.5</td>\n",
       "      <td>5.90%</td>\n",
       "      <td>134</td>\n",
       "      <td>2</td>\n",
       "      <td>Czech Republic</td>\n",
       "      <td>0</td>\n",
       "      <td>6</td>\n",
       "      <td>1</td>\n",
       "      <td>1</td>\n",
       "      <td>0</td>\n",
       "    </tr>\n",
       "    <tr>\n",
       "      <th>Theo Walcott</th>\n",
       "      <td>Arsenal</td>\n",
       "      <td>28</td>\n",
       "      <td>RW</td>\n",
       "      <td>1</td>\n",
       "      <td>20.0</td>\n",
       "      <td>2393</td>\n",
       "      <td>7.5</td>\n",
       "      <td>1.50%</td>\n",
       "      <td>122</td>\n",
       "      <td>1</td>\n",
       "      <td>England</td>\n",
       "      <td>0</td>\n",
       "      <td>4</td>\n",
       "      <td>1</td>\n",
       "      <td>1</td>\n",
       "      <td>0</td>\n",
       "    </tr>\n",
       "    <tr>\n",
       "      <th>Laurent Koscielny</th>\n",
       "      <td>Arsenal</td>\n",
       "      <td>31</td>\n",
       "      <td>CB</td>\n",
       "      <td>3</td>\n",
       "      <td>22.0</td>\n",
       "      <td>912</td>\n",
       "      <td>6.0</td>\n",
       "      <td>0.70%</td>\n",
       "      <td>121</td>\n",
       "      <td>2</td>\n",
       "      <td>France</td>\n",
       "      <td>0</td>\n",
       "      <td>4</td>\n",
       "      <td>1</td>\n",
       "      <td>1</td>\n",
       "      <td>0</td>\n",
       "    </tr>\n",
       "    <tr>\n",
       "      <th>...</th>\n",
       "      <td>...</td>\n",
       "      <td>...</td>\n",
       "      <td>...</td>\n",
       "      <td>...</td>\n",
       "      <td>...</td>\n",
       "      <td>...</td>\n",
       "      <td>...</td>\n",
       "      <td>...</td>\n",
       "      <td>...</td>\n",
       "      <td>...</td>\n",
       "      <td>...</td>\n",
       "      <td>...</td>\n",
       "      <td>...</td>\n",
       "      <td>...</td>\n",
       "      <td>...</td>\n",
       "      <td>...</td>\n",
       "    </tr>\n",
       "    <tr>\n",
       "      <th>Edimilson Fernandes</th>\n",
       "      <td>West+Ham</td>\n",
       "      <td>21</td>\n",
       "      <td>CM</td>\n",
       "      <td>2</td>\n",
       "      <td>5.0</td>\n",
       "      <td>288</td>\n",
       "      <td>4.5</td>\n",
       "      <td>0.40%</td>\n",
       "      <td>38</td>\n",
       "      <td>2</td>\n",
       "      <td>Switzerland</td>\n",
       "      <td>0</td>\n",
       "      <td>1</td>\n",
       "      <td>20</td>\n",
       "      <td>0</td>\n",
       "      <td>1</td>\n",
       "    </tr>\n",
       "    <tr>\n",
       "      <th>Arthur Masuaku</th>\n",
       "      <td>West+Ham</td>\n",
       "      <td>23</td>\n",
       "      <td>LB</td>\n",
       "      <td>3</td>\n",
       "      <td>7.0</td>\n",
       "      <td>199</td>\n",
       "      <td>4.5</td>\n",
       "      <td>0.20%</td>\n",
       "      <td>34</td>\n",
       "      <td>4</td>\n",
       "      <td>Congo DR</td>\n",
       "      <td>0</td>\n",
       "      <td>2</td>\n",
       "      <td>20</td>\n",
       "      <td>0</td>\n",
       "      <td>1</td>\n",
       "    </tr>\n",
       "    <tr>\n",
       "      <th>Sam Byram</th>\n",
       "      <td>West+Ham</td>\n",
       "      <td>23</td>\n",
       "      <td>RB</td>\n",
       "      <td>3</td>\n",
       "      <td>4.5</td>\n",
       "      <td>198</td>\n",
       "      <td>4.5</td>\n",
       "      <td>0.30%</td>\n",
       "      <td>29</td>\n",
       "      <td>1</td>\n",
       "      <td>England</td>\n",
       "      <td>0</td>\n",
       "      <td>2</td>\n",
       "      <td>20</td>\n",
       "      <td>0</td>\n",
       "      <td>0</td>\n",
       "    </tr>\n",
       "    <tr>\n",
       "      <th>Ashley Fletcher</th>\n",
       "      <td>West+Ham</td>\n",
       "      <td>21</td>\n",
       "      <td>CF</td>\n",
       "      <td>1</td>\n",
       "      <td>1.0</td>\n",
       "      <td>412</td>\n",
       "      <td>4.5</td>\n",
       "      <td>5.90%</td>\n",
       "      <td>16</td>\n",
       "      <td>1</td>\n",
       "      <td>England</td>\n",
       "      <td>0</td>\n",
       "      <td>1</td>\n",
       "      <td>20</td>\n",
       "      <td>0</td>\n",
       "      <td>1</td>\n",
       "    </tr>\n",
       "    <tr>\n",
       "      <th>Diafra Sakho</th>\n",
       "      <td>West+Ham</td>\n",
       "      <td>27</td>\n",
       "      <td>CF</td>\n",
       "      <td>1</td>\n",
       "      <td>10.0</td>\n",
       "      <td>214</td>\n",
       "      <td>5.5</td>\n",
       "      <td>0.10%</td>\n",
       "      <td>12</td>\n",
       "      <td>4</td>\n",
       "      <td>Senegal</td>\n",
       "      <td>0</td>\n",
       "      <td>3</td>\n",
       "      <td>20</td>\n",
       "      <td>0</td>\n",
       "      <td>0</td>\n",
       "    </tr>\n",
       "  </tbody>\n",
       "</table>\n",
       "<p>465 rows × 16 columns</p>\n",
       "</div>"
      ],
      "text/plain": [
       "                         club  age position  position_cat  market_value  \\\n",
       "name                                                                      \n",
       "Alexis Sanchez        Arsenal   28       LW             1          65.0   \n",
       "Mesut Ozil            Arsenal   28       AM             1          50.0   \n",
       "Petr Cech             Arsenal   35       GK             4           7.0   \n",
       "Theo Walcott          Arsenal   28       RW             1          20.0   \n",
       "Laurent Koscielny     Arsenal   31       CB             3          22.0   \n",
       "...                       ...  ...      ...           ...           ...   \n",
       "Edimilson Fernandes  West+Ham   21       CM             2           5.0   \n",
       "Arthur Masuaku       West+Ham   23       LB             3           7.0   \n",
       "Sam Byram            West+Ham   23       RB             3           4.5   \n",
       "Ashley Fletcher      West+Ham   21       CF             1           1.0   \n",
       "Diafra Sakho         West+Ham   27       CF             1          10.0   \n",
       "\n",
       "                     page_views  fpl_value fpl_sel  fpl_points  region  \\\n",
       "name                                                                     \n",
       "Alexis Sanchez             4329       12.0  17.10%         264       3   \n",
       "Mesut Ozil                 4395        9.5   5.60%         167       2   \n",
       "Petr Cech                  1529        5.5   5.90%         134       2   \n",
       "Theo Walcott               2393        7.5   1.50%         122       1   \n",
       "Laurent Koscielny           912        6.0   0.70%         121       2   \n",
       "...                         ...        ...     ...         ...     ...   \n",
       "Edimilson Fernandes         288        4.5   0.40%          38       2   \n",
       "Arthur Masuaku              199        4.5   0.20%          34       4   \n",
       "Sam Byram                   198        4.5   0.30%          29       1   \n",
       "Ashley Fletcher             412        4.5   5.90%          16       1   \n",
       "Diafra Sakho                214        5.5   0.10%          12       4   \n",
       "\n",
       "                        nationality  new_foreign  age_cat  club_id  big_club  \\\n",
       "name                                                                           \n",
       "Alexis Sanchez                Chile            0        4        1         1   \n",
       "Mesut Ozil                  Germany            0        4        1         1   \n",
       "Petr Cech            Czech Republic            0        6        1         1   \n",
       "Theo Walcott                England            0        4        1         1   \n",
       "Laurent Koscielny            France            0        4        1         1   \n",
       "...                             ...          ...      ...      ...       ...   \n",
       "Edimilson Fernandes     Switzerland            0        1       20         0   \n",
       "Arthur Masuaku             Congo DR            0        2       20         0   \n",
       "Sam Byram                   England            0        2       20         0   \n",
       "Ashley Fletcher             England            0        1       20         0   \n",
       "Diafra Sakho                Senegal            0        3       20         0   \n",
       "\n",
       "                     new_signing  \n",
       "name                              \n",
       "Alexis Sanchez                 0  \n",
       "Mesut Ozil                     0  \n",
       "Petr Cech                      0  \n",
       "Theo Walcott                   0  \n",
       "Laurent Koscielny              0  \n",
       "...                          ...  \n",
       "Edimilson Fernandes            1  \n",
       "Arthur Masuaku                 1  \n",
       "Sam Byram                      0  \n",
       "Ashley Fletcher                1  \n",
       "Diafra Sakho                   0  \n",
       "\n",
       "[465 rows x 16 columns]"
      ]
     },
     "execution_count": 224,
     "metadata": {},
     "output_type": "execute_result"
    }
   ],
   "source": [
    "players.set_index('name')"
   ]
  },
  {
   "cell_type": "code",
   "execution_count": 227,
   "metadata": {},
   "outputs": [
    {
     "name": "stderr",
     "output_type": "stream",
     "text": [
      "C:\\Users\\TA972PB\\AppData\\Local\\Temp\\ipykernel_66468\\4137716727.py:1: FutureWarning: The 'lookup' method is deprecated and will be removed in a future version. You can use DataFrame.melt and DataFrame.loc as a substitute.\n",
      "  players.set_index('name').lookup(names, attributes)\n"
     ]
    },
    {
     "ename": "ValueError",
     "evalue": "DataFrame.lookup requires unique index and columns",
     "output_type": "error",
     "traceback": [
      "\u001b[1;31m---------------------------------------------------------------------------\u001b[0m",
      "\u001b[1;31mValueError\u001b[0m                                Traceback (most recent call last)",
      "Cell \u001b[1;32mIn [227], line 1\u001b[0m\n\u001b[1;32m----> 1\u001b[0m players\u001b[38;5;241m.\u001b[39mset_index(\u001b[38;5;124m'\u001b[39m\u001b[38;5;124mname\u001b[39m\u001b[38;5;124m'\u001b[39m)\u001b[38;5;241m.\u001b[39mlookup(names, attributes)\n",
      "File \u001b[1;32mc:\\Users\\TA972PB\\AppData\\Local\\Programs\\Python\\Python310\\lib\\site-packages\\pandas\\core\\frame.py:4959\u001b[0m, in \u001b[0;36mDataFrame.lookup\u001b[1;34m(self, row_labels, col_labels)\u001b[0m\n\u001b[0;32m   4956\u001b[0m     \u001b[38;5;28;01mraise\u001b[39;00m \u001b[38;5;167;01mValueError\u001b[39;00m(\u001b[38;5;124m\"\u001b[39m\u001b[38;5;124mRow labels must have same size as column labels\u001b[39m\u001b[38;5;124m\"\u001b[39m)\n\u001b[0;32m   4957\u001b[0m \u001b[38;5;28;01mif\u001b[39;00m \u001b[38;5;129;01mnot\u001b[39;00m (\u001b[38;5;28mself\u001b[39m\u001b[38;5;241m.\u001b[39mindex\u001b[38;5;241m.\u001b[39mis_unique \u001b[38;5;129;01mand\u001b[39;00m \u001b[38;5;28mself\u001b[39m\u001b[38;5;241m.\u001b[39mcolumns\u001b[38;5;241m.\u001b[39mis_unique):\n\u001b[0;32m   4958\u001b[0m     \u001b[38;5;66;03m# GH#33041\u001b[39;00m\n\u001b[1;32m-> 4959\u001b[0m     \u001b[38;5;28;01mraise\u001b[39;00m \u001b[38;5;167;01mValueError\u001b[39;00m(\u001b[38;5;124m\"\u001b[39m\u001b[38;5;124mDataFrame.lookup requires unique index and columns\u001b[39m\u001b[38;5;124m\"\u001b[39m)\n\u001b[0;32m   4961\u001b[0m thresh \u001b[38;5;241m=\u001b[39m \u001b[38;5;241m1000\u001b[39m\n\u001b[0;32m   4962\u001b[0m \u001b[38;5;28;01mif\u001b[39;00m \u001b[38;5;129;01mnot\u001b[39;00m \u001b[38;5;28mself\u001b[39m\u001b[38;5;241m.\u001b[39m_is_mixed_type \u001b[38;5;129;01mor\u001b[39;00m n \u001b[38;5;241m>\u001b[39m thresh:\n",
      "\u001b[1;31mValueError\u001b[0m: DataFrame.lookup requires unique index and columns"
     ]
    }
   ],
   "source": [
    "players.set_index('name').lookup(names, attributes)\n",
    "# Ok I don't know what's wrong here"
   ]
  },
  {
   "cell_type": "markdown",
   "metadata": {},
   "source": [
    "### Sorting"
   ]
  },
  {
   "cell_type": "code",
   "execution_count": 6,
   "metadata": {},
   "outputs": [
    {
     "data": {
      "text/html": [
       "<div>\n",
       "<style scoped>\n",
       "    .dataframe tbody tr th:only-of-type {\n",
       "        vertical-align: middle;\n",
       "    }\n",
       "\n",
       "    .dataframe tbody tr th {\n",
       "        vertical-align: top;\n",
       "    }\n",
       "\n",
       "    .dataframe thead th {\n",
       "        text-align: right;\n",
       "    }\n",
       "</style>\n",
       "<table border=\"1\" class=\"dataframe\">\n",
       "  <thead>\n",
       "    <tr style=\"text-align: right;\">\n",
       "      <th></th>\n",
       "      <th>name</th>\n",
       "      <th>club</th>\n",
       "      <th>age</th>\n",
       "      <th>position</th>\n",
       "      <th>position_cat</th>\n",
       "      <th>market_value</th>\n",
       "      <th>page_views</th>\n",
       "      <th>fpl_value</th>\n",
       "      <th>fpl_sel</th>\n",
       "      <th>fpl_points</th>\n",
       "      <th>region</th>\n",
       "      <th>nationality</th>\n",
       "      <th>new_foreign</th>\n",
       "      <th>age_cat</th>\n",
       "      <th>club_id</th>\n",
       "      <th>big_club</th>\n",
       "      <th>new_signing</th>\n",
       "    </tr>\n",
       "  </thead>\n",
       "  <tbody>\n",
       "    <tr>\n",
       "      <th>96</th>\n",
       "      <td>Eden Hazard</td>\n",
       "      <td>Chelsea</td>\n",
       "      <td>26</td>\n",
       "      <td>LW</td>\n",
       "      <td>1</td>\n",
       "      <td>75.00</td>\n",
       "      <td>4220</td>\n",
       "      <td>10.5</td>\n",
       "      <td>2.30%</td>\n",
       "      <td>224</td>\n",
       "      <td>2</td>\n",
       "      <td>Belgium</td>\n",
       "      <td>0</td>\n",
       "      <td>3</td>\n",
       "      <td>5</td>\n",
       "      <td>1</td>\n",
       "      <td>0</td>\n",
       "    </tr>\n",
       "    <tr>\n",
       "      <th>267</th>\n",
       "      <td>Paul Pogba</td>\n",
       "      <td>Manchester+United</td>\n",
       "      <td>24</td>\n",
       "      <td>CM</td>\n",
       "      <td>2</td>\n",
       "      <td>75.00</td>\n",
       "      <td>7435</td>\n",
       "      <td>8.0</td>\n",
       "      <td>19.50%</td>\n",
       "      <td>115</td>\n",
       "      <td>2</td>\n",
       "      <td>France</td>\n",
       "      <td>0</td>\n",
       "      <td>2</td>\n",
       "      <td>12</td>\n",
       "      <td>1</td>\n",
       "      <td>1</td>\n",
       "    </tr>\n",
       "    <tr>\n",
       "      <th>0</th>\n",
       "      <td>Alexis Sanchez</td>\n",
       "      <td>Arsenal</td>\n",
       "      <td>28</td>\n",
       "      <td>LW</td>\n",
       "      <td>1</td>\n",
       "      <td>65.00</td>\n",
       "      <td>4329</td>\n",
       "      <td>12.0</td>\n",
       "      <td>17.10%</td>\n",
       "      <td>264</td>\n",
       "      <td>3</td>\n",
       "      <td>Chile</td>\n",
       "      <td>0</td>\n",
       "      <td>4</td>\n",
       "      <td>1</td>\n",
       "      <td>1</td>\n",
       "      <td>0</td>\n",
       "    </tr>\n",
       "    <tr>\n",
       "      <th>244</th>\n",
       "      <td>Kevin De Bruyne</td>\n",
       "      <td>Manchester+City</td>\n",
       "      <td>26</td>\n",
       "      <td>AM</td>\n",
       "      <td>1</td>\n",
       "      <td>65.00</td>\n",
       "      <td>2252</td>\n",
       "      <td>10.0</td>\n",
       "      <td>17.50%</td>\n",
       "      <td>199</td>\n",
       "      <td>2</td>\n",
       "      <td>Belgium</td>\n",
       "      <td>0</td>\n",
       "      <td>3</td>\n",
       "      <td>11</td>\n",
       "      <td>1</td>\n",
       "      <td>0</td>\n",
       "    </tr>\n",
       "    <tr>\n",
       "      <th>245</th>\n",
       "      <td>Sergio Aguero</td>\n",
       "      <td>Manchester+City</td>\n",
       "      <td>29</td>\n",
       "      <td>CF</td>\n",
       "      <td>1</td>\n",
       "      <td>65.00</td>\n",
       "      <td>4046</td>\n",
       "      <td>11.5</td>\n",
       "      <td>9.70%</td>\n",
       "      <td>175</td>\n",
       "      <td>3</td>\n",
       "      <td>Argentina</td>\n",
       "      <td>0</td>\n",
       "      <td>4</td>\n",
       "      <td>11</td>\n",
       "      <td>1</td>\n",
       "      <td>0</td>\n",
       "    </tr>\n",
       "    <tr>\n",
       "      <th>...</th>\n",
       "      <td>...</td>\n",
       "      <td>...</td>\n",
       "      <td>...</td>\n",
       "      <td>...</td>\n",
       "      <td>...</td>\n",
       "      <td>...</td>\n",
       "      <td>...</td>\n",
       "      <td>...</td>\n",
       "      <td>...</td>\n",
       "      <td>...</td>\n",
       "      <td>...</td>\n",
       "      <td>...</td>\n",
       "      <td>...</td>\n",
       "      <td>...</td>\n",
       "      <td>...</td>\n",
       "      <td>...</td>\n",
       "      <td>...</td>\n",
       "    </tr>\n",
       "    <tr>\n",
       "      <th>287</th>\n",
       "      <td>Joel Castro Pereira</td>\n",
       "      <td>Manchester+United</td>\n",
       "      <td>21</td>\n",
       "      <td>GK</td>\n",
       "      <td>4</td>\n",
       "      <td>0.10</td>\n",
       "      <td>395</td>\n",
       "      <td>4.0</td>\n",
       "      <td>1.00%</td>\n",
       "      <td>6</td>\n",
       "      <td>2</td>\n",
       "      <td>Portugal</td>\n",
       "      <td>0</td>\n",
       "      <td>1</td>\n",
       "      <td>12</td>\n",
       "      <td>1</td>\n",
       "      <td>0</td>\n",
       "    </tr>\n",
       "    <tr>\n",
       "      <th>113</th>\n",
       "      <td>Eduardo Carvalho</td>\n",
       "      <td>Chelsea</td>\n",
       "      <td>34</td>\n",
       "      <td>LW</td>\n",
       "      <td>1</td>\n",
       "      <td>0.05</td>\n",
       "      <td>467</td>\n",
       "      <td>5.0</td>\n",
       "      <td>0.10%</td>\n",
       "      <td>0</td>\n",
       "      <td>2</td>\n",
       "      <td>Portugal</td>\n",
       "      <td>0</td>\n",
       "      <td>6</td>\n",
       "      <td>5</td>\n",
       "      <td>1</td>\n",
       "      <td>1</td>\n",
       "    </tr>\n",
       "    <tr>\n",
       "      <th>30</th>\n",
       "      <td>Granit Xhaka</td>\n",
       "      <td>Arsenal</td>\n",
       "      <td>24</td>\n",
       "      <td>NaN</td>\n",
       "      <td>2</td>\n",
       "      <td>NaN</td>\n",
       "      <td>1815</td>\n",
       "      <td>5.5</td>\n",
       "      <td>2.00%</td>\n",
       "      <td>85</td>\n",
       "      <td>2</td>\n",
       "      <td>Switzerland</td>\n",
       "      <td>0</td>\n",
       "      <td>2</td>\n",
       "      <td>1</td>\n",
       "      <td>1</td>\n",
       "      <td>0</td>\n",
       "    </tr>\n",
       "    <tr>\n",
       "      <th>192</th>\n",
       "      <td>Steve Mounie</td>\n",
       "      <td>Huddersfield</td>\n",
       "      <td>22</td>\n",
       "      <td>CF</td>\n",
       "      <td>1</td>\n",
       "      <td>NaN</td>\n",
       "      <td>56</td>\n",
       "      <td>6.0</td>\n",
       "      <td>0.60%</td>\n",
       "      <td>0</td>\n",
       "      <td>2</td>\n",
       "      <td>Benin</td>\n",
       "      <td>0</td>\n",
       "      <td>2</td>\n",
       "      <td>8</td>\n",
       "      <td>0</td>\n",
       "      <td>0</td>\n",
       "    </tr>\n",
       "    <tr>\n",
       "      <th>195</th>\n",
       "      <td>Kasper Schmeichel</td>\n",
       "      <td>Leicester+City</td>\n",
       "      <td>30</td>\n",
       "      <td>GK</td>\n",
       "      <td>4</td>\n",
       "      <td>NaN</td>\n",
       "      <td>1601</td>\n",
       "      <td>5.0</td>\n",
       "      <td>2.40%</td>\n",
       "      <td>109</td>\n",
       "      <td>2</td>\n",
       "      <td>Denmark</td>\n",
       "      <td>0</td>\n",
       "      <td>4</td>\n",
       "      <td>9</td>\n",
       "      <td>0</td>\n",
       "      <td>0</td>\n",
       "    </tr>\n",
       "  </tbody>\n",
       "</table>\n",
       "<p>465 rows × 17 columns</p>\n",
       "</div>"
      ],
      "text/plain": [
       "                    name               club  age position  position_cat  \\\n",
       "96           Eden Hazard            Chelsea   26       LW             1   \n",
       "267           Paul Pogba  Manchester+United   24       CM             2   \n",
       "0         Alexis Sanchez            Arsenal   28       LW             1   \n",
       "244      Kevin De Bruyne    Manchester+City   26       AM             1   \n",
       "245        Sergio Aguero    Manchester+City   29       CF             1   \n",
       "..                   ...                ...  ...      ...           ...   \n",
       "287  Joel Castro Pereira  Manchester+United   21       GK             4   \n",
       "113     Eduardo Carvalho            Chelsea   34       LW             1   \n",
       "30          Granit Xhaka            Arsenal   24      NaN             2   \n",
       "192         Steve Mounie       Huddersfield   22       CF             1   \n",
       "195    Kasper Schmeichel     Leicester+City   30       GK             4   \n",
       "\n",
       "     market_value  page_views  fpl_value fpl_sel  fpl_points  region  \\\n",
       "96          75.00        4220       10.5   2.30%         224       2   \n",
       "267         75.00        7435        8.0  19.50%         115       2   \n",
       "0           65.00        4329       12.0  17.10%         264       3   \n",
       "244         65.00        2252       10.0  17.50%         199       2   \n",
       "245         65.00        4046       11.5   9.70%         175       3   \n",
       "..            ...         ...        ...     ...         ...     ...   \n",
       "287          0.10         395        4.0   1.00%           6       2   \n",
       "113          0.05         467        5.0   0.10%           0       2   \n",
       "30            NaN        1815        5.5   2.00%          85       2   \n",
       "192           NaN          56        6.0   0.60%           0       2   \n",
       "195           NaN        1601        5.0   2.40%         109       2   \n",
       "\n",
       "     nationality  new_foreign  age_cat  club_id  big_club  new_signing  \n",
       "96       Belgium            0        3        5         1            0  \n",
       "267       France            0        2       12         1            1  \n",
       "0          Chile            0        4        1         1            0  \n",
       "244      Belgium            0        3       11         1            0  \n",
       "245    Argentina            0        4       11         1            0  \n",
       "..           ...          ...      ...      ...       ...          ...  \n",
       "287     Portugal            0        1       12         1            0  \n",
       "113     Portugal            0        6        5         1            1  \n",
       "30   Switzerland            0        2        1         1            0  \n",
       "192        Benin            0        2        8         0            0  \n",
       "195      Denmark            0        4        9         0            0  \n",
       "\n",
       "[465 rows x 17 columns]"
      ]
     },
     "execution_count": 6,
     "metadata": {},
     "output_type": "execute_result"
    }
   ],
   "source": [
    "players.sort_values(by='market_value', ascending=False)"
   ]
  },
  {
   "cell_type": "code",
   "execution_count": 7,
   "metadata": {},
   "outputs": [
    {
     "data": {
      "text/plain": [
       "RangeIndex(start=0, stop=465, step=1)"
      ]
     },
     "execution_count": 7,
     "metadata": {},
     "output_type": "execute_result"
    }
   ],
   "source": [
    "players.index"
   ]
  },
  {
   "cell_type": "code",
   "execution_count": 8,
   "metadata": {},
   "outputs": [],
   "source": [
    "players.set_index('name', inplace = True)"
   ]
  },
  {
   "cell_type": "code",
   "execution_count": 9,
   "metadata": {},
   "outputs": [
    {
     "data": {
      "text/plain": [
       "Index(['Alexis Sanchez', 'Mesut Ozil', 'Petr Cech', 'Theo Walcott',\n",
       "       'Laurent Koscielny', 'Hector Bellerin', 'Olivier Giroud',\n",
       "       'Nacho Monreal', 'Shkodran Mustafi', 'Alex Iwobi',\n",
       "       ...\n",
       "       'Aaron Cresswell', 'Pedro Obiang', 'Sofiane Feghouli', 'Angelo Ogbonna',\n",
       "       'Pablo Zabaleta', 'Edimilson Fernandes', 'Arthur Masuaku', 'Sam Byram',\n",
       "       'Ashley Fletcher', 'Diafra Sakho'],\n",
       "      dtype='object', name='name', length=465)"
      ]
     },
     "execution_count": 9,
     "metadata": {},
     "output_type": "execute_result"
    }
   ],
   "source": [
    "players.index"
   ]
  },
  {
   "cell_type": "code",
   "execution_count": 14,
   "metadata": {},
   "outputs": [],
   "source": [
    "players.sort_index(inplace = True)"
   ]
  },
  {
   "cell_type": "markdown",
   "metadata": {},
   "source": [
    "### Exercises "
   ]
  },
  {
   "cell_type": "code",
   "execution_count": null,
   "metadata": {},
   "outputs": [],
   "source": []
  },
  {
   "cell_type": "markdown",
   "metadata": {},
   "source": [
    "#### Exercise 1"
   ]
  },
  {
   "cell_type": "code",
   "execution_count": 68,
   "metadata": {},
   "outputs": [
    {
     "data": {
      "text/plain": [
       "A    20\n",
       "B    30\n",
       "C    40\n",
       "Name: actors, dtype: int64"
      ]
     },
     "execution_count": 68,
     "metadata": {},
     "output_type": "execute_result"
    }
   ],
   "source": [
    "# Exercise 1\n",
    "\n",
    "actor_names = ['A', 'B', 'C']\n",
    "actor_ages = [20,30,40]\n",
    "\n",
    "actor_series = pd.Series(actor_ages, index = actor_names, name = 'actors')\n",
    "actor_series"
   ]
  },
  {
   "cell_type": "code",
   "execution_count": 69,
   "metadata": {},
   "outputs": [
    {
     "data": {
      "text/plain": [
       "A    20\n",
       "B    30\n",
       "C    40\n",
       "Name: actors, dtype: int64"
      ]
     },
     "execution_count": 69,
     "metadata": {},
     "output_type": "execute_result"
    }
   ],
   "source": [
    "# If you were to do the above with a ditionary instead \n",
    "zip(actor_names, actor_ages)  # zip() gives an iterable tuples \n",
    "list(zip(actor_names, actor_ages)) # List of tuples \n",
    "actors_dict = dict(zip(actor_names, actor_ages)) # Dictionary generated from lists \n",
    "actors_dict\n",
    "\n",
    "# You can also use dictionary comprehension for the same \n",
    "actors_dict = {name:age for name, age in zip(actor_names, actor_ages)}\n",
    "actors_dict\n",
    "\n",
    "actor_series = pd.Series(actors_dict, name = 'actors') # Series created from a dictionary\n",
    "actor_series"
   ]
  },
  {
   "cell_type": "markdown",
   "metadata": {},
   "source": [
    "#### Exercise 2"
   ]
  },
  {
   "cell_type": "code",
   "execution_count": 70,
   "metadata": {},
   "outputs": [
    {
     "data": {
      "text/plain": [
       "False"
      ]
     },
     "execution_count": 70,
     "metadata": {},
     "output_type": "execute_result"
    }
   ],
   "source": [
    "# Exercise 2 \n",
    "\n",
    "squares = pd.Series([x**2 for x in range(0,100)])\n",
    "a = squares[-3:]\n",
    "b = squares.tail()\n",
    "a.equals(b)"
   ]
  },
  {
   "cell_type": "markdown",
   "metadata": {},
   "source": [
    "#### Exercise 3"
   ]
  },
  {
   "cell_type": "code",
   "execution_count": 71,
   "metadata": {},
   "outputs": [
    {
     "data": {
      "text/plain": [
       "2416.0"
      ]
     },
     "execution_count": 71,
     "metadata": {},
     "output_type": "execute_result"
    }
   ],
   "source": [
    "# Exercise 3 \n",
    "\n",
    "wine_servings = alcohol.loc[alcohol.notnull()]\n",
    "wine_servings.sum() \n",
    "\n",
    "# Total wine consumed by countries that consumed less than 100 servings \n",
    "wine_servings < 100  # This returns a boolean mask \n",
    "\n",
    "wine_servings.loc[wine_servings < 100].sum()"
   ]
  },
  {
   "cell_type": "markdown",
   "metadata": {},
   "source": [
    "#### Exercise 4"
   ]
  },
  {
   "cell_type": "code",
   "execution_count": 27,
   "metadata": {},
   "outputs": [
    {
     "data": {
      "text/plain": [
       "count     20.000000\n",
       "mean      74.250000\n",
       "std       19.072921\n",
       "min       51.000000\n",
       "25%       58.250000\n",
       "50%       73.500000\n",
       "75%       84.500000\n",
       "max      113.000000\n",
       "Name: wine_servings, dtype: float64"
      ]
     },
     "execution_count": 27,
     "metadata": {},
     "output_type": "execute_result"
    }
   ],
   "source": [
    "# Exercise 4 \n",
    "\n",
    "fifty_plus = alcohol[alcohol > 50]\n",
    "fiftyplus_smallest10 = fifty_plus.nsmallest(n=20)\n",
    "\n",
    "fiftyplus_smallest10.describe()\n"
   ]
  },
  {
   "cell_type": "markdown",
   "metadata": {},
   "source": [
    "#### Exercise 5"
   ]
  },
  {
   "cell_type": "code",
   "execution_count": 97,
   "metadata": {},
   "outputs": [],
   "source": [
    "# Exercice 5 \n",
    "\n",
    "beers = pd.read_csv('drinks.csv', usecols = ['country', 'beer_servings'], index_col = 'country').squeeze() # Putting the beer servings into a new series"
   ]
  },
  {
   "cell_type": "code",
   "execution_count": 99,
   "metadata": {},
   "outputs": [
    {
     "data": {
      "text/plain": [
       "count    178.000000\n",
       "mean     102.870787\n",
       "std      100.645713\n",
       "min        1.000000\n",
       "25%       21.000000\n",
       "50%       60.000000\n",
       "75%      172.500000\n",
       "max      376.000000\n",
       "Name: beer_servings, dtype: float64"
      ]
     },
     "execution_count": 99,
     "metadata": {},
     "output_type": "execute_result"
    }
   ],
   "source": [
    "beers.describe()"
   ]
  },
  {
   "cell_type": "code",
   "execution_count": 101,
   "metadata": {},
   "outputs": [
    {
     "data": {
      "text/plain": [
       "<AxesSubplot: >"
      ]
     },
     "execution_count": 101,
     "metadata": {},
     "output_type": "execute_result"
    },
    {
     "data": {
      "image/png": "[encoded data removed]",
      "text/plain": [
       "<Figure size 640x480 with 1 Axes>"
      ]
     },
     "metadata": {},
     "output_type": "display_data"
    }
   ],
   "source": [
    "beers.hist() # The distribution is right skewed"
   ]
  },
  {
   "cell_type": "code",
   "execution_count": 105,
   "metadata": {},
   "outputs": [
    {
     "data": {
      "text/plain": [
       "country\n",
       "Afghanistan                 NaN\n",
       "Albania              -13.870787\n",
       "Algeria              -77.870787\n",
       "Andorra              142.129213\n",
       "Angola               114.129213\n",
       "Antigua & Barbuda    -90.870787\n",
       "Argentina             90.129213\n",
       "Armenia              -81.870787\n",
       "Australia            158.129213\n",
       "Austria              176.129213\n",
       "Name: beer_servings, dtype: float64"
      ]
     },
     "execution_count": 105,
     "metadata": {},
     "output_type": "execute_result"
    }
   ],
   "source": [
    "beers.iloc[:10].subtract(beers.mean())  # Are the first 10 countries relatively large or small as compared to the rest of the sample?"
   ]
  },
  {
   "cell_type": "code",
   "execution_count": 112,
   "metadata": {},
   "outputs": [
    {
     "data": {
      "text/plain": [
       "country\n",
       "Afghanistan          high\n",
       "Albania               low\n",
       "Algeria               low\n",
       "Andorra              high\n",
       "Angola               high\n",
       "Antigua & Barbuda     low\n",
       "Argentina            high\n",
       "Armenia               low\n",
       "Australia            high\n",
       "Austria              high\n",
       "Name: beer_servings, dtype: object"
      ]
     },
     "execution_count": 112,
     "metadata": {},
     "output_type": "execute_result"
    }
   ],
   "source": [
    "# You can visualise this better with some custom labels \n",
    "\n",
    "(beers[:10] - beers.mean()).apply(lambda x : 'low' if x < 0 else 'high')"
   ]
  },
  {
   "cell_type": "markdown",
   "metadata": {},
   "source": [
    "Calculating z-scores or standard scores for the above example: \n",
    "\n",
    "z = xi - xbar/ sd\n",
    "\n"
   ]
  },
  {
   "cell_type": "code",
   "execution_count": 118,
   "metadata": {},
   "outputs": [],
   "source": [
    "# Calculating the z-scores in a new series\n",
    "\n",
    "z_scores = (beers - beers.mean()) / beers.std()\n"
   ]
  },
  {
   "cell_type": "code",
   "execution_count": 119,
   "metadata": {},
   "outputs": [
    {
     "data": {
      "text/plain": [
       "country\n",
       "Afghanistan         NaN\n",
       "Albania       -0.137818\n",
       "Algeria       -0.773712\n",
       "Andorra        1.412174\n",
       "Angola         1.133970\n",
       "                 ...   \n",
       "Venezuela      2.286528\n",
       "Vietnam        0.080771\n",
       "Yemen         -0.962493\n",
       "Zambia        -0.704161\n",
       "Zimbabwe      -0.386214\n",
       "Name: beer_servings, Length: 193, dtype: float64"
      ]
     },
     "execution_count": 119,
     "metadata": {},
     "output_type": "execute_result"
    }
   ],
   "source": [
    "z_scores"
   ]
  },
  {
   "cell_type": "code",
   "execution_count": 120,
   "metadata": {},
   "outputs": [
    {
     "data": {
      "text/plain": [
       "country\n",
       "Afghanistan         NaN\n",
       "Albania        0.137818\n",
       "Algeria        0.773712\n",
       "Andorra        1.412174\n",
       "Angola         1.133970\n",
       "                 ...   \n",
       "Venezuela      2.286528\n",
       "Vietnam        0.080771\n",
       "Yemen          0.962493\n",
       "Zambia         0.704161\n",
       "Zimbabwe       0.386214\n",
       "Name: beer_servings, Length: 193, dtype: float64"
      ]
     },
     "execution_count": 120,
     "metadata": {},
     "output_type": "execute_result"
    }
   ],
   "source": [
    "z_scores.abs() # Absolute values"
   ]
  },
  {
   "cell_type": "code",
   "execution_count": 123,
   "metadata": {},
   "outputs": [
    {
     "data": {
      "text/plain": [
       "2.713768984410912"
      ]
     },
     "execution_count": 123,
     "metadata": {},
     "output_type": "execute_result"
    }
   ],
   "source": [
    "z_scores.abs().max()"
   ]
  },
  {
   "cell_type": "code",
   "execution_count": 124,
   "metadata": {},
   "outputs": [
    {
     "data": {
      "text/plain": [
       "'Namibia'"
      ]
     },
     "execution_count": 124,
     "metadata": {},
     "output_type": "execute_result"
    }
   ],
   "source": [
    "# What's the country with the max z score? \n",
    "\n",
    "z_scores.abs().idxmax()"
   ]
  },
  {
   "cell_type": "code",
   "execution_count": 125,
   "metadata": {},
   "outputs": [],
   "source": [
    "# The largest absolute z-score is 0.026963 \n",
    "# Is this a positive or negative deviation? \n",
    "\n",
    "# Positive deviation."
   ]
  },
  {
   "cell_type": "markdown",
   "metadata": {},
   "source": [
    "#### Exercise 6"
   ]
  },
  {
   "cell_type": "code",
   "execution_count": 189,
   "metadata": {},
   "outputs": [
    {
     "data": {
      "text/html": [
       "<div>\n",
       "<style scoped>\n",
       "    .dataframe tbody tr th:only-of-type {\n",
       "        vertical-align: middle;\n",
       "    }\n",
       "\n",
       "    .dataframe tbody tr th {\n",
       "        vertical-align: top;\n",
       "    }\n",
       "\n",
       "    .dataframe thead th {\n",
       "        text-align: right;\n",
       "    }\n",
       "</style>\n",
       "<table border=\"1\" class=\"dataframe\">\n",
       "  <thead>\n",
       "    <tr style=\"text-align: right;\">\n",
       "      <th></th>\n",
       "      <th>name</th>\n",
       "      <th>club</th>\n",
       "      <th>age</th>\n",
       "      <th>position</th>\n",
       "      <th>position_cat</th>\n",
       "      <th>market_value</th>\n",
       "      <th>page_views</th>\n",
       "      <th>fpl_value</th>\n",
       "      <th>fpl_sel</th>\n",
       "      <th>fpl_points</th>\n",
       "      <th>region</th>\n",
       "      <th>nationality</th>\n",
       "      <th>new_foreign</th>\n",
       "      <th>age_cat</th>\n",
       "      <th>club_id</th>\n",
       "      <th>big_club</th>\n",
       "      <th>new_signing</th>\n",
       "    </tr>\n",
       "  </thead>\n",
       "  <tbody>\n",
       "    <tr>\n",
       "      <th>0</th>\n",
       "      <td>Alexis Sanchez</td>\n",
       "      <td>Arsenal</td>\n",
       "      <td>28</td>\n",
       "      <td>LW</td>\n",
       "      <td>1</td>\n",
       "      <td>65.0</td>\n",
       "      <td>4329</td>\n",
       "      <td>12.0</td>\n",
       "      <td>17.10%</td>\n",
       "      <td>264</td>\n",
       "      <td>3</td>\n",
       "      <td>Chile</td>\n",
       "      <td>0</td>\n",
       "      <td>4</td>\n",
       "      <td>1</td>\n",
       "      <td>1</td>\n",
       "      <td>0</td>\n",
       "    </tr>\n",
       "    <tr>\n",
       "      <th>1</th>\n",
       "      <td>Mesut Ozil</td>\n",
       "      <td>Arsenal</td>\n",
       "      <td>28</td>\n",
       "      <td>AM</td>\n",
       "      <td>1</td>\n",
       "      <td>50.0</td>\n",
       "      <td>4395</td>\n",
       "      <td>9.5</td>\n",
       "      <td>5.60%</td>\n",
       "      <td>167</td>\n",
       "      <td>2</td>\n",
       "      <td>Germany</td>\n",
       "      <td>0</td>\n",
       "      <td>4</td>\n",
       "      <td>1</td>\n",
       "      <td>1</td>\n",
       "      <td>0</td>\n",
       "    </tr>\n",
       "    <tr>\n",
       "      <th>2</th>\n",
       "      <td>Petr Cech</td>\n",
       "      <td>Arsenal</td>\n",
       "      <td>35</td>\n",
       "      <td>GK</td>\n",
       "      <td>4</td>\n",
       "      <td>7.0</td>\n",
       "      <td>1529</td>\n",
       "      <td>5.5</td>\n",
       "      <td>5.90%</td>\n",
       "      <td>134</td>\n",
       "      <td>2</td>\n",
       "      <td>Czech Republic</td>\n",
       "      <td>0</td>\n",
       "      <td>6</td>\n",
       "      <td>1</td>\n",
       "      <td>1</td>\n",
       "      <td>0</td>\n",
       "    </tr>\n",
       "    <tr>\n",
       "      <th>3</th>\n",
       "      <td>Theo Walcott</td>\n",
       "      <td>Arsenal</td>\n",
       "      <td>28</td>\n",
       "      <td>RW</td>\n",
       "      <td>1</td>\n",
       "      <td>20.0</td>\n",
       "      <td>2393</td>\n",
       "      <td>7.5</td>\n",
       "      <td>1.50%</td>\n",
       "      <td>122</td>\n",
       "      <td>1</td>\n",
       "      <td>England</td>\n",
       "      <td>0</td>\n",
       "      <td>4</td>\n",
       "      <td>1</td>\n",
       "      <td>1</td>\n",
       "      <td>0</td>\n",
       "    </tr>\n",
       "    <tr>\n",
       "      <th>4</th>\n",
       "      <td>Laurent Koscielny</td>\n",
       "      <td>Arsenal</td>\n",
       "      <td>31</td>\n",
       "      <td>CB</td>\n",
       "      <td>3</td>\n",
       "      <td>22.0</td>\n",
       "      <td>912</td>\n",
       "      <td>6.0</td>\n",
       "      <td>0.70%</td>\n",
       "      <td>121</td>\n",
       "      <td>2</td>\n",
       "      <td>France</td>\n",
       "      <td>0</td>\n",
       "      <td>4</td>\n",
       "      <td>1</td>\n",
       "      <td>1</td>\n",
       "      <td>0</td>\n",
       "    </tr>\n",
       "  </tbody>\n",
       "</table>\n",
       "</div>"
      ],
      "text/plain": [
       "                name     club  age position  position_cat  market_value  \\\n",
       "0     Alexis Sanchez  Arsenal   28       LW             1          65.0   \n",
       "1         Mesut Ozil  Arsenal   28       AM             1          50.0   \n",
       "2          Petr Cech  Arsenal   35       GK             4           7.0   \n",
       "3       Theo Walcott  Arsenal   28       RW             1          20.0   \n",
       "4  Laurent Koscielny  Arsenal   31       CB             3          22.0   \n",
       "\n",
       "   page_views  fpl_value fpl_sel  fpl_points  region     nationality  \\\n",
       "0        4329       12.0  17.10%         264       3           Chile   \n",
       "1        4395        9.5   5.60%         167       2         Germany   \n",
       "2        1529        5.5   5.90%         134       2  Czech Republic   \n",
       "3        2393        7.5   1.50%         122       1         England   \n",
       "4         912        6.0   0.70%         121       2          France   \n",
       "\n",
       "   new_foreign  age_cat  club_id  big_club  new_signing  \n",
       "0            0        4        1         1            0  \n",
       "1            0        4        1         1            0  \n",
       "2            0        6        1         1            0  \n",
       "3            0        4        1         1            0  \n",
       "4            0        4        1         1            0  "
      ]
     },
     "execution_count": 189,
     "metadata": {},
     "output_type": "execute_result"
    }
   ],
   "source": [
    "players.head()"
   ]
  },
  {
   "cell_type": "code",
   "execution_count": 196,
   "metadata": {},
   "outputs": [],
   "source": [
    "english = players.nationality == 'England'\n",
    "above_average = players.market_value > (players.market_value.mean() * 2) \n",
    "popular_xor_new = (players.page_views > 4000) ^ (players.new_signing == 1)"
   ]
  },
  {
   "cell_type": "code",
   "execution_count": 197,
   "metadata": {},
   "outputs": [
    {
     "data": {
      "text/html": [
       "<div>\n",
       "<style scoped>\n",
       "    .dataframe tbody tr th:only-of-type {\n",
       "        vertical-align: middle;\n",
       "    }\n",
       "\n",
       "    .dataframe tbody tr th {\n",
       "        vertical-align: top;\n",
       "    }\n",
       "\n",
       "    .dataframe thead th {\n",
       "        text-align: right;\n",
       "    }\n",
       "</style>\n",
       "<table border=\"1\" class=\"dataframe\">\n",
       "  <thead>\n",
       "    <tr style=\"text-align: right;\">\n",
       "      <th></th>\n",
       "      <th>name</th>\n",
       "      <th>club</th>\n",
       "      <th>age</th>\n",
       "      <th>position</th>\n",
       "      <th>position_cat</th>\n",
       "      <th>market_value</th>\n",
       "      <th>page_views</th>\n",
       "      <th>fpl_value</th>\n",
       "      <th>fpl_sel</th>\n",
       "      <th>fpl_points</th>\n",
       "      <th>region</th>\n",
       "      <th>nationality</th>\n",
       "      <th>new_foreign</th>\n",
       "      <th>age_cat</th>\n",
       "      <th>club_id</th>\n",
       "      <th>big_club</th>\n",
       "      <th>new_signing</th>\n",
       "    </tr>\n",
       "  </thead>\n",
       "  <tbody>\n",
       "    <tr>\n",
       "      <th>256</th>\n",
       "      <td>John Stones</td>\n",
       "      <td>Manchester+City</td>\n",
       "      <td>23</td>\n",
       "      <td>CB</td>\n",
       "      <td>3</td>\n",
       "      <td>35.0</td>\n",
       "      <td>1078</td>\n",
       "      <td>5.5</td>\n",
       "      <td>2.30%</td>\n",
       "      <td>59</td>\n",
       "      <td>1</td>\n",
       "      <td>England</td>\n",
       "      <td>0</td>\n",
       "      <td>2</td>\n",
       "      <td>11</td>\n",
       "      <td>1</td>\n",
       "      <td>1</td>\n",
       "    </tr>\n",
       "    <tr>\n",
       "      <th>380</th>\n",
       "      <td>Dele Alli</td>\n",
       "      <td>Tottenham</td>\n",
       "      <td>21</td>\n",
       "      <td>CM</td>\n",
       "      <td>2</td>\n",
       "      <td>45.0</td>\n",
       "      <td>4626</td>\n",
       "      <td>9.5</td>\n",
       "      <td>38.60%</td>\n",
       "      <td>225</td>\n",
       "      <td>1</td>\n",
       "      <td>England</td>\n",
       "      <td>0</td>\n",
       "      <td>1</td>\n",
       "      <td>17</td>\n",
       "      <td>1</td>\n",
       "      <td>0</td>\n",
       "    </tr>\n",
       "    <tr>\n",
       "      <th>381</th>\n",
       "      <td>Harry Kane</td>\n",
       "      <td>Tottenham</td>\n",
       "      <td>23</td>\n",
       "      <td>CF</td>\n",
       "      <td>1</td>\n",
       "      <td>60.0</td>\n",
       "      <td>4161</td>\n",
       "      <td>12.5</td>\n",
       "      <td>35.10%</td>\n",
       "      <td>224</td>\n",
       "      <td>1</td>\n",
       "      <td>England</td>\n",
       "      <td>0</td>\n",
       "      <td>2</td>\n",
       "      <td>17</td>\n",
       "      <td>1</td>\n",
       "      <td>0</td>\n",
       "    </tr>\n",
       "  </tbody>\n",
       "</table>\n",
       "</div>"
      ],
      "text/plain": [
       "            name             club  age position  position_cat  market_value  \\\n",
       "256  John Stones  Manchester+City   23       CB             3          35.0   \n",
       "380    Dele Alli        Tottenham   21       CM             2          45.0   \n",
       "381   Harry Kane        Tottenham   23       CF             1          60.0   \n",
       "\n",
       "     page_views  fpl_value fpl_sel  fpl_points  region nationality  \\\n",
       "256        1078        5.5   2.30%          59       1     England   \n",
       "380        4626        9.5  38.60%         225       1     England   \n",
       "381        4161       12.5  35.10%         224       1     England   \n",
       "\n",
       "     new_foreign  age_cat  club_id  big_club  new_signing  \n",
       "256            0        2       11         1            1  \n",
       "380            0        1       17         1            0  \n",
       "381            0        2       17         1            0  "
      ]
     },
     "execution_count": 197,
     "metadata": {},
     "output_type": "execute_result"
    }
   ],
   "source": [
    "players[english & above_average & popular_xor_new]"
   ]
  },
  {
   "cell_type": "markdown",
   "metadata": {},
   "source": [
    "#### Exercise 7"
   ]
  },
  {
   "cell_type": "code",
   "execution_count": null,
   "metadata": {},
   "outputs": [],
   "source": []
  }
 ],
 "metadata": {
  "kernelspec": {
   "display_name": "Python 3",
   "language": "python",
   "name": "python3"
  },
  "language_info": {
   "codemirror_mode": {
    "name": "ipython",
    "version": 3
   },
   "file_extension": ".py",
   "mimetype": "text/x-python",
   "name": "python",
   "nbconvert_exporter": "python",
   "pygments_lexer": "ipython3",
   "version": "3.10.7"
  }
 },
 "nbformat": 4,
 "nbformat_minor": 2
}
