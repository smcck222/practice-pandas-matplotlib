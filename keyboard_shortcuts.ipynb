{
 "cells": [
  {
   "cell_type": "markdown",
   "metadata": {},
   "source": [
    "### Jupyter Notebook Shortcuts"
   ]
  },
  {
   "cell_type": "markdown",
   "metadata": {},
   "source": [
    "There are 2 modes in Jupyter Notebooks: \n",
    "\n",
    "1. **Command Mode** - not selected\n",
    "2. **Edit Mode** - this is where its selected and you can type etc\n",
    "\n",
    "When you are in command mode: \n",
    "\n",
    "* 'Enter' to go to edit mode \n",
    "* 'u' to create a code cell uppder\n",
    "* 'b' to create a code cell below\n",
    "* 'dd' to delete the code/markdown cell\n",
    "* 'm' to convert code cell to markdown cell\n",
    "* 'y' to convery markdown cell to code cell\n",
    "* Use arrows to move up and down cells\n",
    "* 'Shift' + Up/Down arrows to select/deselect cells \n",
    "* 'c' to copy selected cells\n",
    "* 'v' to paste selected cells\n",
    "* 'z' to undo cell level changes like creation/delete of cell or copy etc\n",
    "\n",
    "When you are in edit mode: \n",
    "\n",
    "* 'Esc' to go to command mode\n",
    "* Shift + Enter - run cell and go to next cell \n",
    "* Ctrl + Enter - run cell and stay in same cell \n",
    "* Ctrl + Shift + L/R Arrows to select a line word by word\n",
    "* Ctrl + Shift + U/D Arrows to select/deselect line by line \n",
    "* Shift + L/R Arrows to select character by character \n",
    "* Ctrl + 'z' - undo edit changes\n",
    "* If you want to comment a line or a selected group of lines - Ctrl + /\n",
    "* Uncomment - Ctrl + / again\n",
    "* Move selected line up and down \n",
    "\n",
    "Others: \n",
    "\n",
    "* Go to notebook search bar - Ctrl + Shift + p\n",
    "* Bring up the terminal - Ctrl + '\n",
    "* This automatically opens with '>' - this mode is for operations like creating/deleting cell etc \n",
    "* Remove the '>' to turn it into a file search - use this to navigate to different notebooks\n",
    "* Open/Collapse side bar - Ctrl + b\n",
    "* How to move a cell up and down"
   ]
  },
  {
   "cell_type": "markdown",
   "metadata": {},
   "source": [
    "### SSMS Shortcuts"
   ]
  },
  {
   "cell_type": "markdown",
   "metadata": {},
   "source": [
    "* Ctrl + k + c - comment out a line or a group of lines\n",
    "* Ctrl + k + u - uncomment \n"
   ]
  },
  {
   "cell_type": "markdown",
   "metadata": {},
   "source": []
  }
 ],
 "metadata": {
  "kernelspec": {
   "display_name": "Python 3",
   "language": "python",
   "name": "python3"
  },
  "language_info": {
   "name": "python",
   "version": "3.10.7"
  }
 },
 "nbformat": 4,
 "nbformat_minor": 2
}
